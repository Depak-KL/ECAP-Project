{
 "cells": [
  {
   "cell_type": "markdown",
   "metadata": {},
   "source": [
    "# Prediction of Final Density of Titanium Powders Consolidated by Equal Channel Angular Pressing Using Machine Learning Methods"
   ]
  },
  {
   "cell_type": "markdown",
   "metadata": {},
   "source": [
    "#### •\tFinite Element Analysis of ECAP Consolidation of Titanium powders through simulations using STFC DEFORM 2D software for different process parameters are carried out.\n"
   ]
  },
  {
   "cell_type": "markdown",
   "metadata": {},
   "source": [
    "#### •\tA dataset is generated using various combinations of process parameters and the results obtained from the Finite Element Analysis."
   ]
  },
  {
   "cell_type": "markdown",
   "metadata": {},
   "source": [
    "#### •\tVarious data visualisation techniques will be used to study the influence of input parameteres on the final density of the workpiece."
   ]
  },
  {
   "cell_type": "code",
   "execution_count": 1,
   "metadata": {},
   "outputs": [],
   "source": [
    "# Importing the necessary packages \n",
    "\n",
    "import pandas as pd\n",
    "import seaborn as sns   \n",
    "import matplotlib.pyplot as plt  \n",
    "%matplotlib inline "
   ]
  },
  {
   "cell_type": "code",
   "execution_count": 2,
   "metadata": {},
   "outputs": [],
   "source": [
    "# importing the dataset\n",
    "df = pd.read_excel(\"ECAP Dataset.xlsx\")"
   ]
  },
  {
   "cell_type": "markdown",
   "metadata": {},
   "source": [
    "## Understanding the dataset"
   ]
  },
  {
   "cell_type": "code",
   "execution_count": 3,
   "metadata": {
    "scrolled": true
   },
   "outputs": [
    {
     "data": {
      "text/html": [
       "<div>\n",
       "<style scoped>\n",
       "    .dataframe tbody tr th:only-of-type {\n",
       "        vertical-align: middle;\n",
       "    }\n",
       "\n",
       "    .dataframe tbody tr th {\n",
       "        vertical-align: top;\n",
       "    }\n",
       "\n",
       "    .dataframe thead th {\n",
       "        text-align: right;\n",
       "    }\n",
       "</style>\n",
       "<table border=\"1\" class=\"dataframe\">\n",
       "  <thead>\n",
       "    <tr style=\"text-align: right;\">\n",
       "      <th></th>\n",
       "      <th>Corner Angle</th>\n",
       "      <th>Temperature</th>\n",
       "      <th>Speed</th>\n",
       "      <th>Friction Factor</th>\n",
       "      <th>Temp of die</th>\n",
       "      <th>Material</th>\n",
       "      <th>Initial Density</th>\n",
       "      <th>Back Pressure</th>\n",
       "      <th>Max Load</th>\n",
       "      <th>Final Volume</th>\n",
       "      <th>Final Density</th>\n",
       "      <th>Density Percentage</th>\n",
       "    </tr>\n",
       "  </thead>\n",
       "  <tbody>\n",
       "    <tr>\n",
       "      <th>0</th>\n",
       "      <td>10</td>\n",
       "      <td>300</td>\n",
       "      <td>1.0</td>\n",
       "      <td>0.05</td>\n",
       "      <td>20</td>\n",
       "      <td>TI-10V-2Fe-3Al</td>\n",
       "      <td>0.5</td>\n",
       "      <td>200</td>\n",
       "      <td>22381.20</td>\n",
       "      <td>3217.2600</td>\n",
       "      <td>0.783275</td>\n",
       "      <td>78.327521</td>\n",
       "    </tr>\n",
       "    <tr>\n",
       "      <th>1</th>\n",
       "      <td>30</td>\n",
       "      <td>150</td>\n",
       "      <td>0.5</td>\n",
       "      <td>0.05</td>\n",
       "      <td>200</td>\n",
       "      <td>TI-10V-2Fe-3Al</td>\n",
       "      <td>0.8</td>\n",
       "      <td>200</td>\n",
       "      <td>109092.60</td>\n",
       "      <td>3698.1003</td>\n",
       "      <td>1.090290</td>\n",
       "      <td>109.028952</td>\n",
       "    </tr>\n",
       "    <tr>\n",
       "      <th>2</th>\n",
       "      <td>40</td>\n",
       "      <td>300</td>\n",
       "      <td>1.0</td>\n",
       "      <td>0.05</td>\n",
       "      <td>20</td>\n",
       "      <td>TI-10V-2Fe-3Al</td>\n",
       "      <td>0.5</td>\n",
       "      <td>200</td>\n",
       "      <td>24382.80</td>\n",
       "      <td>3181.5900</td>\n",
       "      <td>0.792057</td>\n",
       "      <td>79.205680</td>\n",
       "    </tr>\n",
       "    <tr>\n",
       "      <th>3</th>\n",
       "      <td>0</td>\n",
       "      <td>300</td>\n",
       "      <td>1.0</td>\n",
       "      <td>0.01</td>\n",
       "      <td>20</td>\n",
       "      <td>TI-10V-2Fe-3Al</td>\n",
       "      <td>0.5</td>\n",
       "      <td>200</td>\n",
       "      <td>31172.40</td>\n",
       "      <td>2819.6700</td>\n",
       "      <td>0.893722</td>\n",
       "      <td>89.372161</td>\n",
       "    </tr>\n",
       "    <tr>\n",
       "      <th>4</th>\n",
       "      <td>0</td>\n",
       "      <td>300</td>\n",
       "      <td>1.0</td>\n",
       "      <td>0.10</td>\n",
       "      <td>20</td>\n",
       "      <td>TI-10V-2Fe-3Al</td>\n",
       "      <td>0.5</td>\n",
       "      <td>200</td>\n",
       "      <td>90846.00</td>\n",
       "      <td>2304.6300</td>\n",
       "      <td>1.093451</td>\n",
       "      <td>109.345101</td>\n",
       "    </tr>\n",
       "    <tr>\n",
       "      <th>5</th>\n",
       "      <td>60</td>\n",
       "      <td>100</td>\n",
       "      <td>2.0</td>\n",
       "      <td>0.05</td>\n",
       "      <td>200</td>\n",
       "      <td>TI-13C11Cr3Al</td>\n",
       "      <td>0.8</td>\n",
       "      <td>200</td>\n",
       "      <td>85752.84</td>\n",
       "      <td>3731.0646</td>\n",
       "      <td>1.080657</td>\n",
       "      <td>108.065671</td>\n",
       "    </tr>\n",
       "    <tr>\n",
       "      <th>6</th>\n",
       "      <td>0</td>\n",
       "      <td>300</td>\n",
       "      <td>2.0</td>\n",
       "      <td>0.05</td>\n",
       "      <td>20</td>\n",
       "      <td>TI-10V-2Fe-3Al</td>\n",
       "      <td>0.5</td>\n",
       "      <td>200</td>\n",
       "      <td>89893.20</td>\n",
       "      <td>2322.0300</td>\n",
       "      <td>1.085257</td>\n",
       "      <td>108.525730</td>\n",
       "    </tr>\n",
       "    <tr>\n",
       "      <th>7</th>\n",
       "      <td>20</td>\n",
       "      <td>300</td>\n",
       "      <td>1.0</td>\n",
       "      <td>0.07</td>\n",
       "      <td>20</td>\n",
       "      <td>TI-10V-2Fe-3Al</td>\n",
       "      <td>0.5</td>\n",
       "      <td>200</td>\n",
       "      <td>44000.40</td>\n",
       "      <td>2775.3000</td>\n",
       "      <td>0.908010</td>\n",
       "      <td>90.800994</td>\n",
       "    </tr>\n",
       "    <tr>\n",
       "      <th>8</th>\n",
       "      <td>80</td>\n",
       "      <td>250</td>\n",
       "      <td>1.0</td>\n",
       "      <td>0.05</td>\n",
       "      <td>50</td>\n",
       "      <td>TI-13C11Cr3Al</td>\n",
       "      <td>0.5</td>\n",
       "      <td>200</td>\n",
       "      <td>23928.00</td>\n",
       "      <td>3188.5500</td>\n",
       "      <td>0.790328</td>\n",
       "      <td>79.032789</td>\n",
       "    </tr>\n",
       "    <tr>\n",
       "      <th>9</th>\n",
       "      <td>0</td>\n",
       "      <td>200</td>\n",
       "      <td>1.0</td>\n",
       "      <td>0.05</td>\n",
       "      <td>20</td>\n",
       "      <td>TI-10V-2Fe-3Al</td>\n",
       "      <td>0.5</td>\n",
       "      <td>200</td>\n",
       "      <td>101228.40</td>\n",
       "      <td>2335.9500</td>\n",
       "      <td>1.078790</td>\n",
       "      <td>107.879021</td>\n",
       "    </tr>\n",
       "    <tr>\n",
       "      <th>10</th>\n",
       "      <td>70</td>\n",
       "      <td>450</td>\n",
       "      <td>2.0</td>\n",
       "      <td>0.07</td>\n",
       "      <td>80</td>\n",
       "      <td>TI-10V-2Fe-3Al</td>\n",
       "      <td>0.6</td>\n",
       "      <td>200</td>\n",
       "      <td>28288.80</td>\n",
       "      <td>3299.8143</td>\n",
       "      <td>0.916415</td>\n",
       "      <td>91.641521</td>\n",
       "    </tr>\n",
       "    <tr>\n",
       "      <th>11</th>\n",
       "      <td>40</td>\n",
       "      <td>350</td>\n",
       "      <td>1.0</td>\n",
       "      <td>0.06</td>\n",
       "      <td>500</td>\n",
       "      <td>TI-13C11Cr3Al</td>\n",
       "      <td>0.9</td>\n",
       "      <td>200</td>\n",
       "      <td>98407.08</td>\n",
       "      <td>4080.9177</td>\n",
       "      <td>1.111515</td>\n",
       "      <td>111.151470</td>\n",
       "    </tr>\n",
       "    <tr>\n",
       "      <th>12</th>\n",
       "      <td>40</td>\n",
       "      <td>550</td>\n",
       "      <td>0.5</td>\n",
       "      <td>0.07</td>\n",
       "      <td>60</td>\n",
       "      <td>TI-13C11Cr3Al</td>\n",
       "      <td>0.5</td>\n",
       "      <td>200</td>\n",
       "      <td>24245.88</td>\n",
       "      <td>2984.2131</td>\n",
       "      <td>0.844444</td>\n",
       "      <td>84.444372</td>\n",
       "    </tr>\n",
       "    <tr>\n",
       "      <th>13</th>\n",
       "      <td>90</td>\n",
       "      <td>200</td>\n",
       "      <td>0.5</td>\n",
       "      <td>0.07</td>\n",
       "      <td>60</td>\n",
       "      <td>TI-10V-2Fe-3Al</td>\n",
       "      <td>0.6</td>\n",
       "      <td>200</td>\n",
       "      <td>39187.20</td>\n",
       "      <td>3282.5100</td>\n",
       "      <td>0.921246</td>\n",
       "      <td>92.124624</td>\n",
       "    </tr>\n",
       "    <tr>\n",
       "      <th>14</th>\n",
       "      <td>0</td>\n",
       "      <td>200</td>\n",
       "      <td>1.0</td>\n",
       "      <td>0.05</td>\n",
       "      <td>20</td>\n",
       "      <td>TI-10V-2Fe-3Al</td>\n",
       "      <td>0.5</td>\n",
       "      <td>0</td>\n",
       "      <td>84357.00</td>\n",
       "      <td>2685.0000</td>\n",
       "      <td>0.938547</td>\n",
       "      <td>93.854749</td>\n",
       "    </tr>\n",
       "  </tbody>\n",
       "</table>\n",
       "</div>"
      ],
      "text/plain": [
       "    Corner Angle  Temperature  Speed   Friction Factor  Temp of die  \\\n",
       "0             10          300     1.0             0.05           20   \n",
       "1             30          150     0.5             0.05          200   \n",
       "2             40          300     1.0             0.05           20   \n",
       "3              0          300     1.0             0.01           20   \n",
       "4              0          300     1.0             0.10           20   \n",
       "5             60          100     2.0             0.05          200   \n",
       "6              0          300     2.0             0.05           20   \n",
       "7             20          300     1.0             0.07           20   \n",
       "8             80          250     1.0             0.05           50   \n",
       "9              0          200     1.0             0.05           20   \n",
       "10            70          450     2.0             0.07           80   \n",
       "11            40          350     1.0             0.06          500   \n",
       "12            40          550     0.5             0.07           60   \n",
       "13            90          200     0.5             0.07           60   \n",
       "14             0          200     1.0             0.05           20   \n",
       "\n",
       "          Material  Initial Density  Back Pressure   Max Load  Final Volume  \\\n",
       "0   TI-10V-2Fe-3Al              0.5            200   22381.20     3217.2600   \n",
       "1   TI-10V-2Fe-3Al              0.8            200  109092.60     3698.1003   \n",
       "2   TI-10V-2Fe-3Al              0.5            200   24382.80     3181.5900   \n",
       "3   TI-10V-2Fe-3Al              0.5            200   31172.40     2819.6700   \n",
       "4   TI-10V-2Fe-3Al              0.5            200   90846.00     2304.6300   \n",
       "5    TI-13C11Cr3Al              0.8            200   85752.84     3731.0646   \n",
       "6   TI-10V-2Fe-3Al              0.5            200   89893.20     2322.0300   \n",
       "7   TI-10V-2Fe-3Al              0.5            200   44000.40     2775.3000   \n",
       "8    TI-13C11Cr3Al              0.5            200   23928.00     3188.5500   \n",
       "9   TI-10V-2Fe-3Al              0.5            200  101228.40     2335.9500   \n",
       "10  TI-10V-2Fe-3Al              0.6            200   28288.80     3299.8143   \n",
       "11   TI-13C11Cr3Al              0.9            200   98407.08     4080.9177   \n",
       "12   TI-13C11Cr3Al              0.5            200   24245.88     2984.2131   \n",
       "13  TI-10V-2Fe-3Al              0.6            200   39187.20     3282.5100   \n",
       "14  TI-10V-2Fe-3Al              0.5              0   84357.00     2685.0000   \n",
       "\n",
       "    Final Density  Density Percentage  \n",
       "0        0.783275           78.327521  \n",
       "1        1.090290          109.028952  \n",
       "2        0.792057           79.205680  \n",
       "3        0.893722           89.372161  \n",
       "4        1.093451          109.345101  \n",
       "5        1.080657          108.065671  \n",
       "6        1.085257          108.525730  \n",
       "7        0.908010           90.800994  \n",
       "8        0.790328           79.032789  \n",
       "9        1.078790          107.879021  \n",
       "10       0.916415           91.641521  \n",
       "11       1.111515          111.151470  \n",
       "12       0.844444           84.444372  \n",
       "13       0.921246           92.124624  \n",
       "14       0.938547           93.854749  "
      ]
     },
     "execution_count": 3,
     "metadata": {},
     "output_type": "execute_result"
    }
   ],
   "source": [
    "df.head(15)"
   ]
  },
  {
   "cell_type": "markdown",
   "metadata": {},
   "source": [
    "#### The dataset consists of 12 features, in which 8 are input parameters (Corner Angle, Temperature, Speed, Friction Factor, Temp of die, Material, Initial Density, Back Pressure) and the remaining 4 are output parameters ( Max Load, Final Volume, Final Density, Density Percentage) The major parameter that has to be analysed here is the Final Density. "
   ]
  },
  {
   "cell_type": "code",
   "execution_count": 3,
   "metadata": {},
   "outputs": [
    {
     "data": {
      "text/plain": [
       "(154, 12)"
      ]
     },
     "execution_count": 3,
     "metadata": {},
     "output_type": "execute_result"
    }
   ],
   "source": [
    "df.shape"
   ]
  },
  {
   "cell_type": "code",
   "execution_count": 4,
   "metadata": {
    "scrolled": true
   },
   "outputs": [
    {
     "name": "stderr",
     "output_type": "stream",
     "text": [
      "D:\\PROGRAM FILES\\Anaconda\\lib\\site-packages\\seaborn\\distributions.py:2551: FutureWarning: `distplot` is a deprecated function and will be removed in a future version. Please adapt your code to use either `displot` (a figure-level function with similar flexibility) or `histplot` (an axes-level function for histograms).\n",
      "  warnings.warn(msg, FutureWarning)\n"
     ]
    },
    {
     "data": {
      "text/plain": [
       "<AxesSubplot:xlabel='Density Percentage', ylabel='Density'>"
      ]
     },
     "execution_count": 4,
     "metadata": {},
     "output_type": "execute_result"
    },
    {
     "data": {
      "image/png": "[encoded data removed]",
      "text/plain": [
       "<Figure size 432x288 with 1 Axes>"
      ]
     },
     "metadata": {
      "needs_background": "light"
     },
     "output_type": "display_data"
    }
   ],
   "source": [
    "sns.distplot(df['Density Percentage'])"
   ]
  },
  {
   "cell_type": "markdown",
   "metadata": {},
   "source": [
    "#### the distribution of the target variable (density percentage) is shown and the majority lies between 90 and 100 percet density. "
   ]
  },
  {
   "cell_type": "markdown",
   "metadata": {},
   "source": [
    "## Converting Final density as a catogorical data"
   ]
  },
  {
   "cell_type": "code",
   "execution_count": 5,
   "metadata": {
    "scrolled": true
   },
   "outputs": [
    {
     "data": {
      "text/html": [
       "<div>\n",
       "<style scoped>\n",
       "    .dataframe tbody tr th:only-of-type {\n",
       "        vertical-align: middle;\n",
       "    }\n",
       "\n",
       "    .dataframe tbody tr th {\n",
       "        vertical-align: top;\n",
       "    }\n",
       "\n",
       "    .dataframe thead th {\n",
       "        text-align: right;\n",
       "    }\n",
       "</style>\n",
       "<table border=\"1\" class=\"dataframe\">\n",
       "  <thead>\n",
       "    <tr style=\"text-align: right;\">\n",
       "      <th></th>\n",
       "      <th>Corner Angle</th>\n",
       "      <th>Temperature</th>\n",
       "      <th>Speed</th>\n",
       "      <th>Friction Factor</th>\n",
       "      <th>Temp of die</th>\n",
       "      <th>Material</th>\n",
       "      <th>Initial Density</th>\n",
       "      <th>Back Pressure</th>\n",
       "      <th>Max Load</th>\n",
       "      <th>Final Volume</th>\n",
       "      <th>Final Density</th>\n",
       "      <th>Density Percentage</th>\n",
       "    </tr>\n",
       "  </thead>\n",
       "  <tbody>\n",
       "    <tr>\n",
       "      <th>0</th>\n",
       "      <td>10</td>\n",
       "      <td>300</td>\n",
       "      <td>1.0</td>\n",
       "      <td>0.05</td>\n",
       "      <td>20</td>\n",
       "      <td>TI-10V-2Fe-3Al</td>\n",
       "      <td>0.5</td>\n",
       "      <td>200</td>\n",
       "      <td>22381.20</td>\n",
       "      <td>3217.2600</td>\n",
       "      <td>0</td>\n",
       "      <td>78.327521</td>\n",
       "    </tr>\n",
       "    <tr>\n",
       "      <th>1</th>\n",
       "      <td>30</td>\n",
       "      <td>150</td>\n",
       "      <td>0.5</td>\n",
       "      <td>0.05</td>\n",
       "      <td>200</td>\n",
       "      <td>TI-10V-2Fe-3Al</td>\n",
       "      <td>0.8</td>\n",
       "      <td>200</td>\n",
       "      <td>109092.60</td>\n",
       "      <td>3698.1003</td>\n",
       "      <td>1</td>\n",
       "      <td>109.028952</td>\n",
       "    </tr>\n",
       "    <tr>\n",
       "      <th>2</th>\n",
       "      <td>40</td>\n",
       "      <td>300</td>\n",
       "      <td>1.0</td>\n",
       "      <td>0.05</td>\n",
       "      <td>20</td>\n",
       "      <td>TI-10V-2Fe-3Al</td>\n",
       "      <td>0.5</td>\n",
       "      <td>200</td>\n",
       "      <td>24382.80</td>\n",
       "      <td>3181.5900</td>\n",
       "      <td>0</td>\n",
       "      <td>79.205680</td>\n",
       "    </tr>\n",
       "    <tr>\n",
       "      <th>3</th>\n",
       "      <td>0</td>\n",
       "      <td>300</td>\n",
       "      <td>1.0</td>\n",
       "      <td>0.01</td>\n",
       "      <td>20</td>\n",
       "      <td>TI-10V-2Fe-3Al</td>\n",
       "      <td>0.5</td>\n",
       "      <td>200</td>\n",
       "      <td>31172.40</td>\n",
       "      <td>2819.6700</td>\n",
       "      <td>0</td>\n",
       "      <td>89.372161</td>\n",
       "    </tr>\n",
       "    <tr>\n",
       "      <th>4</th>\n",
       "      <td>0</td>\n",
       "      <td>300</td>\n",
       "      <td>1.0</td>\n",
       "      <td>0.10</td>\n",
       "      <td>20</td>\n",
       "      <td>TI-10V-2Fe-3Al</td>\n",
       "      <td>0.5</td>\n",
       "      <td>200</td>\n",
       "      <td>90846.00</td>\n",
       "      <td>2304.6300</td>\n",
       "      <td>1</td>\n",
       "      <td>109.345101</td>\n",
       "    </tr>\n",
       "    <tr>\n",
       "      <th>5</th>\n",
       "      <td>60</td>\n",
       "      <td>100</td>\n",
       "      <td>2.0</td>\n",
       "      <td>0.05</td>\n",
       "      <td>200</td>\n",
       "      <td>TI-13C11Cr3Al</td>\n",
       "      <td>0.8</td>\n",
       "      <td>200</td>\n",
       "      <td>85752.84</td>\n",
       "      <td>3731.0646</td>\n",
       "      <td>1</td>\n",
       "      <td>108.065671</td>\n",
       "    </tr>\n",
       "    <tr>\n",
       "      <th>6</th>\n",
       "      <td>0</td>\n",
       "      <td>300</td>\n",
       "      <td>2.0</td>\n",
       "      <td>0.05</td>\n",
       "      <td>20</td>\n",
       "      <td>TI-10V-2Fe-3Al</td>\n",
       "      <td>0.5</td>\n",
       "      <td>200</td>\n",
       "      <td>89893.20</td>\n",
       "      <td>2322.0300</td>\n",
       "      <td>1</td>\n",
       "      <td>108.525730</td>\n",
       "    </tr>\n",
       "    <tr>\n",
       "      <th>7</th>\n",
       "      <td>20</td>\n",
       "      <td>300</td>\n",
       "      <td>1.0</td>\n",
       "      <td>0.07</td>\n",
       "      <td>20</td>\n",
       "      <td>TI-10V-2Fe-3Al</td>\n",
       "      <td>0.5</td>\n",
       "      <td>200</td>\n",
       "      <td>44000.40</td>\n",
       "      <td>2775.3000</td>\n",
       "      <td>0</td>\n",
       "      <td>90.800994</td>\n",
       "    </tr>\n",
       "    <tr>\n",
       "      <th>8</th>\n",
       "      <td>80</td>\n",
       "      <td>250</td>\n",
       "      <td>1.0</td>\n",
       "      <td>0.05</td>\n",
       "      <td>50</td>\n",
       "      <td>TI-13C11Cr3Al</td>\n",
       "      <td>0.5</td>\n",
       "      <td>200</td>\n",
       "      <td>23928.00</td>\n",
       "      <td>3188.5500</td>\n",
       "      <td>0</td>\n",
       "      <td>79.032789</td>\n",
       "    </tr>\n",
       "    <tr>\n",
       "      <th>9</th>\n",
       "      <td>0</td>\n",
       "      <td>200</td>\n",
       "      <td>1.0</td>\n",
       "      <td>0.05</td>\n",
       "      <td>20</td>\n",
       "      <td>TI-10V-2Fe-3Al</td>\n",
       "      <td>0.5</td>\n",
       "      <td>200</td>\n",
       "      <td>101228.40</td>\n",
       "      <td>2335.9500</td>\n",
       "      <td>1</td>\n",
       "      <td>107.879021</td>\n",
       "    </tr>\n",
       "    <tr>\n",
       "      <th>10</th>\n",
       "      <td>70</td>\n",
       "      <td>450</td>\n",
       "      <td>2.0</td>\n",
       "      <td>0.07</td>\n",
       "      <td>80</td>\n",
       "      <td>TI-10V-2Fe-3Al</td>\n",
       "      <td>0.6</td>\n",
       "      <td>200</td>\n",
       "      <td>28288.80</td>\n",
       "      <td>3299.8143</td>\n",
       "      <td>0</td>\n",
       "      <td>91.641521</td>\n",
       "    </tr>\n",
       "    <tr>\n",
       "      <th>11</th>\n",
       "      <td>40</td>\n",
       "      <td>350</td>\n",
       "      <td>1.0</td>\n",
       "      <td>0.06</td>\n",
       "      <td>500</td>\n",
       "      <td>TI-13C11Cr3Al</td>\n",
       "      <td>0.9</td>\n",
       "      <td>200</td>\n",
       "      <td>98407.08</td>\n",
       "      <td>4080.9177</td>\n",
       "      <td>1</td>\n",
       "      <td>111.151470</td>\n",
       "    </tr>\n",
       "    <tr>\n",
       "      <th>12</th>\n",
       "      <td>40</td>\n",
       "      <td>550</td>\n",
       "      <td>0.5</td>\n",
       "      <td>0.07</td>\n",
       "      <td>60</td>\n",
       "      <td>TI-13C11Cr3Al</td>\n",
       "      <td>0.5</td>\n",
       "      <td>200</td>\n",
       "      <td>24245.88</td>\n",
       "      <td>2984.2131</td>\n",
       "      <td>0</td>\n",
       "      <td>84.444372</td>\n",
       "    </tr>\n",
       "    <tr>\n",
       "      <th>13</th>\n",
       "      <td>90</td>\n",
       "      <td>200</td>\n",
       "      <td>0.5</td>\n",
       "      <td>0.07</td>\n",
       "      <td>60</td>\n",
       "      <td>TI-10V-2Fe-3Al</td>\n",
       "      <td>0.6</td>\n",
       "      <td>200</td>\n",
       "      <td>39187.20</td>\n",
       "      <td>3282.5100</td>\n",
       "      <td>0</td>\n",
       "      <td>92.124624</td>\n",
       "    </tr>\n",
       "    <tr>\n",
       "      <th>14</th>\n",
       "      <td>0</td>\n",
       "      <td>200</td>\n",
       "      <td>1.0</td>\n",
       "      <td>0.05</td>\n",
       "      <td>20</td>\n",
       "      <td>TI-10V-2Fe-3Al</td>\n",
       "      <td>0.5</td>\n",
       "      <td>0</td>\n",
       "      <td>84357.00</td>\n",
       "      <td>2685.0000</td>\n",
       "      <td>0</td>\n",
       "      <td>93.854749</td>\n",
       "    </tr>\n",
       "  </tbody>\n",
       "</table>\n",
       "</div>"
      ],
      "text/plain": [
       "    Corner Angle  Temperature  Speed   Friction Factor  Temp of die  \\\n",
       "0             10          300     1.0             0.05           20   \n",
       "1             30          150     0.5             0.05          200   \n",
       "2             40          300     1.0             0.05           20   \n",
       "3              0          300     1.0             0.01           20   \n",
       "4              0          300     1.0             0.10           20   \n",
       "5             60          100     2.0             0.05          200   \n",
       "6              0          300     2.0             0.05           20   \n",
       "7             20          300     1.0             0.07           20   \n",
       "8             80          250     1.0             0.05           50   \n",
       "9              0          200     1.0             0.05           20   \n",
       "10            70          450     2.0             0.07           80   \n",
       "11            40          350     1.0             0.06          500   \n",
       "12            40          550     0.5             0.07           60   \n",
       "13            90          200     0.5             0.07           60   \n",
       "14             0          200     1.0             0.05           20   \n",
       "\n",
       "          Material  Initial Density  Back Pressure   Max Load  Final Volume  \\\n",
       "0   TI-10V-2Fe-3Al              0.5            200   22381.20     3217.2600   \n",
       "1   TI-10V-2Fe-3Al              0.8            200  109092.60     3698.1003   \n",
       "2   TI-10V-2Fe-3Al              0.5            200   24382.80     3181.5900   \n",
       "3   TI-10V-2Fe-3Al              0.5            200   31172.40     2819.6700   \n",
       "4   TI-10V-2Fe-3Al              0.5            200   90846.00     2304.6300   \n",
       "5    TI-13C11Cr3Al              0.8            200   85752.84     3731.0646   \n",
       "6   TI-10V-2Fe-3Al              0.5            200   89893.20     2322.0300   \n",
       "7   TI-10V-2Fe-3Al              0.5            200   44000.40     2775.3000   \n",
       "8    TI-13C11Cr3Al              0.5            200   23928.00     3188.5500   \n",
       "9   TI-10V-2Fe-3Al              0.5            200  101228.40     2335.9500   \n",
       "10  TI-10V-2Fe-3Al              0.6            200   28288.80     3299.8143   \n",
       "11   TI-13C11Cr3Al              0.9            200   98407.08     4080.9177   \n",
       "12   TI-13C11Cr3Al              0.5            200   24245.88     2984.2131   \n",
       "13  TI-10V-2Fe-3Al              0.6            200   39187.20     3282.5100   \n",
       "14  TI-10V-2Fe-3Al              0.5              0   84357.00     2685.0000   \n",
       "\n",
       "    Final Density  Density Percentage  \n",
       "0               0           78.327521  \n",
       "1               1          109.028952  \n",
       "2               0           79.205680  \n",
       "3               0           89.372161  \n",
       "4               1          109.345101  \n",
       "5               1          108.065671  \n",
       "6               1          108.525730  \n",
       "7               0           90.800994  \n",
       "8               0           79.032789  \n",
       "9               1          107.879021  \n",
       "10              0           91.641521  \n",
       "11              1          111.151470  \n",
       "12              0           84.444372  \n",
       "13              0           92.124624  \n",
       "14              0           93.854749  "
      ]
     },
     "execution_count": 5,
     "metadata": {},
     "output_type": "execute_result"
    }
   ],
   "source": [
    "df['Final Density'] = df['Final Density'].astype(int)\n",
    "df.head(15)"
   ]
  },
  {
   "cell_type": "markdown",
   "metadata": {},
   "source": [
    "#### The Final density column is actully a float data type but it is converted to int. by doing this we have converted the column as a catogorical feature. 0 - Porous & 1 - fully dense"
   ]
  },
  {
   "cell_type": "markdown",
   "metadata": {},
   "source": [
    "## Data visualisation"
   ]
  },
  {
   "cell_type": "code",
   "execution_count": 21,
   "metadata": {
    "scrolled": true
   },
   "outputs": [
    {
     "data": {
      "text/plain": [
       "<AxesSubplot:xlabel='Final Density', ylabel='count'>"
      ]
     },
     "execution_count": 21,
     "metadata": {},
     "output_type": "execute_result"
    },
    {
     "data": {
      "image/png": "[encoded data removed]",
      "text/plain": [
       "<Figure size 432x288 with 1 Axes>"
      ]
     },
     "metadata": {},
     "output_type": "display_data"
    }
   ],
   "source": [
    "sns.countplot(x=\"Final Density\",data=df)"
   ]
  },
  {
   "cell_type": "markdown",
   "metadata": {},
   "source": [
    "#### There are 48 values of fully dense material and 106  of porous material. "
   ]
  },
  {
   "cell_type": "code",
   "execution_count": 22,
   "metadata": {
    "scrolled": false
   },
   "outputs": [
    {
     "data": {
      "text/html": [
       "<div>\n",
       "<style scoped>\n",
       "    .dataframe tbody tr th:only-of-type {\n",
       "        vertical-align: middle;\n",
       "    }\n",
       "\n",
       "    .dataframe tbody tr th {\n",
       "        vertical-align: top;\n",
       "    }\n",
       "\n",
       "    .dataframe thead th {\n",
       "        text-align: right;\n",
       "    }\n",
       "</style>\n",
       "<table border=\"1\" class=\"dataframe\">\n",
       "  <thead>\n",
       "    <tr style=\"text-align: right;\">\n",
       "      <th></th>\n",
       "      <th>Back Pressure</th>\n",
       "      <th>Corner Angle</th>\n",
       "      <th>Density Percentage</th>\n",
       "      <th>Final Volume</th>\n",
       "      <th>Friction Factor</th>\n",
       "      <th>Initial Density</th>\n",
       "      <th>Max Load</th>\n",
       "      <th>Speed</th>\n",
       "      <th>Temp of die</th>\n",
       "      <th>Temperature</th>\n",
       "    </tr>\n",
       "    <tr>\n",
       "      <th>Final Density</th>\n",
       "      <th></th>\n",
       "      <th></th>\n",
       "      <th></th>\n",
       "      <th></th>\n",
       "      <th></th>\n",
       "      <th></th>\n",
       "      <th></th>\n",
       "      <th></th>\n",
       "      <th></th>\n",
       "      <th></th>\n",
       "    </tr>\n",
       "  </thead>\n",
       "  <tbody>\n",
       "    <tr>\n",
       "      <th>0</th>\n",
       "      <td>75.471698</td>\n",
       "      <td>47.54717</td>\n",
       "      <td>85.668283</td>\n",
       "      <td>3392.509768</td>\n",
       "      <td>0.042453</td>\n",
       "      <td>0.576415</td>\n",
       "      <td>41634.709623</td>\n",
       "      <td>1.100943</td>\n",
       "      <td>116.132075</td>\n",
       "      <td>312.264151</td>\n",
       "    </tr>\n",
       "    <tr>\n",
       "      <th>1</th>\n",
       "      <td>141.666667</td>\n",
       "      <td>21.25000</td>\n",
       "      <td>106.216518</td>\n",
       "      <td>3412.385292</td>\n",
       "      <td>0.045000</td>\n",
       "      <td>0.718750</td>\n",
       "      <td>88973.972167</td>\n",
       "      <td>1.168750</td>\n",
       "      <td>216.875000</td>\n",
       "      <td>250.833333</td>\n",
       "    </tr>\n",
       "  </tbody>\n",
       "</table>\n",
       "</div>"
      ],
      "text/plain": [
       "               Back Pressure  Corner Angle  Density Percentage  Final Volume  \\\n",
       "Final Density                                                                  \n",
       "0                  75.471698      47.54717           85.668283   3392.509768   \n",
       "1                 141.666667      21.25000          106.216518   3412.385292   \n",
       "\n",
       "               Friction Factor  Initial Density      Max Load    Speed   \\\n",
       "Final Density                                                             \n",
       "0                     0.042453         0.576415  41634.709623  1.100943   \n",
       "1                     0.045000         0.718750  88973.972167  1.168750   \n",
       "\n",
       "               Temp of die  Temperature  \n",
       "Final Density                            \n",
       "0               116.132075   312.264151  \n",
       "1               216.875000   250.833333  "
      ]
     },
     "execution_count": 22,
     "metadata": {},
     "output_type": "execute_result"
    }
   ],
   "source": [
    "pd.pivot_table(df,index=[\"Final Density\"])"
   ]
  },
  {
   "cell_type": "markdown",
   "metadata": {},
   "source": [
    "#### The influence of input parameters can be see clearly with the average values for final density type."
   ]
  },
  {
   "cell_type": "code",
   "execution_count": 23,
   "metadata": {
    "scrolled": true
   },
   "outputs": [
    {
     "data": {
      "text/html": [
       "<div>\n",
       "<style scoped>\n",
       "    .dataframe tbody tr th:only-of-type {\n",
       "        vertical-align: middle;\n",
       "    }\n",
       "\n",
       "    .dataframe tbody tr th {\n",
       "        vertical-align: top;\n",
       "    }\n",
       "\n",
       "    .dataframe thead th {\n",
       "        text-align: right;\n",
       "    }\n",
       "</style>\n",
       "<table border=\"1\" class=\"dataframe\">\n",
       "  <thead>\n",
       "    <tr style=\"text-align: right;\">\n",
       "      <th></th>\n",
       "      <th></th>\n",
       "      <th>Back Pressure</th>\n",
       "      <th>Corner Angle</th>\n",
       "      <th>Density Percentage</th>\n",
       "      <th>Final Volume</th>\n",
       "      <th>Friction Factor</th>\n",
       "      <th>Initial Density</th>\n",
       "      <th>Max Load</th>\n",
       "      <th>Speed</th>\n",
       "      <th>Temp of die</th>\n",
       "      <th>Temperature</th>\n",
       "    </tr>\n",
       "    <tr>\n",
       "      <th>Material</th>\n",
       "      <th>Final Density</th>\n",
       "      <th></th>\n",
       "      <th></th>\n",
       "      <th></th>\n",
       "      <th></th>\n",
       "      <th></th>\n",
       "      <th></th>\n",
       "      <th></th>\n",
       "      <th></th>\n",
       "      <th></th>\n",
       "      <th></th>\n",
       "    </tr>\n",
       "  </thead>\n",
       "  <tbody>\n",
       "    <tr>\n",
       "      <th rowspan=\"2\" valign=\"top\">TI-10V-2Fe-3Al</th>\n",
       "      <th>0</th>\n",
       "      <td>74.626866</td>\n",
       "      <td>44.477612</td>\n",
       "      <td>86.022372</td>\n",
       "      <td>3414.232001</td>\n",
       "      <td>0.041642</td>\n",
       "      <td>0.582090</td>\n",
       "      <td>39723.076522</td>\n",
       "      <td>1.062687</td>\n",
       "      <td>97.611940</td>\n",
       "      <td>339.850746</td>\n",
       "    </tr>\n",
       "    <tr>\n",
       "      <th>1</th>\n",
       "      <td>144.230769</td>\n",
       "      <td>7.307692</td>\n",
       "      <td>106.227794</td>\n",
       "      <td>3158.043669</td>\n",
       "      <td>0.046538</td>\n",
       "      <td>0.665385</td>\n",
       "      <td>83979.316615</td>\n",
       "      <td>1.130769</td>\n",
       "      <td>169.615385</td>\n",
       "      <td>316.923077</td>\n",
       "    </tr>\n",
       "    <tr>\n",
       "      <th rowspan=\"2\" valign=\"top\">TI-13C11Cr3Al</th>\n",
       "      <th>0</th>\n",
       "      <td>76.923077</td>\n",
       "      <td>52.820513</td>\n",
       "      <td>85.059975</td>\n",
       "      <td>3355.192085</td>\n",
       "      <td>0.043846</td>\n",
       "      <td>0.566667</td>\n",
       "      <td>44918.797256</td>\n",
       "      <td>1.166667</td>\n",
       "      <td>147.948718</td>\n",
       "      <td>264.871795</td>\n",
       "    </tr>\n",
       "    <tr>\n",
       "      <th>1</th>\n",
       "      <td>138.636364</td>\n",
       "      <td>37.727273</td>\n",
       "      <td>106.203192</td>\n",
       "      <td>3712.970845</td>\n",
       "      <td>0.043182</td>\n",
       "      <td>0.781818</td>\n",
       "      <td>94876.746909</td>\n",
       "      <td>1.213636</td>\n",
       "      <td>272.727273</td>\n",
       "      <td>172.727273</td>\n",
       "    </tr>\n",
       "  </tbody>\n",
       "</table>\n",
       "</div>"
      ],
      "text/plain": [
       "                              Back Pressure  Corner Angle  Density Percentage  \\\n",
       "Material       Final Density                                                    \n",
       "TI-10V-2Fe-3Al 0                  74.626866     44.477612           86.022372   \n",
       "               1                 144.230769      7.307692          106.227794   \n",
       "TI-13C11Cr3Al  0                  76.923077     52.820513           85.059975   \n",
       "               1                 138.636364     37.727273          106.203192   \n",
       "\n",
       "                              Final Volume  Friction Factor  Initial Density  \\\n",
       "Material       Final Density                                                   \n",
       "TI-10V-2Fe-3Al 0               3414.232001         0.041642         0.582090   \n",
       "               1               3158.043669         0.046538         0.665385   \n",
       "TI-13C11Cr3Al  0               3355.192085         0.043846         0.566667   \n",
       "               1               3712.970845         0.043182         0.781818   \n",
       "\n",
       "                                  Max Load    Speed   Temp of die  Temperature  \n",
       "Material       Final Density                                                    \n",
       "TI-10V-2Fe-3Al 0              39723.076522  1.062687    97.611940   339.850746  \n",
       "               1              83979.316615  1.130769   169.615385   316.923077  \n",
       "TI-13C11Cr3Al  0              44918.797256  1.166667   147.948718   264.871795  \n",
       "               1              94876.746909  1.213636   272.727273   172.727273  "
      ]
     },
     "execution_count": 23,
     "metadata": {},
     "output_type": "execute_result"
    }
   ],
   "source": [
    "pd.pivot_table(df,index=[\"Material\",\"Final Density\"])"
   ]
  },
  {
   "cell_type": "markdown",
   "metadata": {},
   "source": [
    "#### The influence of material on final density type can be analysed."
   ]
  },
  {
   "cell_type": "code",
   "execution_count": 11,
   "metadata": {
    "scrolled": true
   },
   "outputs": [
    {
     "data": {
      "text/plain": [
       "<AxesSubplot:xlabel='Material', ylabel='count'>"
      ]
     },
     "execution_count": 11,
     "metadata": {},
     "output_type": "execute_result"
    },
    {
     "data": {
      "image/png": "[encoded data removed]",
      "text/plain": [
       "<Figure size 432x288 with 1 Axes>"
      ]
     },
     "metadata": {
      "needs_background": "light"
     },
     "output_type": "display_data"
    }
   ],
   "source": [
    "sns.countplot(x=\"Material\",hue=\"Final Density\",data=df)"
   ]
  },
  {
   "cell_type": "markdown",
   "metadata": {},
   "source": [
    "#### we can see TI-13C11Cr3Al has better percentage of fully dense material than TI-10V-2Fe-3Al "
   ]
  },
  {
   "cell_type": "code",
   "execution_count": 26,
   "metadata": {
    "scrolled": false
   },
   "outputs": [
    {
     "data": {
      "text/plain": [
       "<AxesSubplot:xlabel='Final Density', ylabel='count'>"
      ]
     },
     "execution_count": 26,
     "metadata": {},
     "output_type": "execute_result"
    },
    {
     "data": {
      "image/png": "[encoded data removed]",
      "text/plain": [
       "<Figure size 432x288 with 1 Axes>"
      ]
     },
     "metadata": {},
     "output_type": "display_data"
    }
   ],
   "source": [
    "sns.countplot(x=\"Final Density\",hue=\"Back Pressure\",data=df)"
   ]
  },
  {
   "cell_type": "code",
   "execution_count": 27,
   "metadata": {
    "scrolled": false
   },
   "outputs": [
    {
     "data": {
      "text/plain": [
       "<AxesSubplot:xlabel='Material', ylabel='Max Load'>"
      ]
     },
     "execution_count": 27,
     "metadata": {},
     "output_type": "execute_result"
    },
    {
     "data": {
      "image/png": "[encoded data removed]",
      "text/plain": [
       "<Figure size 432x288 with 1 Axes>"
      ]
     },
     "metadata": {},
     "output_type": "display_data"
    }
   ],
   "source": [
    "sns.boxplot(x='Material',y='Max Load', data=df)"
   ]
  },
  {
   "cell_type": "markdown",
   "metadata": {},
   "source": [
    "#### TI-13C11Cr3Al requires more load on an average"
   ]
  },
  {
   "cell_type": "code",
   "execution_count": 28,
   "metadata": {
    "scrolled": true
   },
   "outputs": [
    {
     "data": {
      "text/plain": [
       "<AxesSubplot:xlabel='Material', ylabel='Density Percentage'>"
      ]
     },
     "execution_count": 28,
     "metadata": {},
     "output_type": "execute_result"
    },
    {
     "data": {
      "image/png": "[encoded data removed]",
      "text/plain": [
       "<Figure size 432x288 with 1 Axes>"
      ]
     },
     "metadata": {},
     "output_type": "display_data"
    }
   ],
   "source": [
    "sns.boxplot(x='Material',y='Density Percentage', data=df)"
   ]
  },
  {
   "cell_type": "markdown",
   "metadata": {},
   "source": [
    "#### The average density percentage of both the materials are almost same."
   ]
  },
  {
   "cell_type": "code",
   "execution_count": 29,
   "metadata": {
    "scrolled": true
   },
   "outputs": [
    {
     "data": {
      "text/plain": [
       "<AxesSubplot:xlabel='Corner Angle', ylabel='Density Percentage'>"
      ]
     },
     "execution_count": 29,
     "metadata": {},
     "output_type": "execute_result"
    },
    {
     "data": {
      "image/png": "[encoded data removed]",
      "text/plain": [
       "<Figure size 432x288 with 1 Axes>"
      ]
     },
     "metadata": {},
     "output_type": "display_data"
    }
   ],
   "source": [
    "sns.boxplot(x='Corner Angle',y='Density Percentage', data=df)"
   ]
  },
  {
   "cell_type": "markdown",
   "metadata": {},
   "source": [
    "#### The effect of corner angle."
   ]
  },
  {
   "cell_type": "code",
   "execution_count": 30,
   "metadata": {
    "scrolled": true
   },
   "outputs": [
    {
     "name": "stderr",
     "output_type": "stream",
     "text": [
      "D:\\PROGRAM FILES\\Anaconda\\lib\\site-packages\\seaborn\\_decorators.py:36: FutureWarning: Pass the following variables as keyword args: x, y. From version 0.12, the only valid positional argument will be `data`, and passing other arguments without an explicit keyword will result in an error or misinterpretation.\n",
      "  warnings.warn(\n"
     ]
    },
    {
     "data": {
      "text/plain": [
       "<AxesSubplot:xlabel='Corner Angle', ylabel='Density Percentage'>"
      ]
     },
     "execution_count": 30,
     "metadata": {},
     "output_type": "execute_result"
    },
    {
     "data": {
      "image/png": "[encoded data removed]",
      "text/plain": [
       "<Figure size 432x288 with 1 Axes>"
      ]
     },
     "metadata": {},
     "output_type": "display_data"
    }
   ],
   "source": [
    "sns.barplot(df['Corner Angle'], df['Density Percentage'])"
   ]
  },
  {
   "cell_type": "markdown",
   "metadata": {},
   "source": [
    "#### The effect of corner angle."
   ]
  },
  {
   "cell_type": "code",
   "execution_count": null,
   "metadata": {},
   "outputs": [],
   "source": []
  },
  {
   "cell_type": "code",
   "execution_count": 31,
   "metadata": {
    "scrolled": true
   },
   "outputs": [
    {
     "name": "stderr",
     "output_type": "stream",
     "text": [
      "D:\\PROGRAM FILES\\Anaconda\\lib\\site-packages\\seaborn\\_decorators.py:36: FutureWarning: Pass the following variables as keyword args: x, y. From version 0.12, the only valid positional argument will be `data`, and passing other arguments without an explicit keyword will result in an error or misinterpretation.\n",
      "  warnings.warn(\n"
     ]
    },
    {
     "data": {
      "text/plain": [
       "<seaborn.axisgrid.JointGrid at 0x5480ff8610>"
      ]
     },
     "execution_count": 31,
     "metadata": {},
     "output_type": "execute_result"
    },
    {
     "data": {
      "image/png": "[encoded data removed]",
      "text/plain": [
       "<Figure size 432x432 with 3 Axes>"
      ]
     },
     "metadata": {},
     "output_type": "display_data"
    }
   ],
   "source": [
    "sns.jointplot(df['Temperature'], df['Density Percentage'])"
   ]
  },
  {
   "cell_type": "markdown",
   "metadata": {},
   "source": [
    "#### The effect of Friction factor."
   ]
  },
  {
   "cell_type": "code",
   "execution_count": 32,
   "metadata": {
    "scrolled": true
   },
   "outputs": [
    {
     "name": "stderr",
     "output_type": "stream",
     "text": [
      "D:\\PROGRAM FILES\\Anaconda\\lib\\site-packages\\seaborn\\_decorators.py:36: FutureWarning: Pass the following variables as keyword args: x, y. From version 0.12, the only valid positional argument will be `data`, and passing other arguments without an explicit keyword will result in an error or misinterpretation.\n",
      "  warnings.warn(\n"
     ]
    },
    {
     "data": {
      "text/plain": [
       "<seaborn.axisgrid.JointGrid at 0x548100aac0>"
      ]
     },
     "execution_count": 32,
     "metadata": {},
     "output_type": "execute_result"
    },
    {
     "data": {
      "image/png": "[encoded data removed]",
      "text/plain": [
       "<Figure size 432x432 with 3 Axes>"
      ]
     },
     "metadata": {},
     "output_type": "display_data"
    }
   ],
   "source": [
    "sns.jointplot(df['Friction Factor'], df['Density Percentage'])"
   ]
  },
  {
   "cell_type": "markdown",
   "metadata": {},
   "source": [
    "#### The effect of Friction factor."
   ]
  },
  {
   "cell_type": "code",
   "execution_count": 33,
   "metadata": {},
   "outputs": [
    {
     "name": "stderr",
     "output_type": "stream",
     "text": [
      "D:\\PROGRAM FILES\\Anaconda\\lib\\site-packages\\seaborn\\_decorators.py:36: FutureWarning: Pass the following variables as keyword args: x, y. From version 0.12, the only valid positional argument will be `data`, and passing other arguments without an explicit keyword will result in an error or misinterpretation.\n",
      "  warnings.warn(\n"
     ]
    },
    {
     "data": {
      "text/plain": [
       "<seaborn.axisgrid.JointGrid at 0x54820a1670>"
      ]
     },
     "execution_count": 33,
     "metadata": {},
     "output_type": "execute_result"
    },
    {
     "data": {
      "image/png": "[encoded data removed]",
      "text/plain": [
       "<Figure size 432x432 with 3 Axes>"
      ]
     },
     "metadata": {},
     "output_type": "display_data"
    }
   ],
   "source": [
    "sns.jointplot(df['Temp of die'], df['Density Percentage'])"
   ]
  },
  {
   "cell_type": "code",
   "execution_count": 36,
   "metadata": {
    "scrolled": true
   },
   "outputs": [
    {
     "name": "stderr",
     "output_type": "stream",
     "text": [
      "D:\\PROGRAM FILES\\Anaconda\\lib\\site-packages\\seaborn\\_decorators.py:36: FutureWarning: Pass the following variables as keyword args: x, y. From version 0.12, the only valid positional argument will be `data`, and passing other arguments without an explicit keyword will result in an error or misinterpretation.\n",
      "  warnings.warn(\n"
     ]
    },
    {
     "data": {
      "text/plain": [
       "<AxesSubplot:xlabel='Initial Density', ylabel='Density Percentage'>"
      ]
     },
     "execution_count": 36,
     "metadata": {},
     "output_type": "execute_result"
    },
    {
     "data": {
      "image/png": "[encoded data removed]",
      "text/plain": [
       "<Figure size 432x288 with 1 Axes>"
      ]
     },
     "metadata": {},
     "output_type": "display_data"
    }
   ],
   "source": [
    "sns.boxplot(df['Initial Density'], df['Density Percentage'])"
   ]
  },
  {
   "cell_type": "code",
   "execution_count": 37,
   "metadata": {
    "scrolled": true
   },
   "outputs": [
    {
     "data": {
      "text/plain": [
       "<AxesSubplot:xlabel='Back Pressure', ylabel='Density Percentage'>"
      ]
     },
     "execution_count": 37,
     "metadata": {},
     "output_type": "execute_result"
    },
    {
     "data": {
      "image/png": "[encoded data removed]",
      "text/plain": [
       "<Figure size 432x288 with 1 Axes>"
      ]
     },
     "metadata": {},
     "output_type": "display_data"
    }
   ],
   "source": [
    "sns.boxplot(x='Back Pressure',y='Density Percentage', data=df)"
   ]
  },
  {
   "cell_type": "code",
   "execution_count": 38,
   "metadata": {},
   "outputs": [
    {
     "data": {
      "text/plain": [
       "<AxesSubplot:xlabel='Back Pressure', ylabel='Density Percentage'>"
      ]
     },
     "execution_count": 38,
     "metadata": {},
     "output_type": "execute_result"
    },
    {
     "data": {
      "image/png": "[encoded data removed]",
      "text/plain": [
       "<Figure size 432x288 with 1 Axes>"
      ]
     },
     "metadata": {},
     "output_type": "display_data"
    }
   ],
   "source": [
    "sns.boxplot(x='Back Pressure',y='Density Percentage', data=df)"
   ]
  },
  {
   "cell_type": "code",
   "execution_count": 40,
   "metadata": {},
   "outputs": [],
   "source": [
    "#Corner Angle"
   ]
  },
  {
   "cell_type": "code",
   "execution_count": 41,
   "metadata": {},
   "outputs": [
    {
     "name": "stderr",
     "output_type": "stream",
     "text": [
      "D:\\PROGRAM FILES\\Anaconda\\lib\\site-packages\\seaborn\\_decorators.py:36: FutureWarning: Pass the following variables as keyword args: x, y. From version 0.12, the only valid positional argument will be `data`, and passing other arguments without an explicit keyword will result in an error or misinterpretation.\n",
      "  warnings.warn(\n"
     ]
    },
    {
     "data": {
      "text/plain": [
       "<seaborn.axisgrid.JointGrid at 0x54822d2970>"
      ]
     },
     "execution_count": 41,
     "metadata": {},
     "output_type": "execute_result"
    },
    {
     "data": {
      "image/png": "[encoded data removed]",
      "text/plain": [
       "<Figure size 432x432 with 3 Axes>"
      ]
     },
     "metadata": {},
     "output_type": "display_data"
    }
   ],
   "source": [
    "sns.jointplot(df['Max Load'], df['Density Percentage'])"
   ]
  },
  {
   "cell_type": "code",
   "execution_count": 42,
   "metadata": {},
   "outputs": [
    {
     "data": {
      "text/plain": [
       "<AxesSubplot:xlabel='Corner Angle', ylabel='Max Load'>"
      ]
     },
     "execution_count": 42,
     "metadata": {},
     "output_type": "execute_result"
    },
    {
     "data": {
      "image/png": "[encoded data removed]",
      "text/plain": [
       "<Figure size 432x288 with 1 Axes>"
      ]
     },
     "metadata": {},
     "output_type": "display_data"
    }
   ],
   "source": [
    "sns.boxplot(x='Corner Angle',y='Max Load', data=df)"
   ]
  },
  {
   "cell_type": "code",
   "execution_count": null,
   "metadata": {},
   "outputs": [],
   "source": []
  }
 ],
 "metadata": {
  "kernelspec": {
   "display_name": "Python 3",
   "language": "python",
   "name": "python3"
  },
  "language_info": {
   "codemirror_mode": {
    "name": "ipython",
    "version": 3
   },
   "file_extension": ".py",
   "mimetype": "text/x-python",
   "name": "python",
   "nbconvert_exporter": "python",
   "pygments_lexer": "ipython3",
   "version": "3.8.5"
  }
 },
 "nbformat": 4,
 "nbformat_minor": 4
}
