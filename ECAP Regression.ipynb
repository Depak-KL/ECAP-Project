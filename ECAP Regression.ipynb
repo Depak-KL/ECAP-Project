{
 "cells": [
  {
   "cell_type": "code",
   "execution_count": 1,
   "metadata": {},
   "outputs": [],
   "source": [
    "import numpy as np   \n",
    "from sklearn.linear_model import LogisticRegression\n",
    "import pandas as pd    \n",
    "import matplotlib.pyplot as plt \n",
    "%matplotlib inline \n",
    "import seaborn as sns\n",
    "from sklearn.model_selection import train_test_split\n",
    "from sklearn.datasets import make_classification"
   ]
  },
  {
   "cell_type": "code",
   "execution_count": 2,
   "metadata": {},
   "outputs": [
    {
     "data": {
      "text/plain": [
       "(154, 12)"
      ]
     },
     "execution_count": 2,
     "metadata": {},
     "output_type": "execute_result"
    }
   ],
   "source": [
    "df = pd.read_excel(\"ECAP Dataset.xlsx\")  \n",
    "df.shape"
   ]
  },
  {
   "cell_type": "code",
   "execution_count": 3,
   "metadata": {},
   "outputs": [
    {
     "data": {
      "text/plain": [
       "Corner Angle            int64\n",
       "Temperature             int64\n",
       "Speed                 float64\n",
       "Friction Factor       float64\n",
       "Temp of die             int64\n",
       "Material               object\n",
       "Initial Density       float64\n",
       "Back Pressure           int64\n",
       "Max Load              float64\n",
       "Final Volume          float64\n",
       "Final Density         float64\n",
       "Density Percentage    float64\n",
       "dtype: object"
      ]
     },
     "execution_count": 3,
     "metadata": {},
     "output_type": "execute_result"
    }
   ],
   "source": [
    "df.dtypes"
   ]
  },
  {
   "cell_type": "code",
   "execution_count": 4,
   "metadata": {},
   "outputs": [
    {
     "name": "stdout",
     "output_type": "stream",
     "text": [
      "<class 'pandas.core.frame.DataFrame'>\n",
      "RangeIndex: 154 entries, 0 to 153\n",
      "Data columns (total 12 columns):\n",
      " #   Column              Non-Null Count  Dtype  \n",
      "---  ------              --------------  -----  \n",
      " 0   Corner Angle        154 non-null    int64  \n",
      " 1   Temperature         154 non-null    int64  \n",
      " 2   Speed               154 non-null    float64\n",
      " 3   Friction Factor     154 non-null    float64\n",
      " 4   Temp of die         154 non-null    int64  \n",
      " 5   Material            154 non-null    object \n",
      " 6   Initial Density     154 non-null    float64\n",
      " 7   Back Pressure       154 non-null    int64  \n",
      " 8   Max Load            154 non-null    float64\n",
      " 9   Final Volume        154 non-null    float64\n",
      " 10  Final Density       154 non-null    float64\n",
      " 11  Density Percentage  154 non-null    float64\n",
      "dtypes: float64(7), int64(4), object(1)\n",
      "memory usage: 14.6+ KB\n"
     ]
    }
   ],
   "source": [
    "df.info()"
   ]
  },
  {
   "cell_type": "code",
   "execution_count": 5,
   "metadata": {},
   "outputs": [
    {
     "data": {
      "text/html": [
       "<div>\n",
       "<style scoped>\n",
       "    .dataframe tbody tr th:only-of-type {\n",
       "        vertical-align: middle;\n",
       "    }\n",
       "\n",
       "    .dataframe tbody tr th {\n",
       "        vertical-align: top;\n",
       "    }\n",
       "\n",
       "    .dataframe thead th {\n",
       "        text-align: right;\n",
       "    }\n",
       "</style>\n",
       "<table border=\"1\" class=\"dataframe\">\n",
       "  <thead>\n",
       "    <tr style=\"text-align: right;\">\n",
       "      <th></th>\n",
       "      <th>Corner Angle</th>\n",
       "      <th>Temperature</th>\n",
       "      <th>Speed</th>\n",
       "      <th>Friction Factor</th>\n",
       "      <th>Temp of die</th>\n",
       "      <th>Material</th>\n",
       "      <th>Initial Density</th>\n",
       "      <th>Back Pressure</th>\n",
       "      <th>Max Load</th>\n",
       "      <th>Final Volume</th>\n",
       "      <th>Final Density</th>\n",
       "      <th>Density Percentage</th>\n",
       "    </tr>\n",
       "  </thead>\n",
       "  <tbody>\n",
       "    <tr>\n",
       "      <th>0</th>\n",
       "      <td>10</td>\n",
       "      <td>300</td>\n",
       "      <td>1.0</td>\n",
       "      <td>0.05</td>\n",
       "      <td>20</td>\n",
       "      <td>TI-10V-2Fe-3Al</td>\n",
       "      <td>0.5</td>\n",
       "      <td>200</td>\n",
       "      <td>22381.20</td>\n",
       "      <td>3217.2600</td>\n",
       "      <td>0.783275</td>\n",
       "      <td>78.327521</td>\n",
       "    </tr>\n",
       "    <tr>\n",
       "      <th>1</th>\n",
       "      <td>30</td>\n",
       "      <td>150</td>\n",
       "      <td>0.5</td>\n",
       "      <td>0.05</td>\n",
       "      <td>200</td>\n",
       "      <td>TI-10V-2Fe-3Al</td>\n",
       "      <td>0.8</td>\n",
       "      <td>200</td>\n",
       "      <td>109092.60</td>\n",
       "      <td>3698.1003</td>\n",
       "      <td>1.090290</td>\n",
       "      <td>109.028952</td>\n",
       "    </tr>\n",
       "    <tr>\n",
       "      <th>2</th>\n",
       "      <td>40</td>\n",
       "      <td>300</td>\n",
       "      <td>1.0</td>\n",
       "      <td>0.05</td>\n",
       "      <td>20</td>\n",
       "      <td>TI-10V-2Fe-3Al</td>\n",
       "      <td>0.5</td>\n",
       "      <td>200</td>\n",
       "      <td>24382.80</td>\n",
       "      <td>3181.5900</td>\n",
       "      <td>0.792057</td>\n",
       "      <td>79.205680</td>\n",
       "    </tr>\n",
       "    <tr>\n",
       "      <th>3</th>\n",
       "      <td>0</td>\n",
       "      <td>300</td>\n",
       "      <td>1.0</td>\n",
       "      <td>0.01</td>\n",
       "      <td>20</td>\n",
       "      <td>TI-10V-2Fe-3Al</td>\n",
       "      <td>0.5</td>\n",
       "      <td>200</td>\n",
       "      <td>31172.40</td>\n",
       "      <td>2819.6700</td>\n",
       "      <td>0.893722</td>\n",
       "      <td>89.372161</td>\n",
       "    </tr>\n",
       "    <tr>\n",
       "      <th>4</th>\n",
       "      <td>0</td>\n",
       "      <td>300</td>\n",
       "      <td>1.0</td>\n",
       "      <td>0.10</td>\n",
       "      <td>20</td>\n",
       "      <td>TI-10V-2Fe-3Al</td>\n",
       "      <td>0.5</td>\n",
       "      <td>200</td>\n",
       "      <td>90846.00</td>\n",
       "      <td>2304.6300</td>\n",
       "      <td>1.093451</td>\n",
       "      <td>109.345101</td>\n",
       "    </tr>\n",
       "    <tr>\n",
       "      <th>5</th>\n",
       "      <td>60</td>\n",
       "      <td>100</td>\n",
       "      <td>2.0</td>\n",
       "      <td>0.05</td>\n",
       "      <td>200</td>\n",
       "      <td>TI-13C11Cr3Al</td>\n",
       "      <td>0.8</td>\n",
       "      <td>200</td>\n",
       "      <td>85752.84</td>\n",
       "      <td>3731.0646</td>\n",
       "      <td>1.080657</td>\n",
       "      <td>108.065671</td>\n",
       "    </tr>\n",
       "    <tr>\n",
       "      <th>6</th>\n",
       "      <td>0</td>\n",
       "      <td>300</td>\n",
       "      <td>2.0</td>\n",
       "      <td>0.05</td>\n",
       "      <td>20</td>\n",
       "      <td>TI-10V-2Fe-3Al</td>\n",
       "      <td>0.5</td>\n",
       "      <td>200</td>\n",
       "      <td>89893.20</td>\n",
       "      <td>2322.0300</td>\n",
       "      <td>1.085257</td>\n",
       "      <td>108.525730</td>\n",
       "    </tr>\n",
       "    <tr>\n",
       "      <th>7</th>\n",
       "      <td>20</td>\n",
       "      <td>300</td>\n",
       "      <td>1.0</td>\n",
       "      <td>0.07</td>\n",
       "      <td>20</td>\n",
       "      <td>TI-10V-2Fe-3Al</td>\n",
       "      <td>0.5</td>\n",
       "      <td>200</td>\n",
       "      <td>44000.40</td>\n",
       "      <td>2775.3000</td>\n",
       "      <td>0.908010</td>\n",
       "      <td>90.800994</td>\n",
       "    </tr>\n",
       "    <tr>\n",
       "      <th>8</th>\n",
       "      <td>80</td>\n",
       "      <td>250</td>\n",
       "      <td>1.0</td>\n",
       "      <td>0.05</td>\n",
       "      <td>50</td>\n",
       "      <td>TI-13C11Cr3Al</td>\n",
       "      <td>0.5</td>\n",
       "      <td>200</td>\n",
       "      <td>23928.00</td>\n",
       "      <td>3188.5500</td>\n",
       "      <td>0.790328</td>\n",
       "      <td>79.032789</td>\n",
       "    </tr>\n",
       "    <tr>\n",
       "      <th>9</th>\n",
       "      <td>0</td>\n",
       "      <td>200</td>\n",
       "      <td>1.0</td>\n",
       "      <td>0.05</td>\n",
       "      <td>20</td>\n",
       "      <td>TI-10V-2Fe-3Al</td>\n",
       "      <td>0.5</td>\n",
       "      <td>200</td>\n",
       "      <td>101228.40</td>\n",
       "      <td>2335.9500</td>\n",
       "      <td>1.078790</td>\n",
       "      <td>107.879021</td>\n",
       "    </tr>\n",
       "    <tr>\n",
       "      <th>10</th>\n",
       "      <td>70</td>\n",
       "      <td>450</td>\n",
       "      <td>2.0</td>\n",
       "      <td>0.07</td>\n",
       "      <td>80</td>\n",
       "      <td>TI-10V-2Fe-3Al</td>\n",
       "      <td>0.6</td>\n",
       "      <td>200</td>\n",
       "      <td>28288.80</td>\n",
       "      <td>3299.8143</td>\n",
       "      <td>0.916415</td>\n",
       "      <td>91.641521</td>\n",
       "    </tr>\n",
       "    <tr>\n",
       "      <th>11</th>\n",
       "      <td>40</td>\n",
       "      <td>350</td>\n",
       "      <td>1.0</td>\n",
       "      <td>0.06</td>\n",
       "      <td>500</td>\n",
       "      <td>TI-13C11Cr3Al</td>\n",
       "      <td>0.9</td>\n",
       "      <td>200</td>\n",
       "      <td>98407.08</td>\n",
       "      <td>4080.9177</td>\n",
       "      <td>1.111515</td>\n",
       "      <td>111.151470</td>\n",
       "    </tr>\n",
       "    <tr>\n",
       "      <th>12</th>\n",
       "      <td>40</td>\n",
       "      <td>550</td>\n",
       "      <td>0.5</td>\n",
       "      <td>0.07</td>\n",
       "      <td>60</td>\n",
       "      <td>TI-13C11Cr3Al</td>\n",
       "      <td>0.5</td>\n",
       "      <td>200</td>\n",
       "      <td>24245.88</td>\n",
       "      <td>2984.2131</td>\n",
       "      <td>0.844444</td>\n",
       "      <td>84.444372</td>\n",
       "    </tr>\n",
       "    <tr>\n",
       "      <th>13</th>\n",
       "      <td>90</td>\n",
       "      <td>200</td>\n",
       "      <td>0.5</td>\n",
       "      <td>0.07</td>\n",
       "      <td>60</td>\n",
       "      <td>TI-10V-2Fe-3Al</td>\n",
       "      <td>0.6</td>\n",
       "      <td>200</td>\n",
       "      <td>39187.20</td>\n",
       "      <td>3282.5100</td>\n",
       "      <td>0.921246</td>\n",
       "      <td>92.124624</td>\n",
       "    </tr>\n",
       "    <tr>\n",
       "      <th>14</th>\n",
       "      <td>0</td>\n",
       "      <td>200</td>\n",
       "      <td>1.0</td>\n",
       "      <td>0.05</td>\n",
       "      <td>20</td>\n",
       "      <td>TI-10V-2Fe-3Al</td>\n",
       "      <td>0.5</td>\n",
       "      <td>0</td>\n",
       "      <td>84357.00</td>\n",
       "      <td>2685.0000</td>\n",
       "      <td>0.938547</td>\n",
       "      <td>93.854749</td>\n",
       "    </tr>\n",
       "  </tbody>\n",
       "</table>\n",
       "</div>"
      ],
      "text/plain": [
       "    Corner Angle  Temperature  Speed   Friction Factor  Temp of die  \\\n",
       "0             10          300     1.0             0.05           20   \n",
       "1             30          150     0.5             0.05          200   \n",
       "2             40          300     1.0             0.05           20   \n",
       "3              0          300     1.0             0.01           20   \n",
       "4              0          300     1.0             0.10           20   \n",
       "5             60          100     2.0             0.05          200   \n",
       "6              0          300     2.0             0.05           20   \n",
       "7             20          300     1.0             0.07           20   \n",
       "8             80          250     1.0             0.05           50   \n",
       "9              0          200     1.0             0.05           20   \n",
       "10            70          450     2.0             0.07           80   \n",
       "11            40          350     1.0             0.06          500   \n",
       "12            40          550     0.5             0.07           60   \n",
       "13            90          200     0.5             0.07           60   \n",
       "14             0          200     1.0             0.05           20   \n",
       "\n",
       "          Material  Initial Density  Back Pressure   Max Load  Final Volume  \\\n",
       "0   TI-10V-2Fe-3Al              0.5            200   22381.20     3217.2600   \n",
       "1   TI-10V-2Fe-3Al              0.8            200  109092.60     3698.1003   \n",
       "2   TI-10V-2Fe-3Al              0.5            200   24382.80     3181.5900   \n",
       "3   TI-10V-2Fe-3Al              0.5            200   31172.40     2819.6700   \n",
       "4   TI-10V-2Fe-3Al              0.5            200   90846.00     2304.6300   \n",
       "5    TI-13C11Cr3Al              0.8            200   85752.84     3731.0646   \n",
       "6   TI-10V-2Fe-3Al              0.5            200   89893.20     2322.0300   \n",
       "7   TI-10V-2Fe-3Al              0.5            200   44000.40     2775.3000   \n",
       "8    TI-13C11Cr3Al              0.5            200   23928.00     3188.5500   \n",
       "9   TI-10V-2Fe-3Al              0.5            200  101228.40     2335.9500   \n",
       "10  TI-10V-2Fe-3Al              0.6            200   28288.80     3299.8143   \n",
       "11   TI-13C11Cr3Al              0.9            200   98407.08     4080.9177   \n",
       "12   TI-13C11Cr3Al              0.5            200   24245.88     2984.2131   \n",
       "13  TI-10V-2Fe-3Al              0.6            200   39187.20     3282.5100   \n",
       "14  TI-10V-2Fe-3Al              0.5              0   84357.00     2685.0000   \n",
       "\n",
       "    Final Density  Density Percentage  \n",
       "0        0.783275           78.327521  \n",
       "1        1.090290          109.028952  \n",
       "2        0.792057           79.205680  \n",
       "3        0.893722           89.372161  \n",
       "4        1.093451          109.345101  \n",
       "5        1.080657          108.065671  \n",
       "6        1.085257          108.525730  \n",
       "7        0.908010           90.800994  \n",
       "8        0.790328           79.032789  \n",
       "9        1.078790          107.879021  \n",
       "10       0.916415           91.641521  \n",
       "11       1.111515          111.151470  \n",
       "12       0.844444           84.444372  \n",
       "13       0.921246           92.124624  \n",
       "14       0.938547           93.854749  "
      ]
     },
     "execution_count": 5,
     "metadata": {},
     "output_type": "execute_result"
    }
   ],
   "source": [
    "df.head(15)"
   ]
  },
  {
   "cell_type": "code",
   "execution_count": 6,
   "metadata": {},
   "outputs": [
    {
     "data": {
      "text/html": [
       "<div>\n",
       "<style scoped>\n",
       "    .dataframe tbody tr th:only-of-type {\n",
       "        vertical-align: middle;\n",
       "    }\n",
       "\n",
       "    .dataframe tbody tr th {\n",
       "        vertical-align: top;\n",
       "    }\n",
       "\n",
       "    .dataframe thead th {\n",
       "        text-align: right;\n",
       "    }\n",
       "</style>\n",
       "<table border=\"1\" class=\"dataframe\">\n",
       "  <thead>\n",
       "    <tr style=\"text-align: right;\">\n",
       "      <th></th>\n",
       "      <th>Corner Angle</th>\n",
       "      <th>Temperature</th>\n",
       "      <th>Speed</th>\n",
       "      <th>Friction Factor</th>\n",
       "      <th>Temp of die</th>\n",
       "      <th>Material</th>\n",
       "      <th>Initial Density</th>\n",
       "      <th>Back Pressure</th>\n",
       "      <th>Max Load</th>\n",
       "      <th>Final Volume</th>\n",
       "      <th>Final Density</th>\n",
       "      <th>Density Percentage</th>\n",
       "    </tr>\n",
       "  </thead>\n",
       "  <tbody>\n",
       "    <tr>\n",
       "      <th>count</th>\n",
       "      <td>154.000000</td>\n",
       "      <td>154.000000</td>\n",
       "      <td>154.000000</td>\n",
       "      <td>154.000000</td>\n",
       "      <td>154.000000</td>\n",
       "      <td>154</td>\n",
       "      <td>154.000000</td>\n",
       "      <td>154.000000</td>\n",
       "      <td>154.000000</td>\n",
       "      <td>154.000000</td>\n",
       "      <td>154.000000</td>\n",
       "      <td>154.000000</td>\n",
       "    </tr>\n",
       "    <tr>\n",
       "      <th>unique</th>\n",
       "      <td>NaN</td>\n",
       "      <td>NaN</td>\n",
       "      <td>NaN</td>\n",
       "      <td>NaN</td>\n",
       "      <td>NaN</td>\n",
       "      <td>2</td>\n",
       "      <td>NaN</td>\n",
       "      <td>NaN</td>\n",
       "      <td>NaN</td>\n",
       "      <td>NaN</td>\n",
       "      <td>NaN</td>\n",
       "      <td>NaN</td>\n",
       "    </tr>\n",
       "    <tr>\n",
       "      <th>top</th>\n",
       "      <td>NaN</td>\n",
       "      <td>NaN</td>\n",
       "      <td>NaN</td>\n",
       "      <td>NaN</td>\n",
       "      <td>NaN</td>\n",
       "      <td>TI-10V-2Fe-3Al</td>\n",
       "      <td>NaN</td>\n",
       "      <td>NaN</td>\n",
       "      <td>NaN</td>\n",
       "      <td>NaN</td>\n",
       "      <td>NaN</td>\n",
       "      <td>NaN</td>\n",
       "    </tr>\n",
       "    <tr>\n",
       "      <th>freq</th>\n",
       "      <td>NaN</td>\n",
       "      <td>NaN</td>\n",
       "      <td>NaN</td>\n",
       "      <td>NaN</td>\n",
       "      <td>NaN</td>\n",
       "      <td>93</td>\n",
       "      <td>NaN</td>\n",
       "      <td>NaN</td>\n",
       "      <td>NaN</td>\n",
       "      <td>NaN</td>\n",
       "      <td>NaN</td>\n",
       "      <td>NaN</td>\n",
       "    </tr>\n",
       "    <tr>\n",
       "      <th>mean</th>\n",
       "      <td>39.350649</td>\n",
       "      <td>293.116883</td>\n",
       "      <td>1.122078</td>\n",
       "      <td>0.043247</td>\n",
       "      <td>147.532468</td>\n",
       "      <td>NaN</td>\n",
       "      <td>0.620779</td>\n",
       "      <td>96.103896</td>\n",
       "      <td>56389.804442</td>\n",
       "      <td>3398.704736</td>\n",
       "      <td>0.920729</td>\n",
       "      <td>92.072928</td>\n",
       "    </tr>\n",
       "    <tr>\n",
       "      <th>std</th>\n",
       "      <td>30.312648</td>\n",
       "      <td>152.527805</td>\n",
       "      <td>0.638447</td>\n",
       "      <td>0.017818</td>\n",
       "      <td>166.140588</td>\n",
       "      <td>NaN</td>\n",
       "      <td>0.134638</td>\n",
       "      <td>69.670670</td>\n",
       "      <td>32898.220035</td>\n",
       "      <td>535.361519</td>\n",
       "      <td>0.122979</td>\n",
       "      <td>12.297873</td>\n",
       "    </tr>\n",
       "    <tr>\n",
       "      <th>min</th>\n",
       "      <td>0.000000</td>\n",
       "      <td>30.000000</td>\n",
       "      <td>0.200000</td>\n",
       "      <td>0.010000</td>\n",
       "      <td>20.000000</td>\n",
       "      <td>NaN</td>\n",
       "      <td>0.500000</td>\n",
       "      <td>0.000000</td>\n",
       "      <td>9885.620000</td>\n",
       "      <td>2304.630000</td>\n",
       "      <td>0.676510</td>\n",
       "      <td>67.651007</td>\n",
       "    </tr>\n",
       "    <tr>\n",
       "      <th>25%</th>\n",
       "      <td>10.000000</td>\n",
       "      <td>200.000000</td>\n",
       "      <td>0.500000</td>\n",
       "      <td>0.030000</td>\n",
       "      <td>20.000000</td>\n",
       "      <td>NaN</td>\n",
       "      <td>0.500000</td>\n",
       "      <td>12.500000</td>\n",
       "      <td>28823.401750</td>\n",
       "      <td>3086.471250</td>\n",
       "      <td>0.806426</td>\n",
       "      <td>80.642633</td>\n",
       "    </tr>\n",
       "    <tr>\n",
       "      <th>50%</th>\n",
       "      <td>40.000000</td>\n",
       "      <td>300.000000</td>\n",
       "      <td>1.000000</td>\n",
       "      <td>0.050000</td>\n",
       "      <td>60.000000</td>\n",
       "      <td>NaN</td>\n",
       "      <td>0.600000</td>\n",
       "      <td>100.000000</td>\n",
       "      <td>49896.545000</td>\n",
       "      <td>3404.609500</td>\n",
       "      <td>0.927336</td>\n",
       "      <td>92.733597</td>\n",
       "    </tr>\n",
       "    <tr>\n",
       "      <th>75%</th>\n",
       "      <td>70.000000</td>\n",
       "      <td>400.000000</td>\n",
       "      <td>1.000000</td>\n",
       "      <td>0.050000</td>\n",
       "      <td>200.000000</td>\n",
       "      <td>NaN</td>\n",
       "      <td>0.700000</td>\n",
       "      <td>150.000000</td>\n",
       "      <td>83671.556250</td>\n",
       "      <td>3832.674000</td>\n",
       "      <td>1.033500</td>\n",
       "      <td>103.350016</td>\n",
       "    </tr>\n",
       "    <tr>\n",
       "      <th>max</th>\n",
       "      <td>90.000000</td>\n",
       "      <td>600.000000</td>\n",
       "      <td>3.000000</td>\n",
       "      <td>0.100000</td>\n",
       "      <td>550.000000</td>\n",
       "      <td>NaN</td>\n",
       "      <td>0.900000</td>\n",
       "      <td>200.000000</td>\n",
       "      <td>142948.450000</td>\n",
       "      <td>4578.000000</td>\n",
       "      <td>1.153759</td>\n",
       "      <td>115.375913</td>\n",
       "    </tr>\n",
       "  </tbody>\n",
       "</table>\n",
       "</div>"
      ],
      "text/plain": [
       "        Corner Angle  Temperature      Speed   Friction Factor  Temp of die  \\\n",
       "count     154.000000   154.000000  154.000000       154.000000   154.000000   \n",
       "unique           NaN          NaN         NaN              NaN          NaN   \n",
       "top              NaN          NaN         NaN              NaN          NaN   \n",
       "freq             NaN          NaN         NaN              NaN          NaN   \n",
       "mean       39.350649   293.116883    1.122078         0.043247   147.532468   \n",
       "std        30.312648   152.527805    0.638447         0.017818   166.140588   \n",
       "min         0.000000    30.000000    0.200000         0.010000    20.000000   \n",
       "25%        10.000000   200.000000    0.500000         0.030000    20.000000   \n",
       "50%        40.000000   300.000000    1.000000         0.050000    60.000000   \n",
       "75%        70.000000   400.000000    1.000000         0.050000   200.000000   \n",
       "max        90.000000   600.000000    3.000000         0.100000   550.000000   \n",
       "\n",
       "              Material  Initial Density  Back Pressure       Max Load  \\\n",
       "count              154       154.000000     154.000000     154.000000   \n",
       "unique               2              NaN            NaN            NaN   \n",
       "top     TI-10V-2Fe-3Al              NaN            NaN            NaN   \n",
       "freq                93              NaN            NaN            NaN   \n",
       "mean               NaN         0.620779      96.103896   56389.804442   \n",
       "std                NaN         0.134638      69.670670   32898.220035   \n",
       "min                NaN         0.500000       0.000000    9885.620000   \n",
       "25%                NaN         0.500000      12.500000   28823.401750   \n",
       "50%                NaN         0.600000     100.000000   49896.545000   \n",
       "75%                NaN         0.700000     150.000000   83671.556250   \n",
       "max                NaN         0.900000     200.000000  142948.450000   \n",
       "\n",
       "        Final Volume  Final Density  Density Percentage  \n",
       "count     154.000000     154.000000          154.000000  \n",
       "unique           NaN            NaN                 NaN  \n",
       "top              NaN            NaN                 NaN  \n",
       "freq             NaN            NaN                 NaN  \n",
       "mean     3398.704736       0.920729           92.072928  \n",
       "std       535.361519       0.122979           12.297873  \n",
       "min      2304.630000       0.676510           67.651007  \n",
       "25%      3086.471250       0.806426           80.642633  \n",
       "50%      3404.609500       0.927336           92.733597  \n",
       "75%      3832.674000       1.033500          103.350016  \n",
       "max      4578.000000       1.153759          115.375913  "
      ]
     },
     "execution_count": 6,
     "metadata": {},
     "output_type": "execute_result"
    }
   ],
   "source": [
    "df.describe(include='all')"
   ]
  },
  {
   "cell_type": "code",
   "execution_count": 7,
   "metadata": {},
   "outputs": [
    {
     "data": {
      "text/html": [
       "<div>\n",
       "<style scoped>\n",
       "    .dataframe tbody tr th:only-of-type {\n",
       "        vertical-align: middle;\n",
       "    }\n",
       "\n",
       "    .dataframe tbody tr th {\n",
       "        vertical-align: top;\n",
       "    }\n",
       "\n",
       "    .dataframe thead th {\n",
       "        text-align: right;\n",
       "    }\n",
       "</style>\n",
       "<table border=\"1\" class=\"dataframe\">\n",
       "  <thead>\n",
       "    <tr style=\"text-align: right;\">\n",
       "      <th></th>\n",
       "      <th>TI-10V-2Fe-3Al</th>\n",
       "      <th>TI-13C11Cr3Al</th>\n",
       "    </tr>\n",
       "  </thead>\n",
       "  <tbody>\n",
       "    <tr>\n",
       "      <th>0</th>\n",
       "      <td>1</td>\n",
       "      <td>0</td>\n",
       "    </tr>\n",
       "    <tr>\n",
       "      <th>1</th>\n",
       "      <td>1</td>\n",
       "      <td>0</td>\n",
       "    </tr>\n",
       "    <tr>\n",
       "      <th>2</th>\n",
       "      <td>1</td>\n",
       "      <td>0</td>\n",
       "    </tr>\n",
       "    <tr>\n",
       "      <th>3</th>\n",
       "      <td>1</td>\n",
       "      <td>0</td>\n",
       "    </tr>\n",
       "    <tr>\n",
       "      <th>4</th>\n",
       "      <td>1</td>\n",
       "      <td>0</td>\n",
       "    </tr>\n",
       "  </tbody>\n",
       "</table>\n",
       "</div>"
      ],
      "text/plain": [
       "   TI-10V-2Fe-3Al  TI-13C11Cr3Al\n",
       "0               1              0\n",
       "1               1              0\n",
       "2               1              0\n",
       "3               1              0\n",
       "4               1              0"
      ]
     },
     "execution_count": 7,
     "metadata": {},
     "output_type": "execute_result"
    }
   ],
   "source": [
    "mat=pd.get_dummies(df['Material'])\n",
    "mat.head()"
   ]
  },
  {
   "cell_type": "code",
   "execution_count": 8,
   "metadata": {},
   "outputs": [
    {
     "data": {
      "text/html": [
       "<div>\n",
       "<style scoped>\n",
       "    .dataframe tbody tr th:only-of-type {\n",
       "        vertical-align: middle;\n",
       "    }\n",
       "\n",
       "    .dataframe tbody tr th {\n",
       "        vertical-align: top;\n",
       "    }\n",
       "\n",
       "    .dataframe thead th {\n",
       "        text-align: right;\n",
       "    }\n",
       "</style>\n",
       "<table border=\"1\" class=\"dataframe\">\n",
       "  <thead>\n",
       "    <tr style=\"text-align: right;\">\n",
       "      <th></th>\n",
       "      <th>Corner Angle</th>\n",
       "      <th>Temperature</th>\n",
       "      <th>Speed</th>\n",
       "      <th>Friction Factor</th>\n",
       "      <th>Temp of die</th>\n",
       "      <th>Material</th>\n",
       "      <th>Initial Density</th>\n",
       "      <th>Back Pressure</th>\n",
       "      <th>Max Load</th>\n",
       "      <th>Final Volume</th>\n",
       "      <th>Final Density</th>\n",
       "      <th>Density Percentage</th>\n",
       "      <th>TI-10V-2Fe-3Al</th>\n",
       "      <th>TI-13C11Cr3Al</th>\n",
       "    </tr>\n",
       "  </thead>\n",
       "  <tbody>\n",
       "    <tr>\n",
       "      <th>0</th>\n",
       "      <td>10</td>\n",
       "      <td>300</td>\n",
       "      <td>1.0</td>\n",
       "      <td>0.05</td>\n",
       "      <td>20</td>\n",
       "      <td>TI-10V-2Fe-3Al</td>\n",
       "      <td>0.5</td>\n",
       "      <td>200</td>\n",
       "      <td>22381.2</td>\n",
       "      <td>3217.2600</td>\n",
       "      <td>0.783275</td>\n",
       "      <td>78.327521</td>\n",
       "      <td>1</td>\n",
       "      <td>0</td>\n",
       "    </tr>\n",
       "    <tr>\n",
       "      <th>1</th>\n",
       "      <td>30</td>\n",
       "      <td>150</td>\n",
       "      <td>0.5</td>\n",
       "      <td>0.05</td>\n",
       "      <td>200</td>\n",
       "      <td>TI-10V-2Fe-3Al</td>\n",
       "      <td>0.8</td>\n",
       "      <td>200</td>\n",
       "      <td>109092.6</td>\n",
       "      <td>3698.1003</td>\n",
       "      <td>1.090290</td>\n",
       "      <td>109.028952</td>\n",
       "      <td>1</td>\n",
       "      <td>0</td>\n",
       "    </tr>\n",
       "    <tr>\n",
       "      <th>2</th>\n",
       "      <td>40</td>\n",
       "      <td>300</td>\n",
       "      <td>1.0</td>\n",
       "      <td>0.05</td>\n",
       "      <td>20</td>\n",
       "      <td>TI-10V-2Fe-3Al</td>\n",
       "      <td>0.5</td>\n",
       "      <td>200</td>\n",
       "      <td>24382.8</td>\n",
       "      <td>3181.5900</td>\n",
       "      <td>0.792057</td>\n",
       "      <td>79.205680</td>\n",
       "      <td>1</td>\n",
       "      <td>0</td>\n",
       "    </tr>\n",
       "    <tr>\n",
       "      <th>3</th>\n",
       "      <td>0</td>\n",
       "      <td>300</td>\n",
       "      <td>1.0</td>\n",
       "      <td>0.01</td>\n",
       "      <td>20</td>\n",
       "      <td>TI-10V-2Fe-3Al</td>\n",
       "      <td>0.5</td>\n",
       "      <td>200</td>\n",
       "      <td>31172.4</td>\n",
       "      <td>2819.6700</td>\n",
       "      <td>0.893722</td>\n",
       "      <td>89.372161</td>\n",
       "      <td>1</td>\n",
       "      <td>0</td>\n",
       "    </tr>\n",
       "    <tr>\n",
       "      <th>4</th>\n",
       "      <td>0</td>\n",
       "      <td>300</td>\n",
       "      <td>1.0</td>\n",
       "      <td>0.10</td>\n",
       "      <td>20</td>\n",
       "      <td>TI-10V-2Fe-3Al</td>\n",
       "      <td>0.5</td>\n",
       "      <td>200</td>\n",
       "      <td>90846.0</td>\n",
       "      <td>2304.6300</td>\n",
       "      <td>1.093451</td>\n",
       "      <td>109.345101</td>\n",
       "      <td>1</td>\n",
       "      <td>0</td>\n",
       "    </tr>\n",
       "  </tbody>\n",
       "</table>\n",
       "</div>"
      ],
      "text/plain": [
       "   Corner Angle  Temperature  Speed   Friction Factor  Temp of die  \\\n",
       "0            10          300     1.0             0.05           20   \n",
       "1            30          150     0.5             0.05          200   \n",
       "2            40          300     1.0             0.05           20   \n",
       "3             0          300     1.0             0.01           20   \n",
       "4             0          300     1.0             0.10           20   \n",
       "\n",
       "         Material  Initial Density  Back Pressure  Max Load  Final Volume  \\\n",
       "0  TI-10V-2Fe-3Al              0.5            200   22381.2     3217.2600   \n",
       "1  TI-10V-2Fe-3Al              0.8            200  109092.6     3698.1003   \n",
       "2  TI-10V-2Fe-3Al              0.5            200   24382.8     3181.5900   \n",
       "3  TI-10V-2Fe-3Al              0.5            200   31172.4     2819.6700   \n",
       "4  TI-10V-2Fe-3Al              0.5            200   90846.0     2304.6300   \n",
       "\n",
       "   Final Density  Density Percentage  TI-10V-2Fe-3Al  TI-13C11Cr3Al  \n",
       "0       0.783275           78.327521               1              0  \n",
       "1       1.090290          109.028952               1              0  \n",
       "2       0.792057           79.205680               1              0  \n",
       "3       0.893722           89.372161               1              0  \n",
       "4       1.093451          109.345101               1              0  "
      ]
     },
     "execution_count": 8,
     "metadata": {},
     "output_type": "execute_result"
    }
   ],
   "source": [
    "df=pd.concat([df,mat],axis=1)\n",
    "df.head()"
   ]
  },
  {
   "cell_type": "code",
   "execution_count": 9,
   "metadata": {
    "scrolled": true
   },
   "outputs": [
    {
     "data": {
      "text/html": [
       "<div>\n",
       "<style scoped>\n",
       "    .dataframe tbody tr th:only-of-type {\n",
       "        vertical-align: middle;\n",
       "    }\n",
       "\n",
       "    .dataframe tbody tr th {\n",
       "        vertical-align: top;\n",
       "    }\n",
       "\n",
       "    .dataframe thead th {\n",
       "        text-align: right;\n",
       "    }\n",
       "</style>\n",
       "<table border=\"1\" class=\"dataframe\">\n",
       "  <thead>\n",
       "    <tr style=\"text-align: right;\">\n",
       "      <th></th>\n",
       "      <th>Corner Angle</th>\n",
       "      <th>Temperature</th>\n",
       "      <th>Speed</th>\n",
       "      <th>Friction Factor</th>\n",
       "      <th>Temp of die</th>\n",
       "      <th>Initial Density</th>\n",
       "      <th>Back Pressure</th>\n",
       "      <th>Density Percentage</th>\n",
       "      <th>TI-10V-2Fe-3Al</th>\n",
       "      <th>TI-13C11Cr3Al</th>\n",
       "    </tr>\n",
       "  </thead>\n",
       "  <tbody>\n",
       "    <tr>\n",
       "      <th>0</th>\n",
       "      <td>10</td>\n",
       "      <td>300</td>\n",
       "      <td>1.0</td>\n",
       "      <td>0.05</td>\n",
       "      <td>20</td>\n",
       "      <td>0.5</td>\n",
       "      <td>200</td>\n",
       "      <td>78.327521</td>\n",
       "      <td>1</td>\n",
       "      <td>0</td>\n",
       "    </tr>\n",
       "    <tr>\n",
       "      <th>1</th>\n",
       "      <td>30</td>\n",
       "      <td>150</td>\n",
       "      <td>0.5</td>\n",
       "      <td>0.05</td>\n",
       "      <td>200</td>\n",
       "      <td>0.8</td>\n",
       "      <td>200</td>\n",
       "      <td>109.028952</td>\n",
       "      <td>1</td>\n",
       "      <td>0</td>\n",
       "    </tr>\n",
       "    <tr>\n",
       "      <th>2</th>\n",
       "      <td>40</td>\n",
       "      <td>300</td>\n",
       "      <td>1.0</td>\n",
       "      <td>0.05</td>\n",
       "      <td>20</td>\n",
       "      <td>0.5</td>\n",
       "      <td>200</td>\n",
       "      <td>79.205680</td>\n",
       "      <td>1</td>\n",
       "      <td>0</td>\n",
       "    </tr>\n",
       "    <tr>\n",
       "      <th>3</th>\n",
       "      <td>0</td>\n",
       "      <td>300</td>\n",
       "      <td>1.0</td>\n",
       "      <td>0.01</td>\n",
       "      <td>20</td>\n",
       "      <td>0.5</td>\n",
       "      <td>200</td>\n",
       "      <td>89.372161</td>\n",
       "      <td>1</td>\n",
       "      <td>0</td>\n",
       "    </tr>\n",
       "    <tr>\n",
       "      <th>4</th>\n",
       "      <td>0</td>\n",
       "      <td>300</td>\n",
       "      <td>1.0</td>\n",
       "      <td>0.10</td>\n",
       "      <td>20</td>\n",
       "      <td>0.5</td>\n",
       "      <td>200</td>\n",
       "      <td>109.345101</td>\n",
       "      <td>1</td>\n",
       "      <td>0</td>\n",
       "    </tr>\n",
       "  </tbody>\n",
       "</table>\n",
       "</div>"
      ],
      "text/plain": [
       "   Corner Angle  Temperature  Speed   Friction Factor  Temp of die  \\\n",
       "0            10          300     1.0             0.05           20   \n",
       "1            30          150     0.5             0.05          200   \n",
       "2            40          300     1.0             0.05           20   \n",
       "3             0          300     1.0             0.01           20   \n",
       "4             0          300     1.0             0.10           20   \n",
       "\n",
       "   Initial Density  Back Pressure  Density Percentage  TI-10V-2Fe-3Al  \\\n",
       "0              0.5            200           78.327521               1   \n",
       "1              0.8            200          109.028952               1   \n",
       "2              0.5            200           79.205680               1   \n",
       "3              0.5            200           89.372161               1   \n",
       "4              0.5            200          109.345101               1   \n",
       "\n",
       "   TI-13C11Cr3Al  \n",
       "0              0  \n",
       "1              0  \n",
       "2              0  \n",
       "3              0  \n",
       "4              0  "
      ]
     },
     "execution_count": 9,
     "metadata": {},
     "output_type": "execute_result"
    }
   ],
   "source": [
    "df.drop([\"Material\",\"Final Density\",\"Max Load\",\"Final Volume\"],axis=1,inplace=True)\n",
    "df.head()"
   ]
  },
  {
   "cell_type": "code",
   "execution_count": 10,
   "metadata": {},
   "outputs": [
    {
     "data": {
      "text/html": [
       "<div>\n",
       "<style scoped>\n",
       "    .dataframe tbody tr th:only-of-type {\n",
       "        vertical-align: middle;\n",
       "    }\n",
       "\n",
       "    .dataframe tbody tr th {\n",
       "        vertical-align: top;\n",
       "    }\n",
       "\n",
       "    .dataframe thead th {\n",
       "        text-align: right;\n",
       "    }\n",
       "</style>\n",
       "<table border=\"1\" class=\"dataframe\">\n",
       "  <thead>\n",
       "    <tr style=\"text-align: right;\">\n",
       "      <th></th>\n",
       "      <th>Corner Angle</th>\n",
       "      <th>Temperature</th>\n",
       "      <th>Speed</th>\n",
       "      <th>Friction Factor</th>\n",
       "      <th>Temp of die</th>\n",
       "      <th>Initial Density</th>\n",
       "      <th>Back Pressure</th>\n",
       "      <th>Density Percentage</th>\n",
       "      <th>TI-10V-2Fe-3Al</th>\n",
       "      <th>TI-13C11Cr3Al</th>\n",
       "    </tr>\n",
       "  </thead>\n",
       "  <tbody>\n",
       "    <tr>\n",
       "      <th>Corner Angle</th>\n",
       "      <td>1.000000</td>\n",
       "      <td>0.054865</td>\n",
       "      <td>0.093282</td>\n",
       "      <td>-0.039634</td>\n",
       "      <td>-0.257675</td>\n",
       "      <td>-0.007883</td>\n",
       "      <td>0.004984</td>\n",
       "      <td>-0.521151</td>\n",
       "      <td>-0.215147</td>\n",
       "      <td>0.215147</td>\n",
       "    </tr>\n",
       "    <tr>\n",
       "      <th>Temperature</th>\n",
       "      <td>0.054865</td>\n",
       "      <td>1.000000</td>\n",
       "      <td>-0.039237</td>\n",
       "      <td>-0.081185</td>\n",
       "      <td>-0.058320</td>\n",
       "      <td>-0.227234</td>\n",
       "      <td>-0.163375</td>\n",
       "      <td>-0.198703</td>\n",
       "      <td>0.327496</td>\n",
       "      <td>-0.327496</td>\n",
       "    </tr>\n",
       "    <tr>\n",
       "      <th>Speed</th>\n",
       "      <td>0.093282</td>\n",
       "      <td>-0.039237</td>\n",
       "      <td>1.000000</td>\n",
       "      <td>0.016639</td>\n",
       "      <td>0.165900</td>\n",
       "      <td>0.112483</td>\n",
       "      <td>-0.097971</td>\n",
       "      <td>0.000893</td>\n",
       "      <td>-0.078305</td>\n",
       "      <td>0.078305</td>\n",
       "    </tr>\n",
       "    <tr>\n",
       "      <th>Friction Factor</th>\n",
       "      <td>-0.039634</td>\n",
       "      <td>-0.081185</td>\n",
       "      <td>0.016639</td>\n",
       "      <td>1.000000</td>\n",
       "      <td>0.009347</td>\n",
       "      <td>-0.140006</td>\n",
       "      <td>0.120819</td>\n",
       "      <td>0.005227</td>\n",
       "      <td>-0.016407</td>\n",
       "      <td>0.016407</td>\n",
       "    </tr>\n",
       "    <tr>\n",
       "      <th>Temp of die</th>\n",
       "      <td>-0.257675</td>\n",
       "      <td>-0.058320</td>\n",
       "      <td>0.165900</td>\n",
       "      <td>0.009347</td>\n",
       "      <td>1.000000</td>\n",
       "      <td>0.367543</td>\n",
       "      <td>-0.010153</td>\n",
       "      <td>0.345633</td>\n",
       "      <td>-0.222123</td>\n",
       "      <td>0.222123</td>\n",
       "    </tr>\n",
       "    <tr>\n",
       "      <th>Initial Density</th>\n",
       "      <td>-0.007883</td>\n",
       "      <td>-0.227234</td>\n",
       "      <td>0.112483</td>\n",
       "      <td>-0.140006</td>\n",
       "      <td>0.367543</td>\n",
       "      <td>1.000000</td>\n",
       "      <td>0.008687</td>\n",
       "      <td>0.613716</td>\n",
       "      <td>-0.141718</td>\n",
       "      <td>0.141718</td>\n",
       "    </tr>\n",
       "    <tr>\n",
       "      <th>Back Pressure</th>\n",
       "      <td>0.004984</td>\n",
       "      <td>-0.163375</td>\n",
       "      <td>-0.097971</td>\n",
       "      <td>0.120819</td>\n",
       "      <td>-0.010153</td>\n",
       "      <td>0.008687</td>\n",
       "      <td>1.000000</td>\n",
       "      <td>0.322873</td>\n",
       "      <td>-0.035879</td>\n",
       "      <td>0.035879</td>\n",
       "    </tr>\n",
       "    <tr>\n",
       "      <th>Density Percentage</th>\n",
       "      <td>-0.521151</td>\n",
       "      <td>-0.198703</td>\n",
       "      <td>0.000893</td>\n",
       "      <td>0.005227</td>\n",
       "      <td>0.345633</td>\n",
       "      <td>0.613716</td>\n",
       "      <td>0.322873</td>\n",
       "      <td>1.000000</td>\n",
       "      <td>-0.040466</td>\n",
       "      <td>0.040466</td>\n",
       "    </tr>\n",
       "    <tr>\n",
       "      <th>TI-10V-2Fe-3Al</th>\n",
       "      <td>-0.215147</td>\n",
       "      <td>0.327496</td>\n",
       "      <td>-0.078305</td>\n",
       "      <td>-0.016407</td>\n",
       "      <td>-0.222123</td>\n",
       "      <td>-0.141718</td>\n",
       "      <td>-0.035879</td>\n",
       "      <td>-0.040466</td>\n",
       "      <td>1.000000</td>\n",
       "      <td>-1.000000</td>\n",
       "    </tr>\n",
       "    <tr>\n",
       "      <th>TI-13C11Cr3Al</th>\n",
       "      <td>0.215147</td>\n",
       "      <td>-0.327496</td>\n",
       "      <td>0.078305</td>\n",
       "      <td>0.016407</td>\n",
       "      <td>0.222123</td>\n",
       "      <td>0.141718</td>\n",
       "      <td>0.035879</td>\n",
       "      <td>0.040466</td>\n",
       "      <td>-1.000000</td>\n",
       "      <td>1.000000</td>\n",
       "    </tr>\n",
       "  </tbody>\n",
       "</table>\n",
       "</div>"
      ],
      "text/plain": [
       "                    Corner Angle  Temperature    Speed   Friction Factor  \\\n",
       "Corner Angle            1.000000     0.054865  0.093282        -0.039634   \n",
       "Temperature             0.054865     1.000000 -0.039237        -0.081185   \n",
       "Speed                   0.093282    -0.039237  1.000000         0.016639   \n",
       "Friction Factor        -0.039634    -0.081185  0.016639         1.000000   \n",
       "Temp of die            -0.257675    -0.058320  0.165900         0.009347   \n",
       "Initial Density        -0.007883    -0.227234  0.112483        -0.140006   \n",
       "Back Pressure           0.004984    -0.163375 -0.097971         0.120819   \n",
       "Density Percentage     -0.521151    -0.198703  0.000893         0.005227   \n",
       "TI-10V-2Fe-3Al         -0.215147     0.327496 -0.078305        -0.016407   \n",
       "TI-13C11Cr3Al           0.215147    -0.327496  0.078305         0.016407   \n",
       "\n",
       "                    Temp of die  Initial Density  Back Pressure  \\\n",
       "Corner Angle          -0.257675        -0.007883       0.004984   \n",
       "Temperature           -0.058320        -0.227234      -0.163375   \n",
       "Speed                  0.165900         0.112483      -0.097971   \n",
       "Friction Factor        0.009347        -0.140006       0.120819   \n",
       "Temp of die            1.000000         0.367543      -0.010153   \n",
       "Initial Density        0.367543         1.000000       0.008687   \n",
       "Back Pressure         -0.010153         0.008687       1.000000   \n",
       "Density Percentage     0.345633         0.613716       0.322873   \n",
       "TI-10V-2Fe-3Al        -0.222123        -0.141718      -0.035879   \n",
       "TI-13C11Cr3Al          0.222123         0.141718       0.035879   \n",
       "\n",
       "                    Density Percentage  TI-10V-2Fe-3Al  TI-13C11Cr3Al  \n",
       "Corner Angle                 -0.521151       -0.215147       0.215147  \n",
       "Temperature                  -0.198703        0.327496      -0.327496  \n",
       "Speed                         0.000893       -0.078305       0.078305  \n",
       "Friction Factor               0.005227       -0.016407       0.016407  \n",
       "Temp of die                   0.345633       -0.222123       0.222123  \n",
       "Initial Density               0.613716       -0.141718       0.141718  \n",
       "Back Pressure                 0.322873       -0.035879       0.035879  \n",
       "Density Percentage            1.000000       -0.040466       0.040466  \n",
       "TI-10V-2Fe-3Al               -0.040466        1.000000      -1.000000  \n",
       "TI-13C11Cr3Al                 0.040466       -1.000000       1.000000  "
      ]
     },
     "execution_count": 10,
     "metadata": {},
     "output_type": "execute_result"
    }
   ],
   "source": [
    "corr=df.corr()\n",
    "corr"
   ]
  },
  {
   "cell_type": "code",
   "execution_count": 11,
   "metadata": {},
   "outputs": [],
   "source": [
    "X=df.drop(\"Density Percentage\",axis=1)\n",
    "Y=df[\"Density Percentage\"]"
   ]
  },
  {
   "cell_type": "code",
   "execution_count": 12,
   "metadata": {},
   "outputs": [],
   "source": [
    "X_train,X_test,Y_train,Y_test= train_test_split(X,Y,test_size=0.30,random_state=25)"
   ]
  },
  {
   "cell_type": "markdown",
   "metadata": {},
   "source": [
    "## Linear Regression"
   ]
  },
  {
   "cell_type": "code",
   "execution_count": 13,
   "metadata": {},
   "outputs": [],
   "source": [
    "from sklearn.linear_model import LinearRegression"
   ]
  },
  {
   "cell_type": "code",
   "execution_count": 14,
   "metadata": {},
   "outputs": [
    {
     "data": {
      "text/plain": [
       "LinearRegression()"
      ]
     },
     "execution_count": 14,
     "metadata": {},
     "output_type": "execute_result"
    }
   ],
   "source": [
    "reg_model = LinearRegression()\n",
    "reg_model.fit(X_train, Y_train)"
   ]
  },
  {
   "cell_type": "code",
   "execution_count": 15,
   "metadata": {
    "scrolled": false
   },
   "outputs": [
    {
     "name": "stdout",
     "output_type": "stream",
     "text": [
      "The coefficient for Corner Angle is -0.1961029169349726\n",
      "The coefficient for Temperature is -0.1961029169349726\n",
      "The coefficient for Speed  is -0.1961029169349726\n",
      "The coefficient for Friction Factor is -0.1961029169349726\n",
      "The coefficient for Temp of die is -0.1961029169349726\n",
      "The coefficient for Initial Density is -0.1961029169349726\n",
      "The coefficient for Back Pressure is -0.1961029169349726\n",
      "The coefficient for TI-10V-2Fe-3Al is -0.1961029169349726\n",
      "The coefficient for TI-13C11Cr3Al is -0.1961029169349726\n"
     ]
    }
   ],
   "source": [
    "for idx, col_name in enumerate(X_train.columns):\n",
    "    print(\"The coefficient for {} is {}\".format(col_name, reg_model.coef_[0]))"
   ]
  },
  {
   "cell_type": "code",
   "execution_count": 16,
   "metadata": {},
   "outputs": [
    {
     "name": "stdout",
     "output_type": "stream",
     "text": [
      "The intercept for our model is 57.91325196714428\n"
     ]
    }
   ],
   "source": [
    "intercept = reg_model.intercept_\n",
    "print(\"The intercept for our model is {}\".format(intercept))"
   ]
  },
  {
   "cell_type": "code",
   "execution_count": 133,
   "metadata": {},
   "outputs": [
    {
     "data": {
      "text/plain": [
       "0.7624741348248505"
      ]
     },
     "execution_count": 133,
     "metadata": {},
     "output_type": "execute_result"
    }
   ],
   "source": [
    "reg_model.score(X_train, Y_train) \n"
   ]
  },
  {
   "cell_type": "code",
   "execution_count": 134,
   "metadata": {},
   "outputs": [
    {
     "data": {
      "text/plain": [
       "0.7053475373677629"
      ]
     },
     "execution_count": 134,
     "metadata": {},
     "output_type": "execute_result"
    }
   ],
   "source": [
    "reg_model.score(X_test, Y_test) \n"
   ]
  },
  {
   "cell_type": "code",
   "execution_count": 135,
   "metadata": {},
   "outputs": [],
   "source": [
    "lr_tr=reg_model.score(X_train, Y_train) \n",
    "lr_ts=reg_model.score(X_test, Y_test)"
   ]
  },
  {
   "cell_type": "code",
   "execution_count": null,
   "metadata": {},
   "outputs": [],
   "source": [
    "#test scores are low, seems to be a bit over fitting"
   ]
  },
  {
   "cell_type": "code",
   "execution_count": 19,
   "metadata": {},
   "outputs": [
    {
     "name": "stdout",
     "output_type": "stream",
     "text": [
      "0.8886174982824112\n"
     ]
    }
   ],
   "source": [
    "from sklearn.preprocessing import PolynomialFeatures\n",
    "from sklearn import linear_model\n",
    "\n",
    "poly = PolynomialFeatures(degree=2, interaction_only=True)\n",
    "X_train2 = poly.fit_transform(X_train)\n",
    "X_test2 = poly.fit_transform(X_test)\n",
    "\n",
    "poly_clf = linear_model.LinearRegression()\n",
    "\n",
    "poly_clf.fit(X_train2, Y_train)\n",
    "\n",
    "Y_pred = poly_clf.predict(X_test2)\n",
    "\n",
    "\n",
    "print(poly_clf.score(X_train2, Y_train))"
   ]
  },
  {
   "cell_type": "code",
   "execution_count": 20,
   "metadata": {},
   "outputs": [
    {
     "name": "stdout",
     "output_type": "stream",
     "text": [
      "0.5360542528380752\n"
     ]
    }
   ],
   "source": [
    "print(poly_clf.score(X_test2, Y_test)) "
   ]
  },
  {
   "cell_type": "code",
   "execution_count": 21,
   "metadata": {
    "scrolled": false
   },
   "outputs": [
    {
     "name": "stdout",
     "output_type": "stream",
     "text": [
      "(107, 9)\n",
      "(107, 46)\n"
     ]
    }
   ],
   "source": [
    "print(X_train.shape)\n",
    "print(X_train2.shape)"
   ]
  },
  {
   "cell_type": "code",
   "execution_count": null,
   "metadata": {},
   "outputs": [],
   "source": [
    "# polynomial regression is very overfitting\n",
    "# even by increasing the variables from 9 to 46, test score has decresed"
   ]
  },
  {
   "cell_type": "markdown",
   "metadata": {},
   "source": [
    "#### From this we can conclude Linear regression is not a suitable model"
   ]
  },
  {
   "cell_type": "markdown",
   "metadata": {},
   "source": [
    "## Gausian NB"
   ]
  },
  {
   "cell_type": "code",
   "execution_count": 22,
   "metadata": {},
   "outputs": [],
   "source": [
    "from sklearn.naive_bayes import GaussianNB"
   ]
  },
  {
   "cell_type": "code",
   "execution_count": 23,
   "metadata": {},
   "outputs": [],
   "source": [
    "df['Density Percentage'] = df['Density Percentage'].astype(int)"
   ]
  },
  {
   "cell_type": "code",
   "execution_count": 24,
   "metadata": {},
   "outputs": [
    {
     "data": {
      "text/html": [
       "<div>\n",
       "<style scoped>\n",
       "    .dataframe tbody tr th:only-of-type {\n",
       "        vertical-align: middle;\n",
       "    }\n",
       "\n",
       "    .dataframe tbody tr th {\n",
       "        vertical-align: top;\n",
       "    }\n",
       "\n",
       "    .dataframe thead th {\n",
       "        text-align: right;\n",
       "    }\n",
       "</style>\n",
       "<table border=\"1\" class=\"dataframe\">\n",
       "  <thead>\n",
       "    <tr style=\"text-align: right;\">\n",
       "      <th></th>\n",
       "      <th>Corner Angle</th>\n",
       "      <th>Temperature</th>\n",
       "      <th>Speed</th>\n",
       "      <th>Friction Factor</th>\n",
       "      <th>Temp of die</th>\n",
       "      <th>Initial Density</th>\n",
       "      <th>Back Pressure</th>\n",
       "      <th>Density Percentage</th>\n",
       "      <th>TI-10V-2Fe-3Al</th>\n",
       "      <th>TI-13C11Cr3Al</th>\n",
       "    </tr>\n",
       "  </thead>\n",
       "  <tbody>\n",
       "    <tr>\n",
       "      <th>0</th>\n",
       "      <td>10</td>\n",
       "      <td>300</td>\n",
       "      <td>1.0</td>\n",
       "      <td>0.05</td>\n",
       "      <td>20</td>\n",
       "      <td>0.5</td>\n",
       "      <td>200</td>\n",
       "      <td>78</td>\n",
       "      <td>1</td>\n",
       "      <td>0</td>\n",
       "    </tr>\n",
       "    <tr>\n",
       "      <th>1</th>\n",
       "      <td>30</td>\n",
       "      <td>150</td>\n",
       "      <td>0.5</td>\n",
       "      <td>0.05</td>\n",
       "      <td>200</td>\n",
       "      <td>0.8</td>\n",
       "      <td>200</td>\n",
       "      <td>109</td>\n",
       "      <td>1</td>\n",
       "      <td>0</td>\n",
       "    </tr>\n",
       "    <tr>\n",
       "      <th>2</th>\n",
       "      <td>40</td>\n",
       "      <td>300</td>\n",
       "      <td>1.0</td>\n",
       "      <td>0.05</td>\n",
       "      <td>20</td>\n",
       "      <td>0.5</td>\n",
       "      <td>200</td>\n",
       "      <td>79</td>\n",
       "      <td>1</td>\n",
       "      <td>0</td>\n",
       "    </tr>\n",
       "    <tr>\n",
       "      <th>3</th>\n",
       "      <td>0</td>\n",
       "      <td>300</td>\n",
       "      <td>1.0</td>\n",
       "      <td>0.01</td>\n",
       "      <td>20</td>\n",
       "      <td>0.5</td>\n",
       "      <td>200</td>\n",
       "      <td>89</td>\n",
       "      <td>1</td>\n",
       "      <td>0</td>\n",
       "    </tr>\n",
       "    <tr>\n",
       "      <th>4</th>\n",
       "      <td>0</td>\n",
       "      <td>300</td>\n",
       "      <td>1.0</td>\n",
       "      <td>0.10</td>\n",
       "      <td>20</td>\n",
       "      <td>0.5</td>\n",
       "      <td>200</td>\n",
       "      <td>109</td>\n",
       "      <td>1</td>\n",
       "      <td>0</td>\n",
       "    </tr>\n",
       "  </tbody>\n",
       "</table>\n",
       "</div>"
      ],
      "text/plain": [
       "   Corner Angle  Temperature  Speed   Friction Factor  Temp of die  \\\n",
       "0            10          300     1.0             0.05           20   \n",
       "1            30          150     0.5             0.05          200   \n",
       "2            40          300     1.0             0.05           20   \n",
       "3             0          300     1.0             0.01           20   \n",
       "4             0          300     1.0             0.10           20   \n",
       "\n",
       "   Initial Density  Back Pressure  Density Percentage  TI-10V-2Fe-3Al  \\\n",
       "0              0.5            200                  78               1   \n",
       "1              0.8            200                 109               1   \n",
       "2              0.5            200                  79               1   \n",
       "3              0.5            200                  89               1   \n",
       "4              0.5            200                 109               1   \n",
       "\n",
       "   TI-13C11Cr3Al  \n",
       "0              0  \n",
       "1              0  \n",
       "2              0  \n",
       "3              0  \n",
       "4              0  "
      ]
     },
     "execution_count": 24,
     "metadata": {},
     "output_type": "execute_result"
    }
   ],
   "source": [
    "df.head()"
   ]
  },
  {
   "cell_type": "code",
   "execution_count": 25,
   "metadata": {},
   "outputs": [],
   "source": [
    "X=df.drop(\"Density Percentage\",axis=1)\n",
    "Y=df[\"Density Percentage\"]"
   ]
  },
  {
   "cell_type": "code",
   "execution_count": 26,
   "metadata": {},
   "outputs": [],
   "source": [
    "X_train,X_test,Y_train,Y_test= train_test_split(X,Y,test_size=0.30,random_state=25)"
   ]
  },
  {
   "cell_type": "code",
   "execution_count": 27,
   "metadata": {},
   "outputs": [
    {
     "data": {
      "text/plain": [
       "GaussianNB()"
      ]
     },
     "execution_count": 27,
     "metadata": {},
     "output_type": "execute_result"
    }
   ],
   "source": [
    "NB_model = GaussianNB()\n",
    "\n",
    "NB_model.fit(X_train, Y_train.ravel())"
   ]
  },
  {
   "cell_type": "code",
   "execution_count": 28,
   "metadata": {},
   "outputs": [
    {
     "data": {
      "text/plain": [
       "0.5233644859813084"
      ]
     },
     "execution_count": 28,
     "metadata": {},
     "output_type": "execute_result"
    }
   ],
   "source": [
    "NB_model.score(X_train, Y_train) "
   ]
  },
  {
   "cell_type": "code",
   "execution_count": 29,
   "metadata": {},
   "outputs": [
    {
     "data": {
      "text/plain": [
       "0.1276595744680851"
      ]
     },
     "execution_count": 29,
     "metadata": {},
     "output_type": "execute_result"
    }
   ],
   "source": [
    "NB_model.score(X_test, Y_test)"
   ]
  },
  {
   "cell_type": "code",
   "execution_count": 30,
   "metadata": {},
   "outputs": [],
   "source": [
    "# Very poor test score"
   ]
  },
  {
   "cell_type": "markdown",
   "metadata": {},
   "source": [
    "\n"
   ]
  },
  {
   "cell_type": "markdown",
   "metadata": {},
   "source": [
    "## KNN"
   ]
  },
  {
   "cell_type": "code",
   "execution_count": 31,
   "metadata": {},
   "outputs": [],
   "source": [
    "from sklearn.neighbors import KNeighborsRegressor\n",
    "from scipy.stats import zscore"
   ]
  },
  {
   "cell_type": "code",
   "execution_count": 32,
   "metadata": {
    "scrolled": true
   },
   "outputs": [
    {
     "data": {
      "text/html": [
       "<div>\n",
       "<style scoped>\n",
       "    .dataframe tbody tr th:only-of-type {\n",
       "        vertical-align: middle;\n",
       "    }\n",
       "\n",
       "    .dataframe tbody tr th {\n",
       "        vertical-align: top;\n",
       "    }\n",
       "\n",
       "    .dataframe thead th {\n",
       "        text-align: right;\n",
       "    }\n",
       "</style>\n",
       "<table border=\"1\" class=\"dataframe\">\n",
       "  <thead>\n",
       "    <tr style=\"text-align: right;\">\n",
       "      <th></th>\n",
       "      <th>Corner Angle</th>\n",
       "      <th>Temperature</th>\n",
       "      <th>Speed</th>\n",
       "      <th>Friction Factor</th>\n",
       "      <th>Temp of die</th>\n",
       "      <th>Initial Density</th>\n",
       "      <th>Back Pressure</th>\n",
       "      <th>TI-10V-2Fe-3Al</th>\n",
       "      <th>TI-13C11Cr3Al</th>\n",
       "    </tr>\n",
       "  </thead>\n",
       "  <tbody>\n",
       "    <tr>\n",
       "      <th>count</th>\n",
       "      <td>1.540000e+02</td>\n",
       "      <td>1.540000e+02</td>\n",
       "      <td>1.540000e+02</td>\n",
       "      <td>1.540000e+02</td>\n",
       "      <td>1.540000e+02</td>\n",
       "      <td>1.540000e+02</td>\n",
       "      <td>1.540000e+02</td>\n",
       "      <td>1.540000e+02</td>\n",
       "      <td>1.540000e+02</td>\n",
       "    </tr>\n",
       "    <tr>\n",
       "      <th>mean</th>\n",
       "      <td>7.137148e-17</td>\n",
       "      <td>1.441848e-18</td>\n",
       "      <td>-2.162772e-16</td>\n",
       "      <td>-7.137148e-17</td>\n",
       "      <td>-9.372013e-17</td>\n",
       "      <td>1.845566e-16</td>\n",
       "      <td>3.820897e-16</td>\n",
       "      <td>4.037175e-17</td>\n",
       "      <td>-1.066968e-16</td>\n",
       "    </tr>\n",
       "    <tr>\n",
       "      <th>std</th>\n",
       "      <td>1.003263e+00</td>\n",
       "      <td>1.003263e+00</td>\n",
       "      <td>1.003263e+00</td>\n",
       "      <td>1.003263e+00</td>\n",
       "      <td>1.003263e+00</td>\n",
       "      <td>1.003263e+00</td>\n",
       "      <td>1.003263e+00</td>\n",
       "      <td>1.003263e+00</td>\n",
       "      <td>1.003263e+00</td>\n",
       "    </tr>\n",
       "    <tr>\n",
       "      <th>min</th>\n",
       "      <td>-1.302395e+00</td>\n",
       "      <td>-1.730670e+00</td>\n",
       "      <td>-1.448965e+00</td>\n",
       "      <td>-1.871957e+00</td>\n",
       "      <td>-7.701222e-01</td>\n",
       "      <td>-8.999906e-01</td>\n",
       "      <td>-1.383903e+00</td>\n",
       "      <td>-1.234743e+00</td>\n",
       "      <td>-8.098852e-01</td>\n",
       "    </tr>\n",
       "    <tr>\n",
       "      <th>25%</th>\n",
       "      <td>-9.714232e-01</td>\n",
       "      <td>-6.124830e-01</td>\n",
       "      <td>-9.775408e-01</td>\n",
       "      <td>-7.458580e-01</td>\n",
       "      <td>-7.701222e-01</td>\n",
       "      <td>-8.999906e-01</td>\n",
       "      <td>-1.203902e+00</td>\n",
       "      <td>-1.234743e+00</td>\n",
       "      <td>-8.098852e-01</td>\n",
       "    </tr>\n",
       "    <tr>\n",
       "      <th>50%</th>\n",
       "      <td>2.149166e-02</td>\n",
       "      <td>4.527420e-02</td>\n",
       "      <td>-1.918347e-01</td>\n",
       "      <td>3.802413e-01</td>\n",
       "      <td>-5.285768e-01</td>\n",
       "      <td>-1.548371e-01</td>\n",
       "      <td>5.610418e-02</td>\n",
       "      <td>8.098852e-01</td>\n",
       "      <td>-8.098852e-01</td>\n",
       "    </tr>\n",
       "    <tr>\n",
       "      <th>75%</th>\n",
       "      <td>1.014407e+00</td>\n",
       "      <td>7.030314e-01</td>\n",
       "      <td>-1.918347e-01</td>\n",
       "      <td>3.802413e-01</td>\n",
       "      <td>3.168324e-01</td>\n",
       "      <td>5.903164e-01</td>\n",
       "      <td>7.761078e-01</td>\n",
       "      <td>8.098852e-01</td>\n",
       "      <td>1.234743e+00</td>\n",
       "    </tr>\n",
       "    <tr>\n",
       "      <th>max</th>\n",
       "      <td>1.676350e+00</td>\n",
       "      <td>2.018546e+00</td>\n",
       "      <td>2.950990e+00</td>\n",
       "      <td>3.195490e+00</td>\n",
       "      <td>2.430355e+00</td>\n",
       "      <td>2.080624e+00</td>\n",
       "      <td>1.496111e+00</td>\n",
       "      <td>8.098852e-01</td>\n",
       "      <td>1.234743e+00</td>\n",
       "    </tr>\n",
       "  </tbody>\n",
       "</table>\n",
       "</div>"
      ],
      "text/plain": [
       "       Corner Angle   Temperature        Speed   Friction Factor  \\\n",
       "count  1.540000e+02  1.540000e+02  1.540000e+02     1.540000e+02   \n",
       "mean   7.137148e-17  1.441848e-18 -2.162772e-16    -7.137148e-17   \n",
       "std    1.003263e+00  1.003263e+00  1.003263e+00     1.003263e+00   \n",
       "min   -1.302395e+00 -1.730670e+00 -1.448965e+00    -1.871957e+00   \n",
       "25%   -9.714232e-01 -6.124830e-01 -9.775408e-01    -7.458580e-01   \n",
       "50%    2.149166e-02  4.527420e-02 -1.918347e-01     3.802413e-01   \n",
       "75%    1.014407e+00  7.030314e-01 -1.918347e-01     3.802413e-01   \n",
       "max    1.676350e+00  2.018546e+00  2.950990e+00     3.195490e+00   \n",
       "\n",
       "        Temp of die  Initial Density  Back Pressure  TI-10V-2Fe-3Al  \\\n",
       "count  1.540000e+02     1.540000e+02   1.540000e+02    1.540000e+02   \n",
       "mean  -9.372013e-17     1.845566e-16   3.820897e-16    4.037175e-17   \n",
       "std    1.003263e+00     1.003263e+00   1.003263e+00    1.003263e+00   \n",
       "min   -7.701222e-01    -8.999906e-01  -1.383903e+00   -1.234743e+00   \n",
       "25%   -7.701222e-01    -8.999906e-01  -1.203902e+00   -1.234743e+00   \n",
       "50%   -5.285768e-01    -1.548371e-01   5.610418e-02    8.098852e-01   \n",
       "75%    3.168324e-01     5.903164e-01   7.761078e-01    8.098852e-01   \n",
       "max    2.430355e+00     2.080624e+00   1.496111e+00    8.098852e-01   \n",
       "\n",
       "       TI-13C11Cr3Al  \n",
       "count   1.540000e+02  \n",
       "mean   -1.066968e-16  \n",
       "std     1.003263e+00  \n",
       "min    -8.098852e-01  \n",
       "25%    -8.098852e-01  \n",
       "50%    -8.098852e-01  \n",
       "75%     1.234743e+00  \n",
       "max     1.234743e+00  "
      ]
     },
     "execution_count": 32,
     "metadata": {},
     "output_type": "execute_result"
    }
   ],
   "source": [
    "XScaled = X.apply(zscore) #SCALING\n",
    "XScaled.describe()"
   ]
  },
  {
   "cell_type": "code",
   "execution_count": 33,
   "metadata": {},
   "outputs": [],
   "source": [
    "NNH = KNeighborsRegressor(n_neighbors= 13 , weights = 'distance' ,metric='euclidean')"
   ]
  },
  {
   "cell_type": "code",
   "execution_count": 34,
   "metadata": {},
   "outputs": [
    {
     "data": {
      "text/plain": [
       "KNeighborsRegressor(metric='euclidean', n_neighbors=13, weights='distance')"
      ]
     },
     "execution_count": 34,
     "metadata": {},
     "output_type": "execute_result"
    }
   ],
   "source": [
    "NNH.fit(X_train,Y_train)"
   ]
  },
  {
   "cell_type": "code",
   "execution_count": 35,
   "metadata": {},
   "outputs": [
    {
     "data": {
      "text/plain": [
       "0.4933331977047164"
      ]
     },
     "execution_count": 35,
     "metadata": {},
     "output_type": "execute_result"
    }
   ],
   "source": [
    "predicted_labels = NNH.predict(X_test)\n",
    "NNH.score(X_test,Y_test)"
   ]
  },
  {
   "cell_type": "code",
   "execution_count": 40,
   "metadata": {
    "scrolled": true
   },
   "outputs": [
    {
     "data": {
      "text/plain": [
       "0.4757179994186319"
      ]
     },
     "execution_count": 40,
     "metadata": {},
     "output_type": "execute_result"
    }
   ],
   "source": [
    "# Trying with different n_neighbors\n",
    "\n",
    "NNH = KNeighborsRegressor(n_neighbors= 25 , weights = 'distance' ,metric='euclidean') \n",
    "NNH.fit(X_train,Y_train)\n",
    "predicted_labels = NNH.predict(X_test)\n",
    "NNH.score(X_test,Y_test)\n",
    "\n",
    "# no much significant change"
   ]
  },
  {
   "cell_type": "code",
   "execution_count": 41,
   "metadata": {},
   "outputs": [
    {
     "data": {
      "text/plain": [
       "0.2538889383618539"
      ]
     },
     "execution_count": 41,
     "metadata": {},
     "output_type": "execute_result"
    }
   ],
   "source": [
    "# Trying with weights = 'uniform'\n",
    "\n",
    "NNH = KNeighborsRegressor(n_neighbors= 25 , weights = 'uniform' ,metric='euclidean') \n",
    "NNH.fit(X_train,Y_train)\n",
    "predicted_labels = NNH.predict(X_test)\n",
    "NNH.score(X_test,Y_test)\n",
    "\n",
    "# score drops"
   ]
  },
  {
   "cell_type": "code",
   "execution_count": 43,
   "metadata": {},
   "outputs": [
    {
     "data": {
      "text/plain": [
       "0.4757179994186319"
      ]
     },
     "execution_count": 43,
     "metadata": {},
     "output_type": "execute_result"
    }
   ],
   "source": [
    "# Trying with weights = 'uniform'\n",
    "\n",
    "NNH = KNeighborsRegressor(n_neighbors= 25 , weights = 'distance') \n",
    "NNH.fit(X_train,Y_train)\n",
    "predicted_labels = NNH.predict(X_test)\n",
    "NNH.score(X_test,Y_test)\n",
    "\n",
    "# score drops"
   ]
  },
  {
   "cell_type": "code",
   "execution_count": null,
   "metadata": {},
   "outputs": [],
   "source": [
    "# score doesnt improve much\n",
    "# Test score is always less than 0.50 "
   ]
  },
  {
   "cell_type": "markdown",
   "metadata": {},
   "source": [
    "## SVM"
   ]
  },
  {
   "cell_type": "code",
   "execution_count": 44,
   "metadata": {},
   "outputs": [],
   "source": [
    "from sklearn import svm"
   ]
  },
  {
   "cell_type": "code",
   "execution_count": 45,
   "metadata": {},
   "outputs": [],
   "source": [
    "from sklearn.svm import SVR"
   ]
  },
  {
   "cell_type": "code",
   "execution_count": 52,
   "metadata": {},
   "outputs": [
    {
     "data": {
      "text/plain": [
       "SVR(C=1, gamma='auto')"
      ]
     },
     "execution_count": 52,
     "metadata": {},
     "output_type": "execute_result"
    }
   ],
   "source": [
    "reg = svm.SVR(kernel='rbf',gamma='auto', C=1)\n",
    "reg.fit(X_train,Y_train)"
   ]
  },
  {
   "cell_type": "code",
   "execution_count": 53,
   "metadata": {},
   "outputs": [
    {
     "data": {
      "text/plain": [
       "0.05013861822979271"
      ]
     },
     "execution_count": 53,
     "metadata": {},
     "output_type": "execute_result"
    }
   ],
   "source": [
    "predicted_labels = reg.predict(X_test)\n",
    "reg.score(X_test,Y_test)"
   ]
  },
  {
   "cell_type": "code",
   "execution_count": 54,
   "metadata": {},
   "outputs": [
    {
     "data": {
      "text/plain": [
       "SVR(C=1, gamma='auto', kernel='linear')"
      ]
     },
     "execution_count": 54,
     "metadata": {},
     "output_type": "execute_result"
    }
   ],
   "source": [
    "reg = svm.SVR(kernel='linear',gamma='auto', C=1)\n",
    "reg.fit(X_train,Y_train)\n"
   ]
  },
  {
   "cell_type": "code",
   "execution_count": 55,
   "metadata": {
    "scrolled": true
   },
   "outputs": [
    {
     "data": {
      "text/plain": [
       "0.5623676420447816"
      ]
     },
     "execution_count": 55,
     "metadata": {},
     "output_type": "execute_result"
    }
   ],
   "source": [
    "predicted_labels = reg.predict(X_test)\n",
    "reg.score(X_test,Y_test)"
   ]
  },
  {
   "cell_type": "code",
   "execution_count": 56,
   "metadata": {},
   "outputs": [
    {
     "data": {
      "text/plain": [
       "0.46375110671550235"
      ]
     },
     "execution_count": 56,
     "metadata": {},
     "output_type": "execute_result"
    }
   ],
   "source": [
    "reg.score(X_train, Y_train) "
   ]
  },
  {
   "cell_type": "code",
   "execution_count": 57,
   "metadata": {},
   "outputs": [
    {
     "data": {
      "text/plain": [
       "0.5623676420447816"
      ]
     },
     "execution_count": 57,
     "metadata": {},
     "output_type": "execute_result"
    }
   ],
   "source": [
    "reg.score(X_test, Y_test)"
   ]
  },
  {
   "cell_type": "code",
   "execution_count": null,
   "metadata": {},
   "outputs": [],
   "source": [
    "# The Performance of SVM is poor with RFG and its decent with Linear kernal. it takes a lot of time for poly."
   ]
  },
  {
   "cell_type": "markdown",
   "metadata": {},
   "source": [
    "## Decision Tree"
   ]
  },
  {
   "cell_type": "code",
   "execution_count": 139,
   "metadata": {},
   "outputs": [],
   "source": [
    "from sklearn.tree import DecisionTreeRegressor"
   ]
  },
  {
   "cell_type": "code",
   "execution_count": 140,
   "metadata": {},
   "outputs": [],
   "source": [
    "dTree= DecisionTreeRegressor(criterion='mse',splitter='best',random_state=25,max_depth=5)"
   ]
  },
  {
   "cell_type": "code",
   "execution_count": 141,
   "metadata": {},
   "outputs": [
    {
     "data": {
      "text/plain": [
       "DecisionTreeRegressor(max_depth=5, random_state=25)"
      ]
     },
     "execution_count": 141,
     "metadata": {},
     "output_type": "execute_result"
    }
   ],
   "source": [
    "dTree.fit(X_train,Y_train)"
   ]
  },
  {
   "cell_type": "code",
   "execution_count": 142,
   "metadata": {},
   "outputs": [
    {
     "name": "stdout",
     "output_type": "stream",
     "text": [
      "0.9263885212113262\n",
      "0.7526922843345308\n"
     ]
    }
   ],
   "source": [
    "#The decision Tree algorithm is always over fitting, almost with all max_depth. \n",
    "\n",
    "print(dTree.score(X_train,Y_train)) \n",
    "print(dTree.score(X_test,Y_test))\n",
    "\n",
    "dTree_tr=dTree.score(X_train,Y_train)\n",
    "dTree_ts=dTree.score(X_test,Y_test)"
   ]
  },
  {
   "cell_type": "code",
   "execution_count": 143,
   "metadata": {},
   "outputs": [],
   "source": [
    "# Trying criterion='mae'\n",
    "\n",
    "dTree= DecisionTreeRegressor(criterion='mae',splitter='best',random_state=25,max_depth=5)\n",
    "\n",
    "# MSE is better than MAE"
   ]
  },
  {
   "cell_type": "code",
   "execution_count": 144,
   "metadata": {},
   "outputs": [
    {
     "data": {
      "text/plain": [
       "DecisionTreeRegressor(criterion='mae', max_depth=5, random_state=25)"
      ]
     },
     "execution_count": 144,
     "metadata": {},
     "output_type": "execute_result"
    }
   ],
   "source": [
    "dTree.fit(X_train,Y_train)"
   ]
  },
  {
   "cell_type": "code",
   "execution_count": 145,
   "metadata": {},
   "outputs": [
    {
     "name": "stdout",
     "output_type": "stream",
     "text": [
      "0.9167759518913043\n",
      "0.6885342249543114\n"
     ]
    }
   ],
   "source": [
    "print(dTree.score(X_train,Y_train)) \n",
    "print(dTree.score(X_test,Y_test))"
   ]
  },
  {
   "cell_type": "code",
   "execution_count": 146,
   "metadata": {},
   "outputs": [
    {
     "name": "stdout",
     "output_type": "stream",
     "text": [
      "0.8134029686962362\n",
      "0.5150915869296614\n"
     ]
    }
   ],
   "source": [
    "# Trying differnt max_depth\n",
    "\n",
    "dTree= DecisionTreeRegressor(criterion='mse',splitter='best',random_state=25,max_depth=3)\n",
    "dTree.fit(X_train,Y_train)\n",
    "print(dTree.score(X_train,Y_train)) \n",
    "print(dTree.score(X_test,Y_test))\n",
    "\n",
    "# Over fitting for all values"
   ]
  },
  {
   "cell_type": "markdown",
   "metadata": {},
   "source": [
    "## Bagging"
   ]
  },
  {
   "cell_type": "code",
   "execution_count": 151,
   "metadata": {},
   "outputs": [],
   "source": [
    "from sklearn.ensemble import BaggingRegressor"
   ]
  },
  {
   "cell_type": "code",
   "execution_count": 152,
   "metadata": {},
   "outputs": [
    {
     "name": "stdout",
     "output_type": "stream",
     "text": [
      "0.8501319708628148\n",
      "0.7017869363127922\n"
     ]
    }
   ],
   "source": [
    "bgr= BaggingRegressor (n_estimators=9,base_estimator=dTree,random_state=25)\n",
    "bgr=bgr.fit(X_train,Y_train)\n",
    "print(bgr.score(X_train,Y_train))\n",
    "print(bgr.score(X_test,Y_test))"
   ]
  },
  {
   "cell_type": "code",
   "execution_count": 153,
   "metadata": {},
   "outputs": [
    {
     "name": "stdout",
     "output_type": "stream",
     "text": [
      "0.8508541474996767\n",
      "0.7089845027088151\n"
     ]
    }
   ],
   "source": [
    "#Trying different n_estimators\n",
    "\n",
    "bgr= BaggingRegressor (n_estimators=20,base_estimator=dTree,random_state=25)\n",
    "bgr=bgr.fit(X_train,Y_train)\n",
    "print(bgr.score(X_train,Y_train))\n",
    "print(bgr.score(X_test,Y_test))\n",
    "\n",
    "bgr_tr=bgr.score(X_train,Y_train)\n",
    "bgr_ts=bgr.score(X_test,Y_test)\n",
    "\n",
    "# There is no much improvement"
   ]
  },
  {
   "cell_type": "markdown",
   "metadata": {},
   "source": [
    "## AdaBoost"
   ]
  },
  {
   "cell_type": "code",
   "execution_count": 154,
   "metadata": {},
   "outputs": [],
   "source": [
    "from sklearn.ensemble import AdaBoostRegressor"
   ]
  },
  {
   "cell_type": "code",
   "execution_count": 155,
   "metadata": {},
   "outputs": [
    {
     "name": "stdout",
     "output_type": "stream",
     "text": [
      "0.8977258446711428\n",
      "0.7600364641496202\n"
     ]
    }
   ],
   "source": [
    "adr= AdaBoostRegressor (n_estimators=10,random_state=25)\n",
    "adr=adr.fit(X_train,Y_train)\n",
    "print(adr.score(X_train,Y_train))\n",
    "print(adr.score(X_test,Y_test))"
   ]
  },
  {
   "cell_type": "code",
   "execution_count": 156,
   "metadata": {},
   "outputs": [
    {
     "name": "stdout",
     "output_type": "stream",
     "text": [
      "0.8444243837443042\n",
      "0.7535404222650581\n"
     ]
    }
   ],
   "source": [
    "#Trying different n_estimators\n",
    "\n",
    "adr= AdaBoostRegressor (n_estimators=4,random_state=25)\n",
    "adr=adr.fit(X_train,Y_train)\n",
    "print(adr.score(X_train,Y_train))\n",
    "print(adr.score(X_test,Y_test))\n",
    "\n",
    "adr_tr=adr.score(X_train,Y_train)\n",
    "adr_ts=adr.score(X_test,Y_test)\n",
    "\n",
    "# Still the model is overfitting"
   ]
  },
  {
   "cell_type": "markdown",
   "metadata": {},
   "source": [
    "## GradientBoosting"
   ]
  },
  {
   "cell_type": "code",
   "execution_count": 157,
   "metadata": {},
   "outputs": [],
   "source": [
    "from sklearn.ensemble import GradientBoostingRegressor"
   ]
  },
  {
   "cell_type": "code",
   "execution_count": 158,
   "metadata": {},
   "outputs": [
    {
     "name": "stdout",
     "output_type": "stream",
     "text": [
      "0.7441795930509159\n",
      "0.6005801036090233\n"
     ]
    }
   ],
   "source": [
    "gbr= GradientBoostingRegressor (n_estimators=10,random_state=25)\n",
    "gbr=gbr.fit(X_train,Y_train)\n",
    "print(gbr.score(X_train,Y_train))\n",
    "print(gbr.score(X_test,Y_test))"
   ]
  },
  {
   "cell_type": "code",
   "execution_count": 159,
   "metadata": {},
   "outputs": [
    {
     "name": "stdout",
     "output_type": "stream",
     "text": [
      "0.8688577770397937\n",
      "0.7246411427760943\n"
     ]
    }
   ],
   "source": [
    "#Trying different n_estimators\n",
    "\n",
    "gbr= GradientBoostingRegressor (n_estimators=17,random_state=25)\n",
    "gbr=gbr.fit(X_train,Y_train)\n",
    "print(gbr.score(X_train,Y_train))\n",
    "print(gbr.score(X_test,Y_test))\n",
    "\n",
    "gbr_tr=gbr.score(X_train,Y_train)\n",
    "gbr_ts=gbr.score(X_test,Y_test)\n",
    "\n",
    "# Test score improves with n_estimators but still its over fitting"
   ]
  },
  {
   "cell_type": "markdown",
   "metadata": {},
   "source": [
    "## RandomForest"
   ]
  },
  {
   "cell_type": "code",
   "execution_count": 117,
   "metadata": {},
   "outputs": [],
   "source": [
    "from sklearn.ensemble import RandomForestRegressor"
   ]
  },
  {
   "cell_type": "code",
   "execution_count": 160,
   "metadata": {},
   "outputs": [
    {
     "name": "stdout",
     "output_type": "stream",
     "text": [
      "0.9576953713807893\n",
      "0.7380775664023801\n"
     ]
    }
   ],
   "source": [
    "rfr= RandomForestRegressor (n_estimators=10,random_state=25,max_features=5)\n",
    "rfr=rfr.fit(X_train,Y_train)\n",
    "print(rfr.score(X_train,Y_train))\n",
    "print(rfr.score(X_test,Y_test))\n",
    "\n",
    "rfr_tr=rfr.score(X_train,Y_train)\n",
    "rfr_ts=rfr.score(X_test,Y_test)"
   ]
  },
  {
   "cell_type": "code",
   "execution_count": 161,
   "metadata": {},
   "outputs": [
    {
     "name": "stdout",
     "output_type": "stream",
     "text": [
      "0.95609924218454\n",
      "0.7291885427958499\n"
     ]
    }
   ],
   "source": [
    "#Trying different n_estimators\n",
    "\n",
    "rfr= RandomForestRegressor (n_estimators=12,random_state=25,max_features=5)\n",
    "rfr=rfr.fit(X_train,Y_train)\n",
    "print(rfr.score(X_train,Y_train))\n",
    "print(rfr.score(X_test,Y_test))\n",
    "\n",
    "# no significant change"
   ]
  },
  {
   "cell_type": "code",
   "execution_count": 162,
   "metadata": {},
   "outputs": [
    {
     "name": "stdout",
     "output_type": "stream",
     "text": [
      "0.95358760468418\n",
      "0.7175618446524278\n"
     ]
    }
   ],
   "source": [
    "#Trying different max_features\n",
    "\n",
    "rfr= RandomForestRegressor (n_estimators=10,random_state=25,max_features=4)\n",
    "rfr=rfr.fit(X_train,Y_train)\n",
    "print(rfr.score(X_train,Y_train))\n",
    "print(rfr.score(X_test,Y_test))\n",
    "\n",
    "# no significant change"
   ]
  },
  {
   "cell_type": "code",
   "execution_count": 165,
   "metadata": {},
   "outputs": [
    {
     "data": {
      "text/html": [
       "<div>\n",
       "<style scoped>\n",
       "    .dataframe tbody tr th:only-of-type {\n",
       "        vertical-align: middle;\n",
       "    }\n",
       "\n",
       "    .dataframe tbody tr th {\n",
       "        vertical-align: top;\n",
       "    }\n",
       "\n",
       "    .dataframe thead th {\n",
       "        text-align: right;\n",
       "    }\n",
       "</style>\n",
       "<table border=\"1\" class=\"dataframe\">\n",
       "  <thead>\n",
       "    <tr style=\"text-align: right;\">\n",
       "      <th></th>\n",
       "      <th>Model</th>\n",
       "      <th>Train Score</th>\n",
       "      <th>Test Score</th>\n",
       "    </tr>\n",
       "  </thead>\n",
       "  <tbody>\n",
       "    <tr>\n",
       "      <th>0</th>\n",
       "      <td>Linear Regression</td>\n",
       "      <td>0.762474</td>\n",
       "      <td>0.705348</td>\n",
       "    </tr>\n",
       "    <tr>\n",
       "      <th>1</th>\n",
       "      <td>Bagging</td>\n",
       "      <td>0.850854</td>\n",
       "      <td>0.708985</td>\n",
       "    </tr>\n",
       "    <tr>\n",
       "      <th>2</th>\n",
       "      <td>AdaBoost</td>\n",
       "      <td>0.844424</td>\n",
       "      <td>0.753540</td>\n",
       "    </tr>\n",
       "    <tr>\n",
       "      <th>3</th>\n",
       "      <td>GradientBoosting</td>\n",
       "      <td>0.868858</td>\n",
       "      <td>0.724641</td>\n",
       "    </tr>\n",
       "    <tr>\n",
       "      <th>4</th>\n",
       "      <td>Decision Tree</td>\n",
       "      <td>0.926389</td>\n",
       "      <td>0.752692</td>\n",
       "    </tr>\n",
       "    <tr>\n",
       "      <th>5</th>\n",
       "      <td>RandomForest</td>\n",
       "      <td>0.957695</td>\n",
       "      <td>0.738078</td>\n",
       "    </tr>\n",
       "  </tbody>\n",
       "</table>\n",
       "</div>"
      ],
      "text/plain": [
       "               Model  Train Score  Test Score\n",
       "0  Linear Regression     0.762474    0.705348\n",
       "1            Bagging     0.850854    0.708985\n",
       "2           AdaBoost     0.844424    0.753540\n",
       "3   GradientBoosting     0.868858    0.724641\n",
       "4      Decision Tree     0.926389    0.752692\n",
       "5       RandomForest     0.957695    0.738078"
      ]
     },
     "execution_count": 165,
     "metadata": {},
     "output_type": "execute_result"
    }
   ],
   "source": [
    "score_res = pd.DataFrame({'Model':['Linear Regression','Bagging','AdaBoost','GradientBoosting','Decision Tree','RandomForest'],\n",
    "                          'Train Score':[lr_tr,bgr_tr, adr_tr, gbr_tr,dTree_tr,rfr_tr],\n",
    "                         'Test Score':[lr_ts,bgr_ts, adr_ts, gbr_ts,dTree_ts,rfr_ts]\n",
    "                         })\n",
    "score_res"
   ]
  },
  {
   "cell_type": "code",
   "execution_count": null,
   "metadata": {},
   "outputs": [],
   "source": [
    "# Linear regression is fits the best and all others are overfitting"
   ]
  }
 ],
 "metadata": {
  "kernelspec": {
   "display_name": "Python 3",
   "language": "python",
   "name": "python3"
  },
  "language_info": {
   "codemirror_mode": {
    "name": "ipython",
    "version": 3
   },
   "file_extension": ".py",
   "mimetype": "text/x-python",
   "name": "python",
   "nbconvert_exporter": "python",
   "pygments_lexer": "ipython3",
   "version": "3.8.5"
  }
 },
 "nbformat": 4,
 "nbformat_minor": 4
}
