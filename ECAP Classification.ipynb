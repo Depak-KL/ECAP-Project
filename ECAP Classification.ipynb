{
 "cells": [
  {
   "cell_type": "code",
   "execution_count": 1,
   "metadata": {},
   "outputs": [],
   "source": [
    "import numpy as np   \n",
    "from sklearn.linear_model import LogisticRegression\n",
    "import pandas as pd    \n",
    "import matplotlib.pyplot as plt \n",
    "%matplotlib inline \n",
    "import seaborn as sns\n",
    "from sklearn.model_selection import train_test_split\n",
    "from sklearn.datasets import make_classification"
   ]
  },
  {
   "cell_type": "code",
   "execution_count": 2,
   "metadata": {},
   "outputs": [
    {
     "data": {
      "text/plain": [
       "(154, 12)"
      ]
     },
     "execution_count": 2,
     "metadata": {},
     "output_type": "execute_result"
    }
   ],
   "source": [
    "df = pd.read_excel(\"ECAP Dataset.xlsx\")  \n",
    "df.shape"
   ]
  },
  {
   "cell_type": "code",
   "execution_count": 3,
   "metadata": {},
   "outputs": [
    {
     "data": {
      "text/plain": [
       "Corner Angle            int64\n",
       "Temperature             int64\n",
       "Speed                 float64\n",
       "Friction Factor       float64\n",
       "Temp of die             int64\n",
       "Material               object\n",
       "Initial Density       float64\n",
       "Back Pressure           int64\n",
       "Max Load              float64\n",
       "Final Volume          float64\n",
       "Final Density         float64\n",
       "Density Percentage    float64\n",
       "dtype: object"
      ]
     },
     "execution_count": 3,
     "metadata": {},
     "output_type": "execute_result"
    }
   ],
   "source": [
    "df.dtypes"
   ]
  },
  {
   "cell_type": "code",
   "execution_count": 4,
   "metadata": {},
   "outputs": [
    {
     "name": "stdout",
     "output_type": "stream",
     "text": [
      "<class 'pandas.core.frame.DataFrame'>\n",
      "RangeIndex: 154 entries, 0 to 153\n",
      "Data columns (total 12 columns):\n",
      " #   Column              Non-Null Count  Dtype  \n",
      "---  ------              --------------  -----  \n",
      " 0   Corner Angle        154 non-null    int64  \n",
      " 1   Temperature         154 non-null    int64  \n",
      " 2   Speed               154 non-null    float64\n",
      " 3   Friction Factor     154 non-null    float64\n",
      " 4   Temp of die         154 non-null    int64  \n",
      " 5   Material            154 non-null    object \n",
      " 6   Initial Density     154 non-null    float64\n",
      " 7   Back Pressure       154 non-null    int64  \n",
      " 8   Max Load            154 non-null    float64\n",
      " 9   Final Volume        154 non-null    float64\n",
      " 10  Final Density       154 non-null    float64\n",
      " 11  Density Percentage  154 non-null    float64\n",
      "dtypes: float64(7), int64(4), object(1)\n",
      "memory usage: 14.6+ KB\n"
     ]
    }
   ],
   "source": [
    "df.info()"
   ]
  },
  {
   "cell_type": "code",
   "execution_count": 5,
   "metadata": {},
   "outputs": [
    {
     "data": {
      "text/html": [
       "<div>\n",
       "<style scoped>\n",
       "    .dataframe tbody tr th:only-of-type {\n",
       "        vertical-align: middle;\n",
       "    }\n",
       "\n",
       "    .dataframe tbody tr th {\n",
       "        vertical-align: top;\n",
       "    }\n",
       "\n",
       "    .dataframe thead th {\n",
       "        text-align: right;\n",
       "    }\n",
       "</style>\n",
       "<table border=\"1\" class=\"dataframe\">\n",
       "  <thead>\n",
       "    <tr style=\"text-align: right;\">\n",
       "      <th></th>\n",
       "      <th>Corner Angle</th>\n",
       "      <th>Temperature</th>\n",
       "      <th>Speed</th>\n",
       "      <th>Friction Factor</th>\n",
       "      <th>Temp of die</th>\n",
       "      <th>Material</th>\n",
       "      <th>Initial Density</th>\n",
       "      <th>Back Pressure</th>\n",
       "      <th>Max Load</th>\n",
       "      <th>Final Volume</th>\n",
       "      <th>Final Density</th>\n",
       "      <th>Density Percentage</th>\n",
       "    </tr>\n",
       "  </thead>\n",
       "  <tbody>\n",
       "    <tr>\n",
       "      <th>0</th>\n",
       "      <td>10</td>\n",
       "      <td>300</td>\n",
       "      <td>1.0</td>\n",
       "      <td>0.05</td>\n",
       "      <td>20</td>\n",
       "      <td>TI-10V-2Fe-3Al</td>\n",
       "      <td>0.5</td>\n",
       "      <td>200</td>\n",
       "      <td>22381.20</td>\n",
       "      <td>3217.2600</td>\n",
       "      <td>0.783275</td>\n",
       "      <td>78.327521</td>\n",
       "    </tr>\n",
       "    <tr>\n",
       "      <th>1</th>\n",
       "      <td>30</td>\n",
       "      <td>150</td>\n",
       "      <td>0.5</td>\n",
       "      <td>0.05</td>\n",
       "      <td>200</td>\n",
       "      <td>TI-10V-2Fe-3Al</td>\n",
       "      <td>0.8</td>\n",
       "      <td>200</td>\n",
       "      <td>109092.60</td>\n",
       "      <td>3698.1003</td>\n",
       "      <td>1.090290</td>\n",
       "      <td>109.028952</td>\n",
       "    </tr>\n",
       "    <tr>\n",
       "      <th>2</th>\n",
       "      <td>40</td>\n",
       "      <td>300</td>\n",
       "      <td>1.0</td>\n",
       "      <td>0.05</td>\n",
       "      <td>20</td>\n",
       "      <td>TI-10V-2Fe-3Al</td>\n",
       "      <td>0.5</td>\n",
       "      <td>200</td>\n",
       "      <td>24382.80</td>\n",
       "      <td>3181.5900</td>\n",
       "      <td>0.792057</td>\n",
       "      <td>79.205680</td>\n",
       "    </tr>\n",
       "    <tr>\n",
       "      <th>3</th>\n",
       "      <td>0</td>\n",
       "      <td>300</td>\n",
       "      <td>1.0</td>\n",
       "      <td>0.01</td>\n",
       "      <td>20</td>\n",
       "      <td>TI-10V-2Fe-3Al</td>\n",
       "      <td>0.5</td>\n",
       "      <td>200</td>\n",
       "      <td>31172.40</td>\n",
       "      <td>2819.6700</td>\n",
       "      <td>0.893722</td>\n",
       "      <td>89.372161</td>\n",
       "    </tr>\n",
       "    <tr>\n",
       "      <th>4</th>\n",
       "      <td>0</td>\n",
       "      <td>300</td>\n",
       "      <td>1.0</td>\n",
       "      <td>0.10</td>\n",
       "      <td>20</td>\n",
       "      <td>TI-10V-2Fe-3Al</td>\n",
       "      <td>0.5</td>\n",
       "      <td>200</td>\n",
       "      <td>90846.00</td>\n",
       "      <td>2304.6300</td>\n",
       "      <td>1.093451</td>\n",
       "      <td>109.345101</td>\n",
       "    </tr>\n",
       "    <tr>\n",
       "      <th>5</th>\n",
       "      <td>60</td>\n",
       "      <td>100</td>\n",
       "      <td>2.0</td>\n",
       "      <td>0.05</td>\n",
       "      <td>200</td>\n",
       "      <td>TI-13C11Cr3Al</td>\n",
       "      <td>0.8</td>\n",
       "      <td>200</td>\n",
       "      <td>85752.84</td>\n",
       "      <td>3731.0646</td>\n",
       "      <td>1.080657</td>\n",
       "      <td>108.065671</td>\n",
       "    </tr>\n",
       "    <tr>\n",
       "      <th>6</th>\n",
       "      <td>0</td>\n",
       "      <td>300</td>\n",
       "      <td>2.0</td>\n",
       "      <td>0.05</td>\n",
       "      <td>20</td>\n",
       "      <td>TI-10V-2Fe-3Al</td>\n",
       "      <td>0.5</td>\n",
       "      <td>200</td>\n",
       "      <td>89893.20</td>\n",
       "      <td>2322.0300</td>\n",
       "      <td>1.085257</td>\n",
       "      <td>108.525730</td>\n",
       "    </tr>\n",
       "    <tr>\n",
       "      <th>7</th>\n",
       "      <td>20</td>\n",
       "      <td>300</td>\n",
       "      <td>1.0</td>\n",
       "      <td>0.07</td>\n",
       "      <td>20</td>\n",
       "      <td>TI-10V-2Fe-3Al</td>\n",
       "      <td>0.5</td>\n",
       "      <td>200</td>\n",
       "      <td>44000.40</td>\n",
       "      <td>2775.3000</td>\n",
       "      <td>0.908010</td>\n",
       "      <td>90.800994</td>\n",
       "    </tr>\n",
       "    <tr>\n",
       "      <th>8</th>\n",
       "      <td>80</td>\n",
       "      <td>250</td>\n",
       "      <td>1.0</td>\n",
       "      <td>0.05</td>\n",
       "      <td>50</td>\n",
       "      <td>TI-13C11Cr3Al</td>\n",
       "      <td>0.5</td>\n",
       "      <td>200</td>\n",
       "      <td>23928.00</td>\n",
       "      <td>3188.5500</td>\n",
       "      <td>0.790328</td>\n",
       "      <td>79.032789</td>\n",
       "    </tr>\n",
       "    <tr>\n",
       "      <th>9</th>\n",
       "      <td>0</td>\n",
       "      <td>200</td>\n",
       "      <td>1.0</td>\n",
       "      <td>0.05</td>\n",
       "      <td>20</td>\n",
       "      <td>TI-10V-2Fe-3Al</td>\n",
       "      <td>0.5</td>\n",
       "      <td>200</td>\n",
       "      <td>101228.40</td>\n",
       "      <td>2335.9500</td>\n",
       "      <td>1.078790</td>\n",
       "      <td>107.879021</td>\n",
       "    </tr>\n",
       "    <tr>\n",
       "      <th>10</th>\n",
       "      <td>70</td>\n",
       "      <td>450</td>\n",
       "      <td>2.0</td>\n",
       "      <td>0.07</td>\n",
       "      <td>80</td>\n",
       "      <td>TI-10V-2Fe-3Al</td>\n",
       "      <td>0.6</td>\n",
       "      <td>200</td>\n",
       "      <td>28288.80</td>\n",
       "      <td>3299.8143</td>\n",
       "      <td>0.916415</td>\n",
       "      <td>91.641521</td>\n",
       "    </tr>\n",
       "    <tr>\n",
       "      <th>11</th>\n",
       "      <td>40</td>\n",
       "      <td>350</td>\n",
       "      <td>1.0</td>\n",
       "      <td>0.06</td>\n",
       "      <td>500</td>\n",
       "      <td>TI-13C11Cr3Al</td>\n",
       "      <td>0.9</td>\n",
       "      <td>200</td>\n",
       "      <td>98407.08</td>\n",
       "      <td>4080.9177</td>\n",
       "      <td>1.111515</td>\n",
       "      <td>111.151470</td>\n",
       "    </tr>\n",
       "    <tr>\n",
       "      <th>12</th>\n",
       "      <td>40</td>\n",
       "      <td>550</td>\n",
       "      <td>0.5</td>\n",
       "      <td>0.07</td>\n",
       "      <td>60</td>\n",
       "      <td>TI-13C11Cr3Al</td>\n",
       "      <td>0.5</td>\n",
       "      <td>200</td>\n",
       "      <td>24245.88</td>\n",
       "      <td>2984.2131</td>\n",
       "      <td>0.844444</td>\n",
       "      <td>84.444372</td>\n",
       "    </tr>\n",
       "    <tr>\n",
       "      <th>13</th>\n",
       "      <td>90</td>\n",
       "      <td>200</td>\n",
       "      <td>0.5</td>\n",
       "      <td>0.07</td>\n",
       "      <td>60</td>\n",
       "      <td>TI-10V-2Fe-3Al</td>\n",
       "      <td>0.6</td>\n",
       "      <td>200</td>\n",
       "      <td>39187.20</td>\n",
       "      <td>3282.5100</td>\n",
       "      <td>0.921246</td>\n",
       "      <td>92.124624</td>\n",
       "    </tr>\n",
       "    <tr>\n",
       "      <th>14</th>\n",
       "      <td>0</td>\n",
       "      <td>200</td>\n",
       "      <td>1.0</td>\n",
       "      <td>0.05</td>\n",
       "      <td>20</td>\n",
       "      <td>TI-10V-2Fe-3Al</td>\n",
       "      <td>0.5</td>\n",
       "      <td>0</td>\n",
       "      <td>84357.00</td>\n",
       "      <td>2685.0000</td>\n",
       "      <td>0.938547</td>\n",
       "      <td>93.854749</td>\n",
       "    </tr>\n",
       "  </tbody>\n",
       "</table>\n",
       "</div>"
      ],
      "text/plain": [
       "    Corner Angle  Temperature  Speed   Friction Factor  Temp of die  \\\n",
       "0             10          300     1.0             0.05           20   \n",
       "1             30          150     0.5             0.05          200   \n",
       "2             40          300     1.0             0.05           20   \n",
       "3              0          300     1.0             0.01           20   \n",
       "4              0          300     1.0             0.10           20   \n",
       "5             60          100     2.0             0.05          200   \n",
       "6              0          300     2.0             0.05           20   \n",
       "7             20          300     1.0             0.07           20   \n",
       "8             80          250     1.0             0.05           50   \n",
       "9              0          200     1.0             0.05           20   \n",
       "10            70          450     2.0             0.07           80   \n",
       "11            40          350     1.0             0.06          500   \n",
       "12            40          550     0.5             0.07           60   \n",
       "13            90          200     0.5             0.07           60   \n",
       "14             0          200     1.0             0.05           20   \n",
       "\n",
       "          Material  Initial Density  Back Pressure   Max Load  Final Volume  \\\n",
       "0   TI-10V-2Fe-3Al              0.5            200   22381.20     3217.2600   \n",
       "1   TI-10V-2Fe-3Al              0.8            200  109092.60     3698.1003   \n",
       "2   TI-10V-2Fe-3Al              0.5            200   24382.80     3181.5900   \n",
       "3   TI-10V-2Fe-3Al              0.5            200   31172.40     2819.6700   \n",
       "4   TI-10V-2Fe-3Al              0.5            200   90846.00     2304.6300   \n",
       "5    TI-13C11Cr3Al              0.8            200   85752.84     3731.0646   \n",
       "6   TI-10V-2Fe-3Al              0.5            200   89893.20     2322.0300   \n",
       "7   TI-10V-2Fe-3Al              0.5            200   44000.40     2775.3000   \n",
       "8    TI-13C11Cr3Al              0.5            200   23928.00     3188.5500   \n",
       "9   TI-10V-2Fe-3Al              0.5            200  101228.40     2335.9500   \n",
       "10  TI-10V-2Fe-3Al              0.6            200   28288.80     3299.8143   \n",
       "11   TI-13C11Cr3Al              0.9            200   98407.08     4080.9177   \n",
       "12   TI-13C11Cr3Al              0.5            200   24245.88     2984.2131   \n",
       "13  TI-10V-2Fe-3Al              0.6            200   39187.20     3282.5100   \n",
       "14  TI-10V-2Fe-3Al              0.5              0   84357.00     2685.0000   \n",
       "\n",
       "    Final Density  Density Percentage  \n",
       "0        0.783275           78.327521  \n",
       "1        1.090290          109.028952  \n",
       "2        0.792057           79.205680  \n",
       "3        0.893722           89.372161  \n",
       "4        1.093451          109.345101  \n",
       "5        1.080657          108.065671  \n",
       "6        1.085257          108.525730  \n",
       "7        0.908010           90.800994  \n",
       "8        0.790328           79.032789  \n",
       "9        1.078790          107.879021  \n",
       "10       0.916415           91.641521  \n",
       "11       1.111515          111.151470  \n",
       "12       0.844444           84.444372  \n",
       "13       0.921246           92.124624  \n",
       "14       0.938547           93.854749  "
      ]
     },
     "execution_count": 5,
     "metadata": {},
     "output_type": "execute_result"
    }
   ],
   "source": [
    "df.head(15)"
   ]
  },
  {
   "cell_type": "code",
   "execution_count": 6,
   "metadata": {},
   "outputs": [
    {
     "data": {
      "text/html": [
       "<div>\n",
       "<style scoped>\n",
       "    .dataframe tbody tr th:only-of-type {\n",
       "        vertical-align: middle;\n",
       "    }\n",
       "\n",
       "    .dataframe tbody tr th {\n",
       "        vertical-align: top;\n",
       "    }\n",
       "\n",
       "    .dataframe thead th {\n",
       "        text-align: right;\n",
       "    }\n",
       "</style>\n",
       "<table border=\"1\" class=\"dataframe\">\n",
       "  <thead>\n",
       "    <tr style=\"text-align: right;\">\n",
       "      <th></th>\n",
       "      <th>Corner Angle</th>\n",
       "      <th>Temperature</th>\n",
       "      <th>Speed</th>\n",
       "      <th>Friction Factor</th>\n",
       "      <th>Temp of die</th>\n",
       "      <th>Material</th>\n",
       "      <th>Initial Density</th>\n",
       "      <th>Back Pressure</th>\n",
       "      <th>Max Load</th>\n",
       "      <th>Final Volume</th>\n",
       "      <th>Final Density</th>\n",
       "      <th>Density Percentage</th>\n",
       "    </tr>\n",
       "  </thead>\n",
       "  <tbody>\n",
       "    <tr>\n",
       "      <th>count</th>\n",
       "      <td>154.000000</td>\n",
       "      <td>154.000000</td>\n",
       "      <td>154.000000</td>\n",
       "      <td>154.000000</td>\n",
       "      <td>154.000000</td>\n",
       "      <td>154</td>\n",
       "      <td>154.000000</td>\n",
       "      <td>154.000000</td>\n",
       "      <td>154.000000</td>\n",
       "      <td>154.000000</td>\n",
       "      <td>154.000000</td>\n",
       "      <td>154.000000</td>\n",
       "    </tr>\n",
       "    <tr>\n",
       "      <th>unique</th>\n",
       "      <td>NaN</td>\n",
       "      <td>NaN</td>\n",
       "      <td>NaN</td>\n",
       "      <td>NaN</td>\n",
       "      <td>NaN</td>\n",
       "      <td>2</td>\n",
       "      <td>NaN</td>\n",
       "      <td>NaN</td>\n",
       "      <td>NaN</td>\n",
       "      <td>NaN</td>\n",
       "      <td>NaN</td>\n",
       "      <td>NaN</td>\n",
       "    </tr>\n",
       "    <tr>\n",
       "      <th>top</th>\n",
       "      <td>NaN</td>\n",
       "      <td>NaN</td>\n",
       "      <td>NaN</td>\n",
       "      <td>NaN</td>\n",
       "      <td>NaN</td>\n",
       "      <td>TI-10V-2Fe-3Al</td>\n",
       "      <td>NaN</td>\n",
       "      <td>NaN</td>\n",
       "      <td>NaN</td>\n",
       "      <td>NaN</td>\n",
       "      <td>NaN</td>\n",
       "      <td>NaN</td>\n",
       "    </tr>\n",
       "    <tr>\n",
       "      <th>freq</th>\n",
       "      <td>NaN</td>\n",
       "      <td>NaN</td>\n",
       "      <td>NaN</td>\n",
       "      <td>NaN</td>\n",
       "      <td>NaN</td>\n",
       "      <td>93</td>\n",
       "      <td>NaN</td>\n",
       "      <td>NaN</td>\n",
       "      <td>NaN</td>\n",
       "      <td>NaN</td>\n",
       "      <td>NaN</td>\n",
       "      <td>NaN</td>\n",
       "    </tr>\n",
       "    <tr>\n",
       "      <th>mean</th>\n",
       "      <td>39.350649</td>\n",
       "      <td>293.116883</td>\n",
       "      <td>1.122078</td>\n",
       "      <td>0.043247</td>\n",
       "      <td>147.532468</td>\n",
       "      <td>NaN</td>\n",
       "      <td>0.620779</td>\n",
       "      <td>96.103896</td>\n",
       "      <td>56389.804442</td>\n",
       "      <td>3398.704736</td>\n",
       "      <td>0.920729</td>\n",
       "      <td>92.072928</td>\n",
       "    </tr>\n",
       "    <tr>\n",
       "      <th>std</th>\n",
       "      <td>30.312648</td>\n",
       "      <td>152.527805</td>\n",
       "      <td>0.638447</td>\n",
       "      <td>0.017818</td>\n",
       "      <td>166.140588</td>\n",
       "      <td>NaN</td>\n",
       "      <td>0.134638</td>\n",
       "      <td>69.670670</td>\n",
       "      <td>32898.220035</td>\n",
       "      <td>535.361519</td>\n",
       "      <td>0.122979</td>\n",
       "      <td>12.297873</td>\n",
       "    </tr>\n",
       "    <tr>\n",
       "      <th>min</th>\n",
       "      <td>0.000000</td>\n",
       "      <td>30.000000</td>\n",
       "      <td>0.200000</td>\n",
       "      <td>0.010000</td>\n",
       "      <td>20.000000</td>\n",
       "      <td>NaN</td>\n",
       "      <td>0.500000</td>\n",
       "      <td>0.000000</td>\n",
       "      <td>9885.620000</td>\n",
       "      <td>2304.630000</td>\n",
       "      <td>0.676510</td>\n",
       "      <td>67.651007</td>\n",
       "    </tr>\n",
       "    <tr>\n",
       "      <th>25%</th>\n",
       "      <td>10.000000</td>\n",
       "      <td>200.000000</td>\n",
       "      <td>0.500000</td>\n",
       "      <td>0.030000</td>\n",
       "      <td>20.000000</td>\n",
       "      <td>NaN</td>\n",
       "      <td>0.500000</td>\n",
       "      <td>12.500000</td>\n",
       "      <td>28823.401750</td>\n",
       "      <td>3086.471250</td>\n",
       "      <td>0.806426</td>\n",
       "      <td>80.642633</td>\n",
       "    </tr>\n",
       "    <tr>\n",
       "      <th>50%</th>\n",
       "      <td>40.000000</td>\n",
       "      <td>300.000000</td>\n",
       "      <td>1.000000</td>\n",
       "      <td>0.050000</td>\n",
       "      <td>60.000000</td>\n",
       "      <td>NaN</td>\n",
       "      <td>0.600000</td>\n",
       "      <td>100.000000</td>\n",
       "      <td>49896.545000</td>\n",
       "      <td>3404.609500</td>\n",
       "      <td>0.927336</td>\n",
       "      <td>92.733597</td>\n",
       "    </tr>\n",
       "    <tr>\n",
       "      <th>75%</th>\n",
       "      <td>70.000000</td>\n",
       "      <td>400.000000</td>\n",
       "      <td>1.000000</td>\n",
       "      <td>0.050000</td>\n",
       "      <td>200.000000</td>\n",
       "      <td>NaN</td>\n",
       "      <td>0.700000</td>\n",
       "      <td>150.000000</td>\n",
       "      <td>83671.556250</td>\n",
       "      <td>3832.674000</td>\n",
       "      <td>1.033500</td>\n",
       "      <td>103.350016</td>\n",
       "    </tr>\n",
       "    <tr>\n",
       "      <th>max</th>\n",
       "      <td>90.000000</td>\n",
       "      <td>600.000000</td>\n",
       "      <td>3.000000</td>\n",
       "      <td>0.100000</td>\n",
       "      <td>550.000000</td>\n",
       "      <td>NaN</td>\n",
       "      <td>0.900000</td>\n",
       "      <td>200.000000</td>\n",
       "      <td>142948.450000</td>\n",
       "      <td>4578.000000</td>\n",
       "      <td>1.153759</td>\n",
       "      <td>115.375913</td>\n",
       "    </tr>\n",
       "  </tbody>\n",
       "</table>\n",
       "</div>"
      ],
      "text/plain": [
       "        Corner Angle  Temperature      Speed   Friction Factor  Temp of die  \\\n",
       "count     154.000000   154.000000  154.000000       154.000000   154.000000   \n",
       "unique           NaN          NaN         NaN              NaN          NaN   \n",
       "top              NaN          NaN         NaN              NaN          NaN   \n",
       "freq             NaN          NaN         NaN              NaN          NaN   \n",
       "mean       39.350649   293.116883    1.122078         0.043247   147.532468   \n",
       "std        30.312648   152.527805    0.638447         0.017818   166.140588   \n",
       "min         0.000000    30.000000    0.200000         0.010000    20.000000   \n",
       "25%        10.000000   200.000000    0.500000         0.030000    20.000000   \n",
       "50%        40.000000   300.000000    1.000000         0.050000    60.000000   \n",
       "75%        70.000000   400.000000    1.000000         0.050000   200.000000   \n",
       "max        90.000000   600.000000    3.000000         0.100000   550.000000   \n",
       "\n",
       "              Material  Initial Density  Back Pressure       Max Load  \\\n",
       "count              154       154.000000     154.000000     154.000000   \n",
       "unique               2              NaN            NaN            NaN   \n",
       "top     TI-10V-2Fe-3Al              NaN            NaN            NaN   \n",
       "freq                93              NaN            NaN            NaN   \n",
       "mean               NaN         0.620779      96.103896   56389.804442   \n",
       "std                NaN         0.134638      69.670670   32898.220035   \n",
       "min                NaN         0.500000       0.000000    9885.620000   \n",
       "25%                NaN         0.500000      12.500000   28823.401750   \n",
       "50%                NaN         0.600000     100.000000   49896.545000   \n",
       "75%                NaN         0.700000     150.000000   83671.556250   \n",
       "max                NaN         0.900000     200.000000  142948.450000   \n",
       "\n",
       "        Final Volume  Final Density  Density Percentage  \n",
       "count     154.000000     154.000000          154.000000  \n",
       "unique           NaN            NaN                 NaN  \n",
       "top              NaN            NaN                 NaN  \n",
       "freq             NaN            NaN                 NaN  \n",
       "mean     3398.704736       0.920729           92.072928  \n",
       "std       535.361519       0.122979           12.297873  \n",
       "min      2304.630000       0.676510           67.651007  \n",
       "25%      3086.471250       0.806426           80.642633  \n",
       "50%      3404.609500       0.927336           92.733597  \n",
       "75%      3832.674000       1.033500          103.350016  \n",
       "max      4578.000000       1.153759          115.375913  "
      ]
     },
     "execution_count": 6,
     "metadata": {},
     "output_type": "execute_result"
    }
   ],
   "source": [
    "df.describe(include='all')"
   ]
  },
  {
   "cell_type": "code",
   "execution_count": 7,
   "metadata": {
    "scrolled": true
   },
   "outputs": [
    {
     "data": {
      "text/html": [
       "<div>\n",
       "<style scoped>\n",
       "    .dataframe tbody tr th:only-of-type {\n",
       "        vertical-align: middle;\n",
       "    }\n",
       "\n",
       "    .dataframe tbody tr th {\n",
       "        vertical-align: top;\n",
       "    }\n",
       "\n",
       "    .dataframe thead th {\n",
       "        text-align: right;\n",
       "    }\n",
       "</style>\n",
       "<table border=\"1\" class=\"dataframe\">\n",
       "  <thead>\n",
       "    <tr style=\"text-align: right;\">\n",
       "      <th></th>\n",
       "      <th>TI-10V-2Fe-3Al</th>\n",
       "      <th>TI-13C11Cr3Al</th>\n",
       "    </tr>\n",
       "  </thead>\n",
       "  <tbody>\n",
       "    <tr>\n",
       "      <th>0</th>\n",
       "      <td>1</td>\n",
       "      <td>0</td>\n",
       "    </tr>\n",
       "    <tr>\n",
       "      <th>1</th>\n",
       "      <td>1</td>\n",
       "      <td>0</td>\n",
       "    </tr>\n",
       "    <tr>\n",
       "      <th>2</th>\n",
       "      <td>1</td>\n",
       "      <td>0</td>\n",
       "    </tr>\n",
       "    <tr>\n",
       "      <th>3</th>\n",
       "      <td>1</td>\n",
       "      <td>0</td>\n",
       "    </tr>\n",
       "    <tr>\n",
       "      <th>4</th>\n",
       "      <td>1</td>\n",
       "      <td>0</td>\n",
       "    </tr>\n",
       "  </tbody>\n",
       "</table>\n",
       "</div>"
      ],
      "text/plain": [
       "   TI-10V-2Fe-3Al  TI-13C11Cr3Al\n",
       "0               1              0\n",
       "1               1              0\n",
       "2               1              0\n",
       "3               1              0\n",
       "4               1              0"
      ]
     },
     "execution_count": 7,
     "metadata": {},
     "output_type": "execute_result"
    }
   ],
   "source": [
    "mat=pd.get_dummies(df['Material'])\n",
    "mat.head()"
   ]
  },
  {
   "cell_type": "code",
   "execution_count": 8,
   "metadata": {
    "scrolled": true
   },
   "outputs": [
    {
     "data": {
      "text/plain": [
       "Corner Angle            int64\n",
       "Temperature             int64\n",
       "Speed                 float64\n",
       "Friction Factor       float64\n",
       "Temp of die             int64\n",
       "Material               object\n",
       "Initial Density       float64\n",
       "Back Pressure           int64\n",
       "Max Load              float64\n",
       "Final Volume          float64\n",
       "Final Density         float64\n",
       "Density Percentage    float64\n",
       "dtype: object"
      ]
     },
     "metadata": {},
     "output_type": "display_data"
    }
   ],
   "source": [
    "display(df.dtypes)"
   ]
  },
  {
   "cell_type": "code",
   "execution_count": 9,
   "metadata": {},
   "outputs": [],
   "source": [
    "df['Final Density'] = df['Final Density'].astype(int)"
   ]
  },
  {
   "cell_type": "code",
   "execution_count": 10,
   "metadata": {
    "scrolled": false
   },
   "outputs": [
    {
     "data": {
      "text/html": [
       "<div>\n",
       "<style scoped>\n",
       "    .dataframe tbody tr th:only-of-type {\n",
       "        vertical-align: middle;\n",
       "    }\n",
       "\n",
       "    .dataframe tbody tr th {\n",
       "        vertical-align: top;\n",
       "    }\n",
       "\n",
       "    .dataframe thead th {\n",
       "        text-align: right;\n",
       "    }\n",
       "</style>\n",
       "<table border=\"1\" class=\"dataframe\">\n",
       "  <thead>\n",
       "    <tr style=\"text-align: right;\">\n",
       "      <th></th>\n",
       "      <th>Corner Angle</th>\n",
       "      <th>Temperature</th>\n",
       "      <th>Speed</th>\n",
       "      <th>Friction Factor</th>\n",
       "      <th>Temp of die</th>\n",
       "      <th>Material</th>\n",
       "      <th>Initial Density</th>\n",
       "      <th>Back Pressure</th>\n",
       "      <th>Max Load</th>\n",
       "      <th>Final Volume</th>\n",
       "      <th>Final Density</th>\n",
       "      <th>Density Percentage</th>\n",
       "      <th>TI-10V-2Fe-3Al</th>\n",
       "      <th>TI-13C11Cr3Al</th>\n",
       "    </tr>\n",
       "  </thead>\n",
       "  <tbody>\n",
       "    <tr>\n",
       "      <th>0</th>\n",
       "      <td>10</td>\n",
       "      <td>300</td>\n",
       "      <td>1.0</td>\n",
       "      <td>0.05</td>\n",
       "      <td>20</td>\n",
       "      <td>TI-10V-2Fe-3Al</td>\n",
       "      <td>0.5</td>\n",
       "      <td>200</td>\n",
       "      <td>22381.20</td>\n",
       "      <td>3217.2600</td>\n",
       "      <td>0</td>\n",
       "      <td>78.327521</td>\n",
       "      <td>1</td>\n",
       "      <td>0</td>\n",
       "    </tr>\n",
       "    <tr>\n",
       "      <th>1</th>\n",
       "      <td>30</td>\n",
       "      <td>150</td>\n",
       "      <td>0.5</td>\n",
       "      <td>0.05</td>\n",
       "      <td>200</td>\n",
       "      <td>TI-10V-2Fe-3Al</td>\n",
       "      <td>0.8</td>\n",
       "      <td>200</td>\n",
       "      <td>109092.60</td>\n",
       "      <td>3698.1003</td>\n",
       "      <td>1</td>\n",
       "      <td>109.028952</td>\n",
       "      <td>1</td>\n",
       "      <td>0</td>\n",
       "    </tr>\n",
       "    <tr>\n",
       "      <th>2</th>\n",
       "      <td>40</td>\n",
       "      <td>300</td>\n",
       "      <td>1.0</td>\n",
       "      <td>0.05</td>\n",
       "      <td>20</td>\n",
       "      <td>TI-10V-2Fe-3Al</td>\n",
       "      <td>0.5</td>\n",
       "      <td>200</td>\n",
       "      <td>24382.80</td>\n",
       "      <td>3181.5900</td>\n",
       "      <td>0</td>\n",
       "      <td>79.205680</td>\n",
       "      <td>1</td>\n",
       "      <td>0</td>\n",
       "    </tr>\n",
       "    <tr>\n",
       "      <th>3</th>\n",
       "      <td>0</td>\n",
       "      <td>300</td>\n",
       "      <td>1.0</td>\n",
       "      <td>0.01</td>\n",
       "      <td>20</td>\n",
       "      <td>TI-10V-2Fe-3Al</td>\n",
       "      <td>0.5</td>\n",
       "      <td>200</td>\n",
       "      <td>31172.40</td>\n",
       "      <td>2819.6700</td>\n",
       "      <td>0</td>\n",
       "      <td>89.372161</td>\n",
       "      <td>1</td>\n",
       "      <td>0</td>\n",
       "    </tr>\n",
       "    <tr>\n",
       "      <th>4</th>\n",
       "      <td>0</td>\n",
       "      <td>300</td>\n",
       "      <td>1.0</td>\n",
       "      <td>0.10</td>\n",
       "      <td>20</td>\n",
       "      <td>TI-10V-2Fe-3Al</td>\n",
       "      <td>0.5</td>\n",
       "      <td>200</td>\n",
       "      <td>90846.00</td>\n",
       "      <td>2304.6300</td>\n",
       "      <td>1</td>\n",
       "      <td>109.345101</td>\n",
       "      <td>1</td>\n",
       "      <td>0</td>\n",
       "    </tr>\n",
       "    <tr>\n",
       "      <th>5</th>\n",
       "      <td>60</td>\n",
       "      <td>100</td>\n",
       "      <td>2.0</td>\n",
       "      <td>0.05</td>\n",
       "      <td>200</td>\n",
       "      <td>TI-13C11Cr3Al</td>\n",
       "      <td>0.8</td>\n",
       "      <td>200</td>\n",
       "      <td>85752.84</td>\n",
       "      <td>3731.0646</td>\n",
       "      <td>1</td>\n",
       "      <td>108.065671</td>\n",
       "      <td>0</td>\n",
       "      <td>1</td>\n",
       "    </tr>\n",
       "    <tr>\n",
       "      <th>6</th>\n",
       "      <td>0</td>\n",
       "      <td>300</td>\n",
       "      <td>2.0</td>\n",
       "      <td>0.05</td>\n",
       "      <td>20</td>\n",
       "      <td>TI-10V-2Fe-3Al</td>\n",
       "      <td>0.5</td>\n",
       "      <td>200</td>\n",
       "      <td>89893.20</td>\n",
       "      <td>2322.0300</td>\n",
       "      <td>1</td>\n",
       "      <td>108.525730</td>\n",
       "      <td>1</td>\n",
       "      <td>0</td>\n",
       "    </tr>\n",
       "    <tr>\n",
       "      <th>7</th>\n",
       "      <td>20</td>\n",
       "      <td>300</td>\n",
       "      <td>1.0</td>\n",
       "      <td>0.07</td>\n",
       "      <td>20</td>\n",
       "      <td>TI-10V-2Fe-3Al</td>\n",
       "      <td>0.5</td>\n",
       "      <td>200</td>\n",
       "      <td>44000.40</td>\n",
       "      <td>2775.3000</td>\n",
       "      <td>0</td>\n",
       "      <td>90.800994</td>\n",
       "      <td>1</td>\n",
       "      <td>0</td>\n",
       "    </tr>\n",
       "    <tr>\n",
       "      <th>8</th>\n",
       "      <td>80</td>\n",
       "      <td>250</td>\n",
       "      <td>1.0</td>\n",
       "      <td>0.05</td>\n",
       "      <td>50</td>\n",
       "      <td>TI-13C11Cr3Al</td>\n",
       "      <td>0.5</td>\n",
       "      <td>200</td>\n",
       "      <td>23928.00</td>\n",
       "      <td>3188.5500</td>\n",
       "      <td>0</td>\n",
       "      <td>79.032789</td>\n",
       "      <td>0</td>\n",
       "      <td>1</td>\n",
       "    </tr>\n",
       "    <tr>\n",
       "      <th>9</th>\n",
       "      <td>0</td>\n",
       "      <td>200</td>\n",
       "      <td>1.0</td>\n",
       "      <td>0.05</td>\n",
       "      <td>20</td>\n",
       "      <td>TI-10V-2Fe-3Al</td>\n",
       "      <td>0.5</td>\n",
       "      <td>200</td>\n",
       "      <td>101228.40</td>\n",
       "      <td>2335.9500</td>\n",
       "      <td>1</td>\n",
       "      <td>107.879021</td>\n",
       "      <td>1</td>\n",
       "      <td>0</td>\n",
       "    </tr>\n",
       "    <tr>\n",
       "      <th>10</th>\n",
       "      <td>70</td>\n",
       "      <td>450</td>\n",
       "      <td>2.0</td>\n",
       "      <td>0.07</td>\n",
       "      <td>80</td>\n",
       "      <td>TI-10V-2Fe-3Al</td>\n",
       "      <td>0.6</td>\n",
       "      <td>200</td>\n",
       "      <td>28288.80</td>\n",
       "      <td>3299.8143</td>\n",
       "      <td>0</td>\n",
       "      <td>91.641521</td>\n",
       "      <td>1</td>\n",
       "      <td>0</td>\n",
       "    </tr>\n",
       "    <tr>\n",
       "      <th>11</th>\n",
       "      <td>40</td>\n",
       "      <td>350</td>\n",
       "      <td>1.0</td>\n",
       "      <td>0.06</td>\n",
       "      <td>500</td>\n",
       "      <td>TI-13C11Cr3Al</td>\n",
       "      <td>0.9</td>\n",
       "      <td>200</td>\n",
       "      <td>98407.08</td>\n",
       "      <td>4080.9177</td>\n",
       "      <td>1</td>\n",
       "      <td>111.151470</td>\n",
       "      <td>0</td>\n",
       "      <td>1</td>\n",
       "    </tr>\n",
       "    <tr>\n",
       "      <th>12</th>\n",
       "      <td>40</td>\n",
       "      <td>550</td>\n",
       "      <td>0.5</td>\n",
       "      <td>0.07</td>\n",
       "      <td>60</td>\n",
       "      <td>TI-13C11Cr3Al</td>\n",
       "      <td>0.5</td>\n",
       "      <td>200</td>\n",
       "      <td>24245.88</td>\n",
       "      <td>2984.2131</td>\n",
       "      <td>0</td>\n",
       "      <td>84.444372</td>\n",
       "      <td>0</td>\n",
       "      <td>1</td>\n",
       "    </tr>\n",
       "    <tr>\n",
       "      <th>13</th>\n",
       "      <td>90</td>\n",
       "      <td>200</td>\n",
       "      <td>0.5</td>\n",
       "      <td>0.07</td>\n",
       "      <td>60</td>\n",
       "      <td>TI-10V-2Fe-3Al</td>\n",
       "      <td>0.6</td>\n",
       "      <td>200</td>\n",
       "      <td>39187.20</td>\n",
       "      <td>3282.5100</td>\n",
       "      <td>0</td>\n",
       "      <td>92.124624</td>\n",
       "      <td>1</td>\n",
       "      <td>0</td>\n",
       "    </tr>\n",
       "    <tr>\n",
       "      <th>14</th>\n",
       "      <td>0</td>\n",
       "      <td>200</td>\n",
       "      <td>1.0</td>\n",
       "      <td>0.05</td>\n",
       "      <td>20</td>\n",
       "      <td>TI-10V-2Fe-3Al</td>\n",
       "      <td>0.5</td>\n",
       "      <td>0</td>\n",
       "      <td>84357.00</td>\n",
       "      <td>2685.0000</td>\n",
       "      <td>0</td>\n",
       "      <td>93.854749</td>\n",
       "      <td>1</td>\n",
       "      <td>0</td>\n",
       "    </tr>\n",
       "  </tbody>\n",
       "</table>\n",
       "</div>"
      ],
      "text/plain": [
       "    Corner Angle  Temperature  Speed   Friction Factor  Temp of die  \\\n",
       "0             10          300     1.0             0.05           20   \n",
       "1             30          150     0.5             0.05          200   \n",
       "2             40          300     1.0             0.05           20   \n",
       "3              0          300     1.0             0.01           20   \n",
       "4              0          300     1.0             0.10           20   \n",
       "5             60          100     2.0             0.05          200   \n",
       "6              0          300     2.0             0.05           20   \n",
       "7             20          300     1.0             0.07           20   \n",
       "8             80          250     1.0             0.05           50   \n",
       "9              0          200     1.0             0.05           20   \n",
       "10            70          450     2.0             0.07           80   \n",
       "11            40          350     1.0             0.06          500   \n",
       "12            40          550     0.5             0.07           60   \n",
       "13            90          200     0.5             0.07           60   \n",
       "14             0          200     1.0             0.05           20   \n",
       "\n",
       "          Material  Initial Density  Back Pressure   Max Load  Final Volume  \\\n",
       "0   TI-10V-2Fe-3Al              0.5            200   22381.20     3217.2600   \n",
       "1   TI-10V-2Fe-3Al              0.8            200  109092.60     3698.1003   \n",
       "2   TI-10V-2Fe-3Al              0.5            200   24382.80     3181.5900   \n",
       "3   TI-10V-2Fe-3Al              0.5            200   31172.40     2819.6700   \n",
       "4   TI-10V-2Fe-3Al              0.5            200   90846.00     2304.6300   \n",
       "5    TI-13C11Cr3Al              0.8            200   85752.84     3731.0646   \n",
       "6   TI-10V-2Fe-3Al              0.5            200   89893.20     2322.0300   \n",
       "7   TI-10V-2Fe-3Al              0.5            200   44000.40     2775.3000   \n",
       "8    TI-13C11Cr3Al              0.5            200   23928.00     3188.5500   \n",
       "9   TI-10V-2Fe-3Al              0.5            200  101228.40     2335.9500   \n",
       "10  TI-10V-2Fe-3Al              0.6            200   28288.80     3299.8143   \n",
       "11   TI-13C11Cr3Al              0.9            200   98407.08     4080.9177   \n",
       "12   TI-13C11Cr3Al              0.5            200   24245.88     2984.2131   \n",
       "13  TI-10V-2Fe-3Al              0.6            200   39187.20     3282.5100   \n",
       "14  TI-10V-2Fe-3Al              0.5              0   84357.00     2685.0000   \n",
       "\n",
       "    Final Density  Density Percentage  TI-10V-2Fe-3Al  TI-13C11Cr3Al  \n",
       "0               0           78.327521               1              0  \n",
       "1               1          109.028952               1              0  \n",
       "2               0           79.205680               1              0  \n",
       "3               0           89.372161               1              0  \n",
       "4               1          109.345101               1              0  \n",
       "5               1          108.065671               0              1  \n",
       "6               1          108.525730               1              0  \n",
       "7               0           90.800994               1              0  \n",
       "8               0           79.032789               0              1  \n",
       "9               1          107.879021               1              0  \n",
       "10              0           91.641521               1              0  \n",
       "11              1          111.151470               0              1  \n",
       "12              0           84.444372               0              1  \n",
       "13              0           92.124624               1              0  \n",
       "14              0           93.854749               1              0  "
      ]
     },
     "execution_count": 10,
     "metadata": {},
     "output_type": "execute_result"
    }
   ],
   "source": [
    "df=pd.concat([df,mat],axis=1)\n",
    "df.head(15)"
   ]
  },
  {
   "cell_type": "code",
   "execution_count": 11,
   "metadata": {
    "scrolled": false
   },
   "outputs": [
    {
     "data": {
      "text/html": [
       "<div>\n",
       "<style scoped>\n",
       "    .dataframe tbody tr th:only-of-type {\n",
       "        vertical-align: middle;\n",
       "    }\n",
       "\n",
       "    .dataframe tbody tr th {\n",
       "        vertical-align: top;\n",
       "    }\n",
       "\n",
       "    .dataframe thead th {\n",
       "        text-align: right;\n",
       "    }\n",
       "</style>\n",
       "<table border=\"1\" class=\"dataframe\">\n",
       "  <thead>\n",
       "    <tr style=\"text-align: right;\">\n",
       "      <th></th>\n",
       "      <th>Corner Angle</th>\n",
       "      <th>Temperature</th>\n",
       "      <th>Speed</th>\n",
       "      <th>Friction Factor</th>\n",
       "      <th>Temp of die</th>\n",
       "      <th>Initial Density</th>\n",
       "      <th>Back Pressure</th>\n",
       "      <th>Final Density</th>\n",
       "      <th>TI-10V-2Fe-3Al</th>\n",
       "      <th>TI-13C11Cr3Al</th>\n",
       "    </tr>\n",
       "  </thead>\n",
       "  <tbody>\n",
       "    <tr>\n",
       "      <th>0</th>\n",
       "      <td>10</td>\n",
       "      <td>300</td>\n",
       "      <td>1.0</td>\n",
       "      <td>0.05</td>\n",
       "      <td>20</td>\n",
       "      <td>0.5</td>\n",
       "      <td>200</td>\n",
       "      <td>0</td>\n",
       "      <td>1</td>\n",
       "      <td>0</td>\n",
       "    </tr>\n",
       "    <tr>\n",
       "      <th>1</th>\n",
       "      <td>30</td>\n",
       "      <td>150</td>\n",
       "      <td>0.5</td>\n",
       "      <td>0.05</td>\n",
       "      <td>200</td>\n",
       "      <td>0.8</td>\n",
       "      <td>200</td>\n",
       "      <td>1</td>\n",
       "      <td>1</td>\n",
       "      <td>0</td>\n",
       "    </tr>\n",
       "    <tr>\n",
       "      <th>2</th>\n",
       "      <td>40</td>\n",
       "      <td>300</td>\n",
       "      <td>1.0</td>\n",
       "      <td>0.05</td>\n",
       "      <td>20</td>\n",
       "      <td>0.5</td>\n",
       "      <td>200</td>\n",
       "      <td>0</td>\n",
       "      <td>1</td>\n",
       "      <td>0</td>\n",
       "    </tr>\n",
       "    <tr>\n",
       "      <th>3</th>\n",
       "      <td>0</td>\n",
       "      <td>300</td>\n",
       "      <td>1.0</td>\n",
       "      <td>0.01</td>\n",
       "      <td>20</td>\n",
       "      <td>0.5</td>\n",
       "      <td>200</td>\n",
       "      <td>0</td>\n",
       "      <td>1</td>\n",
       "      <td>0</td>\n",
       "    </tr>\n",
       "    <tr>\n",
       "      <th>4</th>\n",
       "      <td>0</td>\n",
       "      <td>300</td>\n",
       "      <td>1.0</td>\n",
       "      <td>0.10</td>\n",
       "      <td>20</td>\n",
       "      <td>0.5</td>\n",
       "      <td>200</td>\n",
       "      <td>1</td>\n",
       "      <td>1</td>\n",
       "      <td>0</td>\n",
       "    </tr>\n",
       "  </tbody>\n",
       "</table>\n",
       "</div>"
      ],
      "text/plain": [
       "   Corner Angle  Temperature  Speed   Friction Factor  Temp of die  \\\n",
       "0            10          300     1.0             0.05           20   \n",
       "1            30          150     0.5             0.05          200   \n",
       "2            40          300     1.0             0.05           20   \n",
       "3             0          300     1.0             0.01           20   \n",
       "4             0          300     1.0             0.10           20   \n",
       "\n",
       "   Initial Density  Back Pressure  Final Density  TI-10V-2Fe-3Al  \\\n",
       "0              0.5            200              0               1   \n",
       "1              0.8            200              1               1   \n",
       "2              0.5            200              0               1   \n",
       "3              0.5            200              0               1   \n",
       "4              0.5            200              1               1   \n",
       "\n",
       "   TI-13C11Cr3Al  \n",
       "0              0  \n",
       "1              0  \n",
       "2              0  \n",
       "3              0  \n",
       "4              0  "
      ]
     },
     "execution_count": 11,
     "metadata": {},
     "output_type": "execute_result"
    }
   ],
   "source": [
    "df.drop([\"Material\",\"Density Percentage\",\"Max Load\",\"Final Volume\"],axis=1,inplace=True)\n",
    "df.head()"
   ]
  },
  {
   "cell_type": "code",
   "execution_count": 12,
   "metadata": {},
   "outputs": [
    {
     "data": {
      "text/html": [
       "<div>\n",
       "<style scoped>\n",
       "    .dataframe tbody tr th:only-of-type {\n",
       "        vertical-align: middle;\n",
       "    }\n",
       "\n",
       "    .dataframe tbody tr th {\n",
       "        vertical-align: top;\n",
       "    }\n",
       "\n",
       "    .dataframe thead th {\n",
       "        text-align: right;\n",
       "    }\n",
       "</style>\n",
       "<table border=\"1\" class=\"dataframe\">\n",
       "  <thead>\n",
       "    <tr style=\"text-align: right;\">\n",
       "      <th></th>\n",
       "      <th>Corner Angle</th>\n",
       "      <th>Temperature</th>\n",
       "      <th>Speed</th>\n",
       "      <th>Friction Factor</th>\n",
       "      <th>Temp of die</th>\n",
       "      <th>Initial Density</th>\n",
       "      <th>Back Pressure</th>\n",
       "      <th>Final Density</th>\n",
       "      <th>TI-10V-2Fe-3Al</th>\n",
       "      <th>TI-13C11Cr3Al</th>\n",
       "    </tr>\n",
       "  </thead>\n",
       "  <tbody>\n",
       "    <tr>\n",
       "      <th>Corner Angle</th>\n",
       "      <td>1.000000</td>\n",
       "      <td>0.054865</td>\n",
       "      <td>0.093282</td>\n",
       "      <td>-0.039634</td>\n",
       "      <td>-0.257675</td>\n",
       "      <td>-0.007883</td>\n",
       "      <td>0.004984</td>\n",
       "      <td>-0.403137</td>\n",
       "      <td>-0.215147</td>\n",
       "      <td>0.215147</td>\n",
       "    </tr>\n",
       "    <tr>\n",
       "      <th>Temperature</th>\n",
       "      <td>0.054865</td>\n",
       "      <td>1.000000</td>\n",
       "      <td>-0.039237</td>\n",
       "      <td>-0.081185</td>\n",
       "      <td>-0.058320</td>\n",
       "      <td>-0.227234</td>\n",
       "      <td>-0.163375</td>\n",
       "      <td>-0.187156</td>\n",
       "      <td>0.327496</td>\n",
       "      <td>-0.327496</td>\n",
       "    </tr>\n",
       "    <tr>\n",
       "      <th>Speed</th>\n",
       "      <td>0.093282</td>\n",
       "      <td>-0.039237</td>\n",
       "      <td>1.000000</td>\n",
       "      <td>0.016639</td>\n",
       "      <td>0.165900</td>\n",
       "      <td>0.112483</td>\n",
       "      <td>-0.097971</td>\n",
       "      <td>0.049353</td>\n",
       "      <td>-0.078305</td>\n",
       "      <td>0.078305</td>\n",
       "    </tr>\n",
       "    <tr>\n",
       "      <th>Friction Factor</th>\n",
       "      <td>-0.039634</td>\n",
       "      <td>-0.081185</td>\n",
       "      <td>0.016639</td>\n",
       "      <td>1.000000</td>\n",
       "      <td>0.009347</td>\n",
       "      <td>-0.140006</td>\n",
       "      <td>0.120819</td>\n",
       "      <td>0.066429</td>\n",
       "      <td>-0.016407</td>\n",
       "      <td>0.016407</td>\n",
       "    </tr>\n",
       "    <tr>\n",
       "      <th>Temp of die</th>\n",
       "      <td>-0.257675</td>\n",
       "      <td>-0.058320</td>\n",
       "      <td>0.165900</td>\n",
       "      <td>0.009347</td>\n",
       "      <td>1.000000</td>\n",
       "      <td>0.367543</td>\n",
       "      <td>-0.010153</td>\n",
       "      <td>0.281777</td>\n",
       "      <td>-0.222123</td>\n",
       "      <td>0.222123</td>\n",
       "    </tr>\n",
       "    <tr>\n",
       "      <th>Initial Density</th>\n",
       "      <td>-0.007883</td>\n",
       "      <td>-0.227234</td>\n",
       "      <td>0.112483</td>\n",
       "      <td>-0.140006</td>\n",
       "      <td>0.367543</td>\n",
       "      <td>1.000000</td>\n",
       "      <td>0.008687</td>\n",
       "      <td>0.491258</td>\n",
       "      <td>-0.141718</td>\n",
       "      <td>0.141718</td>\n",
       "    </tr>\n",
       "    <tr>\n",
       "      <th>Back Pressure</th>\n",
       "      <td>0.004984</td>\n",
       "      <td>-0.163375</td>\n",
       "      <td>-0.097971</td>\n",
       "      <td>0.120819</td>\n",
       "      <td>-0.010153</td>\n",
       "      <td>0.008687</td>\n",
       "      <td>1.000000</td>\n",
       "      <td>0.441512</td>\n",
       "      <td>-0.035879</td>\n",
       "      <td>0.035879</td>\n",
       "    </tr>\n",
       "    <tr>\n",
       "      <th>Final Density</th>\n",
       "      <td>-0.403137</td>\n",
       "      <td>-0.187156</td>\n",
       "      <td>0.049353</td>\n",
       "      <td>0.066429</td>\n",
       "      <td>0.281777</td>\n",
       "      <td>0.491258</td>\n",
       "      <td>0.441512</td>\n",
       "      <td>1.000000</td>\n",
       "      <td>-0.085621</td>\n",
       "      <td>0.085621</td>\n",
       "    </tr>\n",
       "    <tr>\n",
       "      <th>TI-10V-2Fe-3Al</th>\n",
       "      <td>-0.215147</td>\n",
       "      <td>0.327496</td>\n",
       "      <td>-0.078305</td>\n",
       "      <td>-0.016407</td>\n",
       "      <td>-0.222123</td>\n",
       "      <td>-0.141718</td>\n",
       "      <td>-0.035879</td>\n",
       "      <td>-0.085621</td>\n",
       "      <td>1.000000</td>\n",
       "      <td>-1.000000</td>\n",
       "    </tr>\n",
       "    <tr>\n",
       "      <th>TI-13C11Cr3Al</th>\n",
       "      <td>0.215147</td>\n",
       "      <td>-0.327496</td>\n",
       "      <td>0.078305</td>\n",
       "      <td>0.016407</td>\n",
       "      <td>0.222123</td>\n",
       "      <td>0.141718</td>\n",
       "      <td>0.035879</td>\n",
       "      <td>0.085621</td>\n",
       "      <td>-1.000000</td>\n",
       "      <td>1.000000</td>\n",
       "    </tr>\n",
       "  </tbody>\n",
       "</table>\n",
       "</div>"
      ],
      "text/plain": [
       "                 Corner Angle  Temperature    Speed   Friction Factor  \\\n",
       "Corner Angle         1.000000     0.054865  0.093282        -0.039634   \n",
       "Temperature          0.054865     1.000000 -0.039237        -0.081185   \n",
       "Speed                0.093282    -0.039237  1.000000         0.016639   \n",
       "Friction Factor     -0.039634    -0.081185  0.016639         1.000000   \n",
       "Temp of die         -0.257675    -0.058320  0.165900         0.009347   \n",
       "Initial Density     -0.007883    -0.227234  0.112483        -0.140006   \n",
       "Back Pressure        0.004984    -0.163375 -0.097971         0.120819   \n",
       "Final Density       -0.403137    -0.187156  0.049353         0.066429   \n",
       "TI-10V-2Fe-3Al      -0.215147     0.327496 -0.078305        -0.016407   \n",
       "TI-13C11Cr3Al        0.215147    -0.327496  0.078305         0.016407   \n",
       "\n",
       "                 Temp of die  Initial Density  Back Pressure  Final Density  \\\n",
       "Corner Angle       -0.257675        -0.007883       0.004984      -0.403137   \n",
       "Temperature        -0.058320        -0.227234      -0.163375      -0.187156   \n",
       "Speed               0.165900         0.112483      -0.097971       0.049353   \n",
       "Friction Factor     0.009347        -0.140006       0.120819       0.066429   \n",
       "Temp of die         1.000000         0.367543      -0.010153       0.281777   \n",
       "Initial Density     0.367543         1.000000       0.008687       0.491258   \n",
       "Back Pressure      -0.010153         0.008687       1.000000       0.441512   \n",
       "Final Density       0.281777         0.491258       0.441512       1.000000   \n",
       "TI-10V-2Fe-3Al     -0.222123        -0.141718      -0.035879      -0.085621   \n",
       "TI-13C11Cr3Al       0.222123         0.141718       0.035879       0.085621   \n",
       "\n",
       "                 TI-10V-2Fe-3Al  TI-13C11Cr3Al  \n",
       "Corner Angle          -0.215147       0.215147  \n",
       "Temperature            0.327496      -0.327496  \n",
       "Speed                 -0.078305       0.078305  \n",
       "Friction Factor       -0.016407       0.016407  \n",
       "Temp of die           -0.222123       0.222123  \n",
       "Initial Density       -0.141718       0.141718  \n",
       "Back Pressure         -0.035879       0.035879  \n",
       "Final Density         -0.085621       0.085621  \n",
       "TI-10V-2Fe-3Al         1.000000      -1.000000  \n",
       "TI-13C11Cr3Al         -1.000000       1.000000  "
      ]
     },
     "execution_count": 12,
     "metadata": {},
     "output_type": "execute_result"
    }
   ],
   "source": [
    "corr=df.corr()\n",
    "corr"
   ]
  },
  {
   "cell_type": "code",
   "execution_count": 13,
   "metadata": {},
   "outputs": [],
   "source": [
    "X=df.drop(\"Final Density\",axis=1)\n",
    "Y=df[\"Final Density\"]"
   ]
  },
  {
   "cell_type": "code",
   "execution_count": 14,
   "metadata": {},
   "outputs": [],
   "source": [
    "X_train,X_test,Y_train,Y_test= train_test_split(X,Y,test_size=0.30,random_state=25)"
   ]
  },
  {
   "cell_type": "markdown",
   "metadata": {},
   "source": [
    "## Logistic Regression"
   ]
  },
  {
   "cell_type": "code",
   "execution_count": 15,
   "metadata": {},
   "outputs": [],
   "source": [
    "from sklearn import metrics\n",
    "\n",
    "from sklearn.linear_model import LogisticRegression"
   ]
  },
  {
   "cell_type": "code",
   "execution_count": 16,
   "metadata": {},
   "outputs": [
    {
     "data": {
      "text/plain": [
       "LogisticRegression(solver='liblinear')"
      ]
     },
     "execution_count": 16,
     "metadata": {},
     "output_type": "execute_result"
    }
   ],
   "source": [
    "# Fit the model on train\n",
    "model = LogisticRegression(solver='liblinear')\n",
    "model.fit(X_train, Y_train)"
   ]
  },
  {
   "cell_type": "code",
   "execution_count": 17,
   "metadata": {},
   "outputs": [
    {
     "name": "stdout",
     "output_type": "stream",
     "text": [
      "          0         1         2         3        4         5         6  \\\n",
      "0 -0.064867 -0.003576  0.484029 -0.079609  0.00247  1.595798  0.019325   \n",
      "\n",
      "          7         8  intercept  \n",
      "0 -1.162922  0.129779  -1.033143  \n"
     ]
    }
   ],
   "source": [
    "Y_predict = model.predict(X_test)\n",
    "coef_df = pd.DataFrame(model.coef_)\n",
    "coef_df['intercept'] = model.intercept_\n",
    "print(coef_df)"
   ]
  },
  {
   "cell_type": "code",
   "execution_count": 18,
   "metadata": {},
   "outputs": [
    {
     "name": "stdout",
     "output_type": "stream",
     "text": [
      "0.8691588785046729\n"
     ]
    }
   ],
   "source": [
    "model_score = model.score(X_train, Y_train)\n",
    "print(model_score)"
   ]
  },
  {
   "cell_type": "code",
   "execution_count": 19,
   "metadata": {},
   "outputs": [
    {
     "name": "stdout",
     "output_type": "stream",
     "text": [
      "0.8297872340425532\n"
     ]
    }
   ],
   "source": [
    "model_score = model.score(X_test, Y_test)\n",
    "print(model_score)"
   ]
  },
  {
   "cell_type": "code",
   "execution_count": 20,
   "metadata": {},
   "outputs": [
    {
     "data": {
      "text/plain": [
       "<AxesSubplot:>"
      ]
     },
     "execution_count": 20,
     "metadata": {},
     "output_type": "execute_result"
    },
    {
     "data": {
      "image/png": "[encoded data removed]",
      "text/plain": [
       "<Figure size 504x360 with 2 Axes>"
      ]
     },
     "metadata": {
      "needs_background": "light"
     },
     "output_type": "display_data"
    }
   ],
   "source": [
    "cm=metrics.confusion_matrix(Y_test, Y_predict, labels=[1, 0])\n",
    "\n",
    "df_cm = pd.DataFrame(cm, index = [i for i in [\"1\",\"0\"]],\n",
    "                  columns = [i for i in [\"Predict 1\",\"Predict 0\"]])\n",
    "plt.figure(figsize = (7,5))\n",
    "sns.heatmap(df_cm, annot=True,fmt='g')"
   ]
  },
  {
   "cell_type": "code",
   "execution_count": 21,
   "metadata": {},
   "outputs": [
    {
     "data": {
      "text/plain": [
       "0.8297872340425532"
      ]
     },
     "execution_count": 21,
     "metadata": {},
     "output_type": "execute_result"
    }
   ],
   "source": [
    "predictions=model.predict(X_test)\n",
    "from sklearn.metrics import accuracy_score\n",
    "accuracy_score(Y_test,predictions)"
   ]
  },
  {
   "cell_type": "code",
   "execution_count": 22,
   "metadata": {
    "scrolled": true
   },
   "outputs": [
    {
     "name": "stdout",
     "output_type": "stream",
     "text": [
      "              precision    recall  f1-score   support\n",
      "\n",
      "           0       0.93      0.82      0.87        34\n",
      "           1       0.65      0.85      0.73        13\n",
      "\n",
      "    accuracy                           0.83        47\n",
      "   macro avg       0.79      0.83      0.80        47\n",
      "weighted avg       0.85      0.83      0.84        47\n",
      "\n"
     ]
    }
   ],
   "source": [
    "print(metrics.classification_report(Y_test,predictions))"
   ]
  },
  {
   "cell_type": "markdown",
   "metadata": {},
   "source": [
    "## Gaussian NB"
   ]
  },
  {
   "cell_type": "code",
   "execution_count": 23,
   "metadata": {},
   "outputs": [
    {
     "data": {
      "text/plain": [
       "GaussianNB()"
      ]
     },
     "execution_count": 23,
     "metadata": {},
     "output_type": "execute_result"
    }
   ],
   "source": [
    "from sklearn.naive_bayes import GaussianNB\n",
    "model=GaussianNB()\n",
    "model.fit(X_train,Y_train)"
   ]
  },
  {
   "cell_type": "code",
   "execution_count": 24,
   "metadata": {},
   "outputs": [],
   "source": [
    "model_predict=model.predict(X_train)\n",
    "predictions=model.predict(X_test)"
   ]
  },
  {
   "cell_type": "code",
   "execution_count": 25,
   "metadata": {
    "scrolled": true
   },
   "outputs": [
    {
     "data": {
      "text/plain": [
       "0.8085106382978723"
      ]
     },
     "execution_count": 25,
     "metadata": {},
     "output_type": "execute_result"
    }
   ],
   "source": [
    "accuracy_score(Y_test,predictions)"
   ]
  },
  {
   "cell_type": "code",
   "execution_count": 26,
   "metadata": {},
   "outputs": [
    {
     "name": "stdout",
     "output_type": "stream",
     "text": [
      "0.8411214953271028\n",
      "0.8085106382978723\n"
     ]
    }
   ],
   "source": [
    "print(model.score(X_train,Y_train))\n",
    "print(model.score(X_test,Y_test))"
   ]
  },
  {
   "cell_type": "markdown",
   "metadata": {},
   "source": [
    "## KNN"
   ]
  },
  {
   "cell_type": "code",
   "execution_count": 27,
   "metadata": {},
   "outputs": [],
   "source": [
    "from sklearn.neighbors import KNeighborsClassifier\n",
    "from scipy.stats import zscore"
   ]
  },
  {
   "cell_type": "code",
   "execution_count": 28,
   "metadata": {},
   "outputs": [
    {
     "data": {
      "text/html": [
       "<div>\n",
       "<style scoped>\n",
       "    .dataframe tbody tr th:only-of-type {\n",
       "        vertical-align: middle;\n",
       "    }\n",
       "\n",
       "    .dataframe tbody tr th {\n",
       "        vertical-align: top;\n",
       "    }\n",
       "\n",
       "    .dataframe thead th {\n",
       "        text-align: right;\n",
       "    }\n",
       "</style>\n",
       "<table border=\"1\" class=\"dataframe\">\n",
       "  <thead>\n",
       "    <tr style=\"text-align: right;\">\n",
       "      <th></th>\n",
       "      <th>Corner Angle</th>\n",
       "      <th>Temperature</th>\n",
       "      <th>Speed</th>\n",
       "      <th>Friction Factor</th>\n",
       "      <th>Temp of die</th>\n",
       "      <th>Initial Density</th>\n",
       "      <th>Back Pressure</th>\n",
       "      <th>TI-10V-2Fe-3Al</th>\n",
       "      <th>TI-13C11Cr3Al</th>\n",
       "    </tr>\n",
       "  </thead>\n",
       "  <tbody>\n",
       "    <tr>\n",
       "      <th>count</th>\n",
       "      <td>1.540000e+02</td>\n",
       "      <td>1.540000e+02</td>\n",
       "      <td>1.540000e+02</td>\n",
       "      <td>1.540000e+02</td>\n",
       "      <td>1.540000e+02</td>\n",
       "      <td>1.540000e+02</td>\n",
       "      <td>1.540000e+02</td>\n",
       "      <td>1.540000e+02</td>\n",
       "      <td>1.540000e+02</td>\n",
       "    </tr>\n",
       "    <tr>\n",
       "      <th>mean</th>\n",
       "      <td>7.137148e-17</td>\n",
       "      <td>1.441848e-18</td>\n",
       "      <td>-2.162772e-16</td>\n",
       "      <td>-7.137148e-17</td>\n",
       "      <td>-9.372013e-17</td>\n",
       "      <td>1.845566e-16</td>\n",
       "      <td>3.820897e-16</td>\n",
       "      <td>4.037175e-17</td>\n",
       "      <td>-1.066968e-16</td>\n",
       "    </tr>\n",
       "    <tr>\n",
       "      <th>std</th>\n",
       "      <td>1.003263e+00</td>\n",
       "      <td>1.003263e+00</td>\n",
       "      <td>1.003263e+00</td>\n",
       "      <td>1.003263e+00</td>\n",
       "      <td>1.003263e+00</td>\n",
       "      <td>1.003263e+00</td>\n",
       "      <td>1.003263e+00</td>\n",
       "      <td>1.003263e+00</td>\n",
       "      <td>1.003263e+00</td>\n",
       "    </tr>\n",
       "    <tr>\n",
       "      <th>min</th>\n",
       "      <td>-1.302395e+00</td>\n",
       "      <td>-1.730670e+00</td>\n",
       "      <td>-1.448965e+00</td>\n",
       "      <td>-1.871957e+00</td>\n",
       "      <td>-7.701222e-01</td>\n",
       "      <td>-8.999906e-01</td>\n",
       "      <td>-1.383903e+00</td>\n",
       "      <td>-1.234743e+00</td>\n",
       "      <td>-8.098852e-01</td>\n",
       "    </tr>\n",
       "    <tr>\n",
       "      <th>25%</th>\n",
       "      <td>-9.714232e-01</td>\n",
       "      <td>-6.124830e-01</td>\n",
       "      <td>-9.775408e-01</td>\n",
       "      <td>-7.458580e-01</td>\n",
       "      <td>-7.701222e-01</td>\n",
       "      <td>-8.999906e-01</td>\n",
       "      <td>-1.203902e+00</td>\n",
       "      <td>-1.234743e+00</td>\n",
       "      <td>-8.098852e-01</td>\n",
       "    </tr>\n",
       "    <tr>\n",
       "      <th>50%</th>\n",
       "      <td>2.149166e-02</td>\n",
       "      <td>4.527420e-02</td>\n",
       "      <td>-1.918347e-01</td>\n",
       "      <td>3.802413e-01</td>\n",
       "      <td>-5.285768e-01</td>\n",
       "      <td>-1.548371e-01</td>\n",
       "      <td>5.610418e-02</td>\n",
       "      <td>8.098852e-01</td>\n",
       "      <td>-8.098852e-01</td>\n",
       "    </tr>\n",
       "    <tr>\n",
       "      <th>75%</th>\n",
       "      <td>1.014407e+00</td>\n",
       "      <td>7.030314e-01</td>\n",
       "      <td>-1.918347e-01</td>\n",
       "      <td>3.802413e-01</td>\n",
       "      <td>3.168324e-01</td>\n",
       "      <td>5.903164e-01</td>\n",
       "      <td>7.761078e-01</td>\n",
       "      <td>8.098852e-01</td>\n",
       "      <td>1.234743e+00</td>\n",
       "    </tr>\n",
       "    <tr>\n",
       "      <th>max</th>\n",
       "      <td>1.676350e+00</td>\n",
       "      <td>2.018546e+00</td>\n",
       "      <td>2.950990e+00</td>\n",
       "      <td>3.195490e+00</td>\n",
       "      <td>2.430355e+00</td>\n",
       "      <td>2.080624e+00</td>\n",
       "      <td>1.496111e+00</td>\n",
       "      <td>8.098852e-01</td>\n",
       "      <td>1.234743e+00</td>\n",
       "    </tr>\n",
       "  </tbody>\n",
       "</table>\n",
       "</div>"
      ],
      "text/plain": [
       "       Corner Angle   Temperature        Speed   Friction Factor  \\\n",
       "count  1.540000e+02  1.540000e+02  1.540000e+02     1.540000e+02   \n",
       "mean   7.137148e-17  1.441848e-18 -2.162772e-16    -7.137148e-17   \n",
       "std    1.003263e+00  1.003263e+00  1.003263e+00     1.003263e+00   \n",
       "min   -1.302395e+00 -1.730670e+00 -1.448965e+00    -1.871957e+00   \n",
       "25%   -9.714232e-01 -6.124830e-01 -9.775408e-01    -7.458580e-01   \n",
       "50%    2.149166e-02  4.527420e-02 -1.918347e-01     3.802413e-01   \n",
       "75%    1.014407e+00  7.030314e-01 -1.918347e-01     3.802413e-01   \n",
       "max    1.676350e+00  2.018546e+00  2.950990e+00     3.195490e+00   \n",
       "\n",
       "        Temp of die  Initial Density  Back Pressure  TI-10V-2Fe-3Al  \\\n",
       "count  1.540000e+02     1.540000e+02   1.540000e+02    1.540000e+02   \n",
       "mean  -9.372013e-17     1.845566e-16   3.820897e-16    4.037175e-17   \n",
       "std    1.003263e+00     1.003263e+00   1.003263e+00    1.003263e+00   \n",
       "min   -7.701222e-01    -8.999906e-01  -1.383903e+00   -1.234743e+00   \n",
       "25%   -7.701222e-01    -8.999906e-01  -1.203902e+00   -1.234743e+00   \n",
       "50%   -5.285768e-01    -1.548371e-01   5.610418e-02    8.098852e-01   \n",
       "75%    3.168324e-01     5.903164e-01   7.761078e-01    8.098852e-01   \n",
       "max    2.430355e+00     2.080624e+00   1.496111e+00    8.098852e-01   \n",
       "\n",
       "       TI-13C11Cr3Al  \n",
       "count   1.540000e+02  \n",
       "mean   -1.066968e-16  \n",
       "std     1.003263e+00  \n",
       "min    -8.098852e-01  \n",
       "25%    -8.098852e-01  \n",
       "50%    -8.098852e-01  \n",
       "75%     1.234743e+00  \n",
       "max     1.234743e+00  "
      ]
     },
     "execution_count": 28,
     "metadata": {},
     "output_type": "execute_result"
    }
   ],
   "source": [
    "XScaled = X.apply(zscore)\n",
    "XScaled.describe()"
   ]
  },
  {
   "cell_type": "code",
   "execution_count": 29,
   "metadata": {},
   "outputs": [],
   "source": [
    "NNH = KNeighborsClassifier(n_neighbors = 19, weights='distance')"
   ]
  },
  {
   "cell_type": "code",
   "execution_count": 30,
   "metadata": {},
   "outputs": [
    {
     "data": {
      "text/plain": [
       "KNeighborsClassifier(n_neighbors=19, weights='distance')"
      ]
     },
     "execution_count": 30,
     "metadata": {},
     "output_type": "execute_result"
    }
   ],
   "source": [
    "NNH.fit(X_train,Y_train)"
   ]
  },
  {
   "cell_type": "code",
   "execution_count": 31,
   "metadata": {},
   "outputs": [
    {
     "data": {
      "text/plain": [
       "0.7659574468085106"
      ]
     },
     "execution_count": 31,
     "metadata": {},
     "output_type": "execute_result"
    }
   ],
   "source": [
    "predicted_labels = NNH.predict(X_test)\n",
    "NNH.score(X_test,Y_test)"
   ]
  },
  {
   "cell_type": "code",
   "execution_count": 32,
   "metadata": {},
   "outputs": [
    {
     "name": "stdout",
     "output_type": "stream",
     "text": [
      "0.9813084112149533\n",
      "0.7659574468085106\n"
     ]
    }
   ],
   "source": [
    "print(NNH.score(X_train,Y_train))\n",
    "print(NNH.score(X_test,Y_test))"
   ]
  },
  {
   "cell_type": "markdown",
   "metadata": {},
   "source": [
    "#### Model is over fitting"
   ]
  },
  {
   "cell_type": "markdown",
   "metadata": {},
   "source": [
    "## SVM"
   ]
  },
  {
   "cell_type": "code",
   "execution_count": 33,
   "metadata": {},
   "outputs": [],
   "source": [
    "from sklearn import svm"
   ]
  },
  {
   "cell_type": "code",
   "execution_count": 34,
   "metadata": {},
   "outputs": [],
   "source": [
    "from sklearn.svm import SVC"
   ]
  },
  {
   "cell_type": "code",
   "execution_count": 35,
   "metadata": {},
   "outputs": [
    {
     "data": {
      "text/plain": [
       "SVR(C=1, gamma='auto', kernel='linear')"
      ]
     },
     "execution_count": 35,
     "metadata": {},
     "output_type": "execute_result"
    }
   ],
   "source": [
    "reg = svm.SVR(kernel='linear',gamma='auto', C=1)\n",
    "reg.fit(X_train,Y_train)"
   ]
  },
  {
   "cell_type": "code",
   "execution_count": 36,
   "metadata": {},
   "outputs": [
    {
     "data": {
      "text/plain": [
       "0.657085638055656"
      ]
     },
     "execution_count": 36,
     "metadata": {},
     "output_type": "execute_result"
    }
   ],
   "source": [
    "reg.score(X_train, Y_train) "
   ]
  },
  {
   "cell_type": "code",
   "execution_count": 37,
   "metadata": {},
   "outputs": [
    {
     "data": {
      "text/plain": [
       "0.4382708227970017"
      ]
     },
     "execution_count": 37,
     "metadata": {},
     "output_type": "execute_result"
    }
   ],
   "source": [
    "reg.score(X_test, Y_test)"
   ]
  },
  {
   "cell_type": "markdown",
   "metadata": {},
   "source": [
    "#### RBF is highly over fitting and linear is also over fitting"
   ]
  },
  {
   "cell_type": "markdown",
   "metadata": {},
   "source": [
    "## Bagging"
   ]
  },
  {
   "cell_type": "code",
   "execution_count": 38,
   "metadata": {},
   "outputs": [],
   "source": [
    "from sklearn.ensemble import BaggingClassifier"
   ]
  },
  {
   "cell_type": "code",
   "execution_count": 51,
   "metadata": {},
   "outputs": [
    {
     "name": "stdout",
     "output_type": "stream",
     "text": [
      "0.9813084112149533\n",
      "0.8936170212765957\n"
     ]
    }
   ],
   "source": [
    "bgr= BaggingClassifier (n_estimators=9,random_state=25)\n",
    "bgr=bgr.fit(X_train,Y_train)\n",
    "print(bgr.score(X_train,Y_train))\n",
    "print(bgr.score(X_test,Y_test))\n",
    "bgr_tr=bgr.score(X_train,Y_train)\n",
    "bgr_ts=bgr.score(X_test,Y_test)"
   ]
  },
  {
   "cell_type": "markdown",
   "metadata": {},
   "source": [
    "## AdaBoost"
   ]
  },
  {
   "cell_type": "code",
   "execution_count": 40,
   "metadata": {},
   "outputs": [],
   "source": [
    "from sklearn.ensemble import AdaBoostClassifier"
   ]
  },
  {
   "cell_type": "code",
   "execution_count": 52,
   "metadata": {},
   "outputs": [
    {
     "name": "stdout",
     "output_type": "stream",
     "text": [
      "0.9532710280373832\n",
      "0.9361702127659575\n"
     ]
    }
   ],
   "source": [
    "adr= AdaBoostClassifier (n_estimators=10,random_state=25)\n",
    "adr=adr.fit(X_train,Y_train)\n",
    "print(adr.score(X_train,Y_train))\n",
    "print(adr.score(X_test,Y_test))\n",
    "adr_tr=adr.score(X_train,Y_train)\n",
    "adr_ts=adr.score(X_test,Y_test)"
   ]
  },
  {
   "cell_type": "markdown",
   "metadata": {},
   "source": [
    "#### Best Model"
   ]
  },
  {
   "cell_type": "markdown",
   "metadata": {},
   "source": [
    "## GradientBoosting"
   ]
  },
  {
   "cell_type": "code",
   "execution_count": 42,
   "metadata": {},
   "outputs": [],
   "source": [
    "from sklearn.ensemble import GradientBoostingClassifier"
   ]
  },
  {
   "cell_type": "code",
   "execution_count": 53,
   "metadata": {
    "scrolled": true
   },
   "outputs": [
    {
     "name": "stdout",
     "output_type": "stream",
     "text": [
      "0.9626168224299065\n",
      "0.9148936170212766\n"
     ]
    }
   ],
   "source": [
    "gbr= GradientBoostingClassifier (n_estimators=10,random_state=25)\n",
    "gbr=gbr.fit(X_train,Y_train)\n",
    "print(gbr.score(X_train,Y_train))\n",
    "print(gbr.score(X_test,Y_test))\n",
    "gbr_tr=gbr.score(X_train,Y_train)\n",
    "gbr_ts=gbr.score(X_test,Y_test)"
   ]
  },
  {
   "cell_type": "markdown",
   "metadata": {},
   "source": [
    "## Decision Tree"
   ]
  },
  {
   "cell_type": "code",
   "execution_count": 44,
   "metadata": {},
   "outputs": [],
   "source": [
    "from sklearn.tree import DecisionTreeClassifier"
   ]
  },
  {
   "cell_type": "code",
   "execution_count": 45,
   "metadata": {},
   "outputs": [
    {
     "data": {
      "text/plain": [
       "DecisionTreeClassifier(max_depth=5, random_state=25)"
      ]
     },
     "execution_count": 45,
     "metadata": {},
     "output_type": "execute_result"
    }
   ],
   "source": [
    "dTree= DecisionTreeClassifier(criterion='gini',splitter='best',random_state=25,max_depth=5)\n",
    "dTree.fit(X_train,Y_train)"
   ]
  },
  {
   "cell_type": "code",
   "execution_count": 54,
   "metadata": {},
   "outputs": [
    {
     "name": "stdout",
     "output_type": "stream",
     "text": [
      "0.9813084112149533\n",
      "0.9361702127659575\n"
     ]
    }
   ],
   "source": [
    "print(dTree.score(X_train,Y_train)) \n",
    "print(dTree.score(X_test,Y_test))\n",
    "dTree_tr=dTree.score(X_train,Y_train)\n",
    "dTree_ts=dTree.score(X_test,Y_test)"
   ]
  },
  {
   "cell_type": "markdown",
   "metadata": {},
   "source": [
    "## RandomForest"
   ]
  },
  {
   "cell_type": "code",
   "execution_count": 47,
   "metadata": {},
   "outputs": [],
   "source": [
    "from sklearn.ensemble import RandomForestClassifier"
   ]
  },
  {
   "cell_type": "code",
   "execution_count": 48,
   "metadata": {},
   "outputs": [],
   "source": [
    "rfr= RandomForestClassifier (n_estimators=10,random_state=25,max_features=5)\n",
    "rfr=rfr.fit(X_train,Y_train)"
   ]
  },
  {
   "cell_type": "code",
   "execution_count": 49,
   "metadata": {},
   "outputs": [
    {
     "name": "stdout",
     "output_type": "stream",
     "text": [
      "0.9813084112149533\n",
      "0.8723404255319149\n"
     ]
    }
   ],
   "source": [
    "print(rfr.score(X_train,Y_train))\n",
    "print(rfr.score(X_test,Y_test))\n",
    "rfr_tr=rfr.score(X_train,Y_train)\n",
    "rfr_ts=rfr.score(X_test,Y_test)"
   ]
  },
  {
   "cell_type": "markdown",
   "metadata": {},
   "source": [
    "## Comparison of models"
   ]
  },
  {
   "cell_type": "code",
   "execution_count": 59,
   "metadata": {},
   "outputs": [
    {
     "data": {
      "text/html": [
       "<div>\n",
       "<style scoped>\n",
       "    .dataframe tbody tr th:only-of-type {\n",
       "        vertical-align: middle;\n",
       "    }\n",
       "\n",
       "    .dataframe tbody tr th {\n",
       "        vertical-align: top;\n",
       "    }\n",
       "\n",
       "    .dataframe thead th {\n",
       "        text-align: right;\n",
       "    }\n",
       "</style>\n",
       "<table border=\"1\" class=\"dataframe\">\n",
       "  <thead>\n",
       "    <tr style=\"text-align: right;\">\n",
       "      <th></th>\n",
       "      <th>Model</th>\n",
       "      <th>Train Score</th>\n",
       "      <th>Test Score</th>\n",
       "    </tr>\n",
       "  </thead>\n",
       "  <tbody>\n",
       "    <tr>\n",
       "      <th>0</th>\n",
       "      <td>Bagging</td>\n",
       "      <td>0.981308</td>\n",
       "      <td>0.893617</td>\n",
       "    </tr>\n",
       "    <tr>\n",
       "      <th>1</th>\n",
       "      <td>AdaBoost</td>\n",
       "      <td>0.953271</td>\n",
       "      <td>0.936170</td>\n",
       "    </tr>\n",
       "    <tr>\n",
       "      <th>2</th>\n",
       "      <td>GradientBoosting</td>\n",
       "      <td>0.962617</td>\n",
       "      <td>0.914894</td>\n",
       "    </tr>\n",
       "    <tr>\n",
       "      <th>3</th>\n",
       "      <td>Decision Tree</td>\n",
       "      <td>0.981308</td>\n",
       "      <td>0.936170</td>\n",
       "    </tr>\n",
       "    <tr>\n",
       "      <th>4</th>\n",
       "      <td>RandomForest</td>\n",
       "      <td>0.981308</td>\n",
       "      <td>0.872340</td>\n",
       "    </tr>\n",
       "  </tbody>\n",
       "</table>\n",
       "</div>"
      ],
      "text/plain": [
       "              Model  Train Score  Test Score\n",
       "0           Bagging     0.981308    0.893617\n",
       "1          AdaBoost     0.953271    0.936170\n",
       "2  GradientBoosting     0.962617    0.914894\n",
       "3     Decision Tree     0.981308    0.936170\n",
       "4      RandomForest     0.981308    0.872340"
      ]
     },
     "execution_count": 59,
     "metadata": {},
     "output_type": "execute_result"
    }
   ],
   "source": [
    "score_res = pd.DataFrame({'Model':['Bagging','AdaBoost','GradientBoosting','Decision Tree','RandomForest'],\n",
    "                          'Train Score':[bgr_tr, adr_tr, gbr_tr,dTree_tr,rfr_tr],\n",
    "                         'Test Score':[bgr_ts, adr_ts, gbr_ts,dTree_ts,rfr_ts]\n",
    "                         })\n",
    "score_res"
   ]
  },
  {
   "cell_type": "code",
   "execution_count": null,
   "metadata": {},
   "outputs": [],
   "source": [
    "# Adaboost is the best"
   ]
  }
 ],
 "metadata": {
  "kernelspec": {
   "display_name": "Python 3",
   "language": "python",
   "name": "python3"
  },
  "language_info": {
   "codemirror_mode": {
    "name": "ipython",
    "version": 3
   },
   "file_extension": ".py",
   "mimetype": "text/x-python",
   "name": "python",
   "nbconvert_exporter": "python",
   "pygments_lexer": "ipython3",
   "version": "3.8.5"
  }
 },
 "nbformat": 4,
 "nbformat_minor": 4
}
